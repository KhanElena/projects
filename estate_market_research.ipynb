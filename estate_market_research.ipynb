{
 "cells": [
  {
   "cell_type": "markdown",
   "metadata": {},
   "source": [
    "# Исследование объявлений о продаже квартир\n",
    "\n",
    "В вашем распоряжении данные сервиса Яндекс.Недвижимость — архив объявлений о продаже квартир в Санкт-Петербурге и соседних населённых пунктов за несколько лет. Нужно научиться определять рыночную стоимость объектов недвижимости. Ваша задача — установить параметры. Это позволит построить автоматизированную систему: она отследит аномалии и мошенническую деятельность. \n",
    "\n",
    "По каждой квартире на продажу доступны два вида данных. Первые вписаны пользователем, вторые — получены автоматически на основе картографических данных. Например, расстояние до центра, аэропорта, ближайшего парка и водоёма. "
   ]
  },
  {
   "cell_type": "markdown",
   "metadata": {},
   "source": [
    "### Изучение общей информации. "
   ]
  },
  {
   "cell_type": "code",
   "execution_count": 1,
   "metadata": {},
   "outputs": [],
   "source": [
    "import pandas as pd\n",
    "import numpy as np"
   ]
  },
  {
   "cell_type": "code",
   "execution_count": 2,
   "metadata": {},
   "outputs": [
    {
     "data": {
      "text/html": [
       "<div>\n",
       "<style scoped>\n",
       "    .dataframe tbody tr th:only-of-type {\n",
       "        vertical-align: middle;\n",
       "    }\n",
       "\n",
       "    .dataframe tbody tr th {\n",
       "        vertical-align: top;\n",
       "    }\n",
       "\n",
       "    .dataframe thead th {\n",
       "        text-align: right;\n",
       "    }\n",
       "</style>\n",
       "<table border=\"1\" class=\"dataframe\">\n",
       "  <thead>\n",
       "    <tr style=\"text-align: right;\">\n",
       "      <th></th>\n",
       "      <th>total_images</th>\n",
       "      <th>last_price</th>\n",
       "      <th>total_area</th>\n",
       "      <th>first_day_exposition</th>\n",
       "      <th>rooms</th>\n",
       "      <th>ceiling_height</th>\n",
       "      <th>floors_total</th>\n",
       "      <th>living_area</th>\n",
       "      <th>floor</th>\n",
       "      <th>is_apartment</th>\n",
       "      <th>studio</th>\n",
       "      <th>open_plan</th>\n",
       "      <th>kitchen_area</th>\n",
       "      <th>balcony</th>\n",
       "      <th>locality_name</th>\n",
       "      <th>airports_nearest</th>\n",
       "      <th>cityCenters_nearest</th>\n",
       "      <th>parks_around3000</th>\n",
       "      <th>parks_nearest</th>\n",
       "      <th>ponds_around3000</th>\n",
       "      <th>ponds_nearest</th>\n",
       "      <th>days_exposition</th>\n",
       "    </tr>\n",
       "  </thead>\n",
       "  <tbody>\n",
       "    <tr>\n",
       "      <th>0</th>\n",
       "      <td>20</td>\n",
       "      <td>13000000.0</td>\n",
       "      <td>108.00</td>\n",
       "      <td>2019-03-07T00:00:00</td>\n",
       "      <td>3</td>\n",
       "      <td>2.70</td>\n",
       "      <td>16.0</td>\n",
       "      <td>51.00</td>\n",
       "      <td>8</td>\n",
       "      <td>NaN</td>\n",
       "      <td>False</td>\n",
       "      <td>False</td>\n",
       "      <td>25.00</td>\n",
       "      <td>NaN</td>\n",
       "      <td>Санкт-Петербург</td>\n",
       "      <td>18863.0</td>\n",
       "      <td>16028.0</td>\n",
       "      <td>1.0</td>\n",
       "      <td>482.0</td>\n",
       "      <td>2.0</td>\n",
       "      <td>755.0</td>\n",
       "      <td>NaN</td>\n",
       "    </tr>\n",
       "    <tr>\n",
       "      <th>1</th>\n",
       "      <td>7</td>\n",
       "      <td>3350000.0</td>\n",
       "      <td>40.40</td>\n",
       "      <td>2018-12-04T00:00:00</td>\n",
       "      <td>1</td>\n",
       "      <td>NaN</td>\n",
       "      <td>11.0</td>\n",
       "      <td>18.60</td>\n",
       "      <td>1</td>\n",
       "      <td>NaN</td>\n",
       "      <td>False</td>\n",
       "      <td>False</td>\n",
       "      <td>11.00</td>\n",
       "      <td>2.0</td>\n",
       "      <td>посёлок Шушары</td>\n",
       "      <td>12817.0</td>\n",
       "      <td>18603.0</td>\n",
       "      <td>0.0</td>\n",
       "      <td>NaN</td>\n",
       "      <td>0.0</td>\n",
       "      <td>NaN</td>\n",
       "      <td>81.0</td>\n",
       "    </tr>\n",
       "    <tr>\n",
       "      <th>2</th>\n",
       "      <td>10</td>\n",
       "      <td>5196000.0</td>\n",
       "      <td>56.00</td>\n",
       "      <td>2015-08-20T00:00:00</td>\n",
       "      <td>2</td>\n",
       "      <td>NaN</td>\n",
       "      <td>5.0</td>\n",
       "      <td>34.30</td>\n",
       "      <td>4</td>\n",
       "      <td>NaN</td>\n",
       "      <td>False</td>\n",
       "      <td>False</td>\n",
       "      <td>8.30</td>\n",
       "      <td>0.0</td>\n",
       "      <td>Санкт-Петербург</td>\n",
       "      <td>21741.0</td>\n",
       "      <td>13933.0</td>\n",
       "      <td>1.0</td>\n",
       "      <td>90.0</td>\n",
       "      <td>2.0</td>\n",
       "      <td>574.0</td>\n",
       "      <td>558.0</td>\n",
       "    </tr>\n",
       "    <tr>\n",
       "      <th>3</th>\n",
       "      <td>0</td>\n",
       "      <td>64900000.0</td>\n",
       "      <td>159.00</td>\n",
       "      <td>2015-07-24T00:00:00</td>\n",
       "      <td>3</td>\n",
       "      <td>NaN</td>\n",
       "      <td>14.0</td>\n",
       "      <td>NaN</td>\n",
       "      <td>9</td>\n",
       "      <td>NaN</td>\n",
       "      <td>False</td>\n",
       "      <td>False</td>\n",
       "      <td>NaN</td>\n",
       "      <td>0.0</td>\n",
       "      <td>Санкт-Петербург</td>\n",
       "      <td>28098.0</td>\n",
       "      <td>6800.0</td>\n",
       "      <td>2.0</td>\n",
       "      <td>84.0</td>\n",
       "      <td>3.0</td>\n",
       "      <td>234.0</td>\n",
       "      <td>424.0</td>\n",
       "    </tr>\n",
       "    <tr>\n",
       "      <th>4</th>\n",
       "      <td>2</td>\n",
       "      <td>10000000.0</td>\n",
       "      <td>100.00</td>\n",
       "      <td>2018-06-19T00:00:00</td>\n",
       "      <td>2</td>\n",
       "      <td>3.03</td>\n",
       "      <td>14.0</td>\n",
       "      <td>32.00</td>\n",
       "      <td>13</td>\n",
       "      <td>NaN</td>\n",
       "      <td>False</td>\n",
       "      <td>False</td>\n",
       "      <td>41.00</td>\n",
       "      <td>NaN</td>\n",
       "      <td>Санкт-Петербург</td>\n",
       "      <td>31856.0</td>\n",
       "      <td>8098.0</td>\n",
       "      <td>2.0</td>\n",
       "      <td>112.0</td>\n",
       "      <td>1.0</td>\n",
       "      <td>48.0</td>\n",
       "      <td>121.0</td>\n",
       "    </tr>\n",
       "    <tr>\n",
       "      <th>5</th>\n",
       "      <td>10</td>\n",
       "      <td>2890000.0</td>\n",
       "      <td>30.40</td>\n",
       "      <td>2018-09-10T00:00:00</td>\n",
       "      <td>1</td>\n",
       "      <td>NaN</td>\n",
       "      <td>12.0</td>\n",
       "      <td>14.40</td>\n",
       "      <td>5</td>\n",
       "      <td>NaN</td>\n",
       "      <td>False</td>\n",
       "      <td>False</td>\n",
       "      <td>9.10</td>\n",
       "      <td>NaN</td>\n",
       "      <td>городской посёлок Янино-1</td>\n",
       "      <td>NaN</td>\n",
       "      <td>NaN</td>\n",
       "      <td>NaN</td>\n",
       "      <td>NaN</td>\n",
       "      <td>NaN</td>\n",
       "      <td>NaN</td>\n",
       "      <td>55.0</td>\n",
       "    </tr>\n",
       "    <tr>\n",
       "      <th>6</th>\n",
       "      <td>6</td>\n",
       "      <td>3700000.0</td>\n",
       "      <td>37.30</td>\n",
       "      <td>2017-11-02T00:00:00</td>\n",
       "      <td>1</td>\n",
       "      <td>NaN</td>\n",
       "      <td>26.0</td>\n",
       "      <td>10.60</td>\n",
       "      <td>6</td>\n",
       "      <td>NaN</td>\n",
       "      <td>False</td>\n",
       "      <td>False</td>\n",
       "      <td>14.40</td>\n",
       "      <td>1.0</td>\n",
       "      <td>посёлок Парголово</td>\n",
       "      <td>52996.0</td>\n",
       "      <td>19143.0</td>\n",
       "      <td>0.0</td>\n",
       "      <td>NaN</td>\n",
       "      <td>0.0</td>\n",
       "      <td>NaN</td>\n",
       "      <td>155.0</td>\n",
       "    </tr>\n",
       "    <tr>\n",
       "      <th>7</th>\n",
       "      <td>5</td>\n",
       "      <td>7915000.0</td>\n",
       "      <td>71.60</td>\n",
       "      <td>2019-04-18T00:00:00</td>\n",
       "      <td>2</td>\n",
       "      <td>NaN</td>\n",
       "      <td>24.0</td>\n",
       "      <td>NaN</td>\n",
       "      <td>22</td>\n",
       "      <td>NaN</td>\n",
       "      <td>False</td>\n",
       "      <td>False</td>\n",
       "      <td>18.90</td>\n",
       "      <td>2.0</td>\n",
       "      <td>Санкт-Петербург</td>\n",
       "      <td>23982.0</td>\n",
       "      <td>11634.0</td>\n",
       "      <td>0.0</td>\n",
       "      <td>NaN</td>\n",
       "      <td>0.0</td>\n",
       "      <td>NaN</td>\n",
       "      <td>NaN</td>\n",
       "    </tr>\n",
       "    <tr>\n",
       "      <th>8</th>\n",
       "      <td>20</td>\n",
       "      <td>2900000.0</td>\n",
       "      <td>33.16</td>\n",
       "      <td>2018-05-23T00:00:00</td>\n",
       "      <td>1</td>\n",
       "      <td>NaN</td>\n",
       "      <td>27.0</td>\n",
       "      <td>15.43</td>\n",
       "      <td>26</td>\n",
       "      <td>NaN</td>\n",
       "      <td>False</td>\n",
       "      <td>False</td>\n",
       "      <td>8.81</td>\n",
       "      <td>NaN</td>\n",
       "      <td>посёлок Мурино</td>\n",
       "      <td>NaN</td>\n",
       "      <td>NaN</td>\n",
       "      <td>NaN</td>\n",
       "      <td>NaN</td>\n",
       "      <td>NaN</td>\n",
       "      <td>NaN</td>\n",
       "      <td>189.0</td>\n",
       "    </tr>\n",
       "    <tr>\n",
       "      <th>9</th>\n",
       "      <td>18</td>\n",
       "      <td>5400000.0</td>\n",
       "      <td>61.00</td>\n",
       "      <td>2017-02-26T00:00:00</td>\n",
       "      <td>3</td>\n",
       "      <td>2.50</td>\n",
       "      <td>9.0</td>\n",
       "      <td>43.60</td>\n",
       "      <td>7</td>\n",
       "      <td>NaN</td>\n",
       "      <td>False</td>\n",
       "      <td>False</td>\n",
       "      <td>6.50</td>\n",
       "      <td>2.0</td>\n",
       "      <td>Санкт-Петербург</td>\n",
       "      <td>50898.0</td>\n",
       "      <td>15008.0</td>\n",
       "      <td>0.0</td>\n",
       "      <td>NaN</td>\n",
       "      <td>0.0</td>\n",
       "      <td>NaN</td>\n",
       "      <td>289.0</td>\n",
       "    </tr>\n",
       "  </tbody>\n",
       "</table>\n",
       "</div>"
      ],
      "text/plain": [
       "   total_images  last_price  total_area first_day_exposition  rooms  \\\n",
       "0            20  13000000.0      108.00  2019-03-07T00:00:00      3   \n",
       "1             7   3350000.0       40.40  2018-12-04T00:00:00      1   \n",
       "2            10   5196000.0       56.00  2015-08-20T00:00:00      2   \n",
       "3             0  64900000.0      159.00  2015-07-24T00:00:00      3   \n",
       "4             2  10000000.0      100.00  2018-06-19T00:00:00      2   \n",
       "5            10   2890000.0       30.40  2018-09-10T00:00:00      1   \n",
       "6             6   3700000.0       37.30  2017-11-02T00:00:00      1   \n",
       "7             5   7915000.0       71.60  2019-04-18T00:00:00      2   \n",
       "8            20   2900000.0       33.16  2018-05-23T00:00:00      1   \n",
       "9            18   5400000.0       61.00  2017-02-26T00:00:00      3   \n",
       "\n",
       "   ceiling_height  floors_total  living_area  floor is_apartment  studio  \\\n",
       "0            2.70          16.0        51.00      8          NaN   False   \n",
       "1             NaN          11.0        18.60      1          NaN   False   \n",
       "2             NaN           5.0        34.30      4          NaN   False   \n",
       "3             NaN          14.0          NaN      9          NaN   False   \n",
       "4            3.03          14.0        32.00     13          NaN   False   \n",
       "5             NaN          12.0        14.40      5          NaN   False   \n",
       "6             NaN          26.0        10.60      6          NaN   False   \n",
       "7             NaN          24.0          NaN     22          NaN   False   \n",
       "8             NaN          27.0        15.43     26          NaN   False   \n",
       "9            2.50           9.0        43.60      7          NaN   False   \n",
       "\n",
       "   open_plan  kitchen_area  balcony              locality_name  \\\n",
       "0      False         25.00      NaN            Санкт-Петербург   \n",
       "1      False         11.00      2.0             посёлок Шушары   \n",
       "2      False          8.30      0.0            Санкт-Петербург   \n",
       "3      False           NaN      0.0            Санкт-Петербург   \n",
       "4      False         41.00      NaN            Санкт-Петербург   \n",
       "5      False          9.10      NaN  городской посёлок Янино-1   \n",
       "6      False         14.40      1.0          посёлок Парголово   \n",
       "7      False         18.90      2.0            Санкт-Петербург   \n",
       "8      False          8.81      NaN             посёлок Мурино   \n",
       "9      False          6.50      2.0            Санкт-Петербург   \n",
       "\n",
       "   airports_nearest  cityCenters_nearest  parks_around3000  parks_nearest  \\\n",
       "0           18863.0              16028.0               1.0          482.0   \n",
       "1           12817.0              18603.0               0.0            NaN   \n",
       "2           21741.0              13933.0               1.0           90.0   \n",
       "3           28098.0               6800.0               2.0           84.0   \n",
       "4           31856.0               8098.0               2.0          112.0   \n",
       "5               NaN                  NaN               NaN            NaN   \n",
       "6           52996.0              19143.0               0.0            NaN   \n",
       "7           23982.0              11634.0               0.0            NaN   \n",
       "8               NaN                  NaN               NaN            NaN   \n",
       "9           50898.0              15008.0               0.0            NaN   \n",
       "\n",
       "   ponds_around3000  ponds_nearest  days_exposition  \n",
       "0               2.0          755.0              NaN  \n",
       "1               0.0            NaN             81.0  \n",
       "2               2.0          574.0            558.0  \n",
       "3               3.0          234.0            424.0  \n",
       "4               1.0           48.0            121.0  \n",
       "5               NaN            NaN             55.0  \n",
       "6               0.0            NaN            155.0  \n",
       "7               0.0            NaN              NaN  \n",
       "8               NaN            NaN            189.0  \n",
       "9               0.0            NaN            289.0  "
      ]
     },
     "execution_count": 2,
     "metadata": {},
     "output_type": "execute_result"
    }
   ],
   "source": [
    "data = pd.read_csv('/datasets/real_estate_data.csv', sep='\\t')\n",
    "pd.set_option('display.max_columns', None)\n",
    "data.head(10)"
   ]
  },
  {
   "cell_type": "markdown",
   "metadata": {},
   "source": [
    "Количество строк:"
   ]
  },
  {
   "cell_type": "code",
   "execution_count": 3,
   "metadata": {},
   "outputs": [
    {
     "name": "stdout",
     "output_type": "stream",
     "text": [
      "23699\n"
     ]
    }
   ],
   "source": [
    "start = len(data) \n",
    "print(start )"
   ]
  },
  {
   "cell_type": "code",
   "execution_count": 4,
   "metadata": {},
   "outputs": [
    {
     "name": "stdout",
     "output_type": "stream",
     "text": [
      "<class 'pandas.core.frame.DataFrame'>\n",
      "RangeIndex: 23699 entries, 0 to 23698\n",
      "Data columns (total 22 columns):\n",
      " #   Column                Non-Null Count  Dtype  \n",
      "---  ------                --------------  -----  \n",
      " 0   total_images          23699 non-null  int64  \n",
      " 1   last_price            23699 non-null  float64\n",
      " 2   total_area            23699 non-null  float64\n",
      " 3   first_day_exposition  23699 non-null  object \n",
      " 4   rooms                 23699 non-null  int64  \n",
      " 5   ceiling_height        14504 non-null  float64\n",
      " 6   floors_total          23613 non-null  float64\n",
      " 7   living_area           21796 non-null  float64\n",
      " 8   floor                 23699 non-null  int64  \n",
      " 9   is_apartment          2775 non-null   object \n",
      " 10  studio                23699 non-null  bool   \n",
      " 11  open_plan             23699 non-null  bool   \n",
      " 12  kitchen_area          21421 non-null  float64\n",
      " 13  balcony               12180 non-null  float64\n",
      " 14  locality_name         23650 non-null  object \n",
      " 15  airports_nearest      18157 non-null  float64\n",
      " 16  cityCenters_nearest   18180 non-null  float64\n",
      " 17  parks_around3000      18181 non-null  float64\n",
      " 18  parks_nearest         8079 non-null   float64\n",
      " 19  ponds_around3000      18181 non-null  float64\n",
      " 20  ponds_nearest         9110 non-null   float64\n",
      " 21  days_exposition       20518 non-null  float64\n",
      "dtypes: bool(2), float64(14), int64(3), object(3)\n",
      "memory usage: 3.7+ MB\n"
     ]
    }
   ],
   "source": [
    "data.info()"
   ]
  },
  {
   "cell_type": "markdown",
   "metadata": {},
   "source": [
    "Общая гистограмма"
   ]
  },
  {
   "cell_type": "code",
   "execution_count": 5,
   "metadata": {},
   "outputs": [
    {
     "data": {
      "image/png": "[encoded data removed]",
      "text/plain": [
       "<Figure size 1080x1440 with 20 Axes>"
      ]
     },
     "metadata": {
      "needs_background": "light"
     },
     "output_type": "display_data"
    }
   ],
   "source": [
    "data.hist(figsize=(15, 20));"
   ]
  },
  {
   "cell_type": "markdown",
   "metadata": {},
   "source": [
    "Если рассматривать исходные данные без предобработки, то можно сделать следующие выводы:\n",
    "    \n",
    "    - итоговая цена не превышает 1е8 рублей\n",
    "    - площадь не превышает 300 м^2\n",
    "    - большенство квартир 2-3 комнатные\n",
    "По общей информации видно, что существует множество пустых ячеек"
   ]
  },
  {
   "cell_type": "markdown",
   "metadata": {},
   "source": [
    "### Предобработка данных"
   ]
  },
  {
   "cell_type": "markdown",
   "metadata": {},
   "source": [
    "Столбцы, в которых есть пропуски"
   ]
  },
  {
   "cell_type": "code",
   "execution_count": 6,
   "metadata": {},
   "outputs": [
    {
     "name": "stdout",
     "output_type": "stream",
     "text": [
      "ceiling_height\n",
      "floors_total\n",
      "living_area\n",
      "is_apartment\n",
      "kitchen_area\n",
      "balcony\n",
      "locality_name\n",
      "airports_nearest\n",
      "cityCenters_nearest\n",
      "parks_around3000\n",
      "parks_nearest\n",
      "ponds_around3000\n",
      "ponds_nearest\n",
      "days_exposition\n"
     ]
    }
   ],
   "source": [
    "#проверка в каких столбцах есть пропуски:\n",
    "for column in data:\n",
    "    val_col = data[column]\n",
    "    if val_col.isna().sum() > 0:\n",
    "        print(column)    "
   ]
  },
  {
   "cell_type": "markdown",
   "metadata": {},
   "source": [
    "Среди этих столбцов есть те, где легко заполнить пропускию\n",
    "В столбцах is_apartment, balcony, parks_around3000, ponds_around3000 пропуски скорее всего обозначают отсутствие наличия интересуемых моментов или отрицательный ответ. Заполним их:"
   ]
  },
  {
   "cell_type": "code",
   "execution_count": 7,
   "metadata": {},
   "outputs": [],
   "source": [
    "data['is_apartment'] = data['is_apartment'].fillna(False)\n",
    "data['balcony'] = data['balcony'].fillna(0)\n",
    "data['parks_around3000'] = data['parks_around3000'].fillna(0)\n",
    "data['ponds_around3000'] = data['ponds_around3000'].fillna(0)"
   ]
  },
  {
   "cell_type": "markdown",
   "metadata": {},
   "source": [
    "Теперь разберемся с остальными столбцами. В ceiling_height, floors_total, living_area, kitchen_area можно заменить значения медианным, чтобы проводить дальнейшее исследование, так как в этих стобцах могут быть серьезные отклонения, которые исказят средний результат и он будет неправдоподобный. Однако не забываем про зависимость столбцов living_area и kitchen_area от столбца total_area. Для максимально четкого анализа предлагаю следующую схему:\n",
    "1. найти медианное значение доли площади кухни от общей площади квартиры (med_k)\n",
    "2. заполнять пропуски значением med_k'*'Sквартиры\n",
    "\n",
    "Аналогично поступаем с living_area"
   ]
  },
  {
   "cell_type": "code",
   "execution_count": 8,
   "metadata": {},
   "outputs": [
    {
     "name": "stdout",
     "output_type": "stream",
     "text": [
      "медианное значение площади кухни 9.1\n",
      "медианное значение жилой площади 30.0\n",
      "медианное значение доли площади кухни от общей площади квартиры 0.175\n",
      "медианное значение доли жилой площади от общей площади квартиры 0.5769230769230769\n"
     ]
    }
   ],
   "source": [
    "median_col = ['ceiling_height', 'floors_total']\n",
    "\n",
    "for val in median_col:\n",
    "    data[val] = data[val].fillna(round(data[val].median()))\n",
    "\n",
    "\n",
    "median_kitchen = data['kitchen_area'].median()\n",
    "median_living = data['living_area'].median()\n",
    "median_total = data['total_area'].median()\n",
    "med_k = median_kitchen/median_total\n",
    "med_l = median_living/median_total\n",
    "\n",
    "print('медианное значение площади кухни', median_kitchen)\n",
    "print('медианное значение жилой площади', median_living)\n",
    "print('медианное значение доли площади кухни от общей площади квартиры', med_k)\n",
    "print('медианное значение доли жилой площади от общей площади квартиры', med_l)\n",
    "\n",
    "\n",
    "#Разбираемся с кухней\n",
    "data['kitchen_area'] = data['kitchen_area'].fillna(round(data['total_area']*med_k))\n",
    "#Разбираемся с жилой площадью  \n",
    "data['living_area'] = data['living_area'].fillna(round(data['total_area']*med_l))     "
   ]
  },
  {
   "cell_type": "markdown",
   "metadata": {},
   "source": [
    "Пропуски в столбцах с картографическими данными не будем трогать, так как нельзя получить достоверную информацию.\n",
    "В столбце days_exposition пропуски означают, что квартира не продана. Соответственно, их заполнение невозможно. \n",
    "Но эти пропуски не должны оказать большое влияние на общий анализ данных"
   ]
  },
  {
   "cell_type": "markdown",
   "metadata": {},
   "source": [
    "А вот строки, где имеются пропуски в столбце locality_name думаю, нужно удалить. Так как замена пропусков на случайное значение может привести к нереалистичным результатам и процент подобных строк совсем невелик."
   ]
  },
  {
   "cell_type": "code",
   "execution_count": 9,
   "metadata": {},
   "outputs": [
    {
     "name": "stdout",
     "output_type": "stream",
     "text": [
      "0.20675977889362418 %\n"
     ]
    }
   ],
   "source": [
    "#Процент \n",
    "print(data['locality_name'].isna().sum()/len(data)*100, '%')"
   ]
  },
  {
   "cell_type": "code",
   "execution_count": 10,
   "metadata": {},
   "outputs": [],
   "source": [
    "#Удаляем строки с пропусками в этом столбце\n",
    "data = data[data['locality_name'].isna() == False].reset_index()"
   ]
  },
  {
   "cell_type": "markdown",
   "metadata": {},
   "source": [
    "Теперь изменим некоторым столбцам тип данных, чтобы все было корректно и логично"
   ]
  },
  {
   "cell_type": "markdown",
   "metadata": {},
   "source": [
    "Можем заметить, что столбцы last_price, floors_total, balcony, airports_nearest, cityCenters_nearest, parks_around3000, parks_nearest, ponds_around3000, ponds_neares, days_exposition на самом деле содержат целые значения."
   ]
  },
  {
   "cell_type": "code",
   "execution_count": 11,
   "metadata": {},
   "outputs": [
    {
     "name": "stdout",
     "output_type": "stream",
     "text": [
      "cумма десятичных частей в last_price 0.0\n",
      "cумма десятичных частей в floors_total 0.0\n",
      "cумма десятичных частей в balcony 0.0\n",
      "cумма десятичных частей в airports_nearest 0.0\n",
      "cумма десятичных частей в cityCenters_nearest 0.0\n",
      "cумма десятичных частей в parks_around3000 0.0\n",
      "cумма десятичных частей в parks_nearest 0.0\n",
      "cумма десятичных частей в ponds_around3000 0.0\n",
      "cумма десятичных частей в ponds_nearest 0.0\n",
      "cумма десятичных частей в days_exposition 0.0\n"
     ]
    }
   ],
   "source": [
    "pruv = ['last_price', 'floors_total', 'balcony', 'airports_nearest', 'cityCenters_nearest', 'parks_around3000', 'parks_nearest', 'ponds_around3000', 'ponds_nearest', 'days_exposition']\n",
    "for val in pruv:\n",
    "    k = data['cityCenters_nearest'].multiply(10).mod(10).sum()\n",
    "    print('cумма десятичных частей в', val, k)"
   ]
  },
  {
   "cell_type": "code",
   "execution_count": 12,
   "metadata": {},
   "outputs": [
    {
     "name": "stdout",
     "output_type": "stream",
     "text": [
      "Убедимся, что все изменения выполнены\n",
      "<class 'pandas.core.frame.DataFrame'>\n",
      "RangeIndex: 23650 entries, 0 to 23649\n",
      "Data columns (total 23 columns):\n",
      " #   Column                Non-Null Count  Dtype         \n",
      "---  ------                --------------  -----         \n",
      " 0   index                 23650 non-null  int64         \n",
      " 1   total_images          23650 non-null  int64         \n",
      " 2   last_price            23650 non-null  int64         \n",
      " 3   total_area            23650 non-null  float64       \n",
      " 4   first_day_exposition  23650 non-null  datetime64[ns]\n",
      " 5   rooms                 23650 non-null  int64         \n",
      " 6   ceiling_height        23650 non-null  float64       \n",
      " 7   floors_total          23650 non-null  int64         \n",
      " 8   living_area           23650 non-null  float64       \n",
      " 9   floor                 23650 non-null  int64         \n",
      " 10  is_apartment          23650 non-null  bool          \n",
      " 11  studio                23650 non-null  bool          \n",
      " 12  open_plan             23650 non-null  bool          \n",
      " 13  kitchen_area          23650 non-null  float64       \n",
      " 14  balcony               23650 non-null  int64         \n",
      " 15  locality_name         23650 non-null  object        \n",
      " 16  airports_nearest      18116 non-null  float64       \n",
      " 17  cityCenters_nearest   18139 non-null  float64       \n",
      " 18  parks_around3000      23650 non-null  int64         \n",
      " 19  parks_nearest         8064 non-null   float64       \n",
      " 20  ponds_around3000      23650 non-null  int64         \n",
      " 21  ponds_nearest         9085 non-null   float64       \n",
      " 22  days_exposition       20470 non-null  float64       \n",
      "dtypes: bool(3), datetime64[ns](1), float64(9), int64(9), object(1)\n",
      "memory usage: 3.7+ MB\n"
     ]
    }
   ],
   "source": [
    "#Изменяем типы данных\n",
    "data['last_price'] = data['last_price'].astype('int')\n",
    "data['first_day_exposition'] = pd.to_datetime(data['first_day_exposition'], format = '%Y-%m-%dT%H:%M:%S')\n",
    "data['floors_total'] = data['floors_total'].astype('int')\n",
    "data['is_apartment'] = data['is_apartment'].astype('bool')\n",
    "data['balcony'] = data['balcony'].astype('int')\n",
    "data['airports_nearest'] = data['airports_nearest'].astype('int', errors='ignore')\n",
    "data['cityCenters_nearest'] = data['cityCenters_nearest'].astype('int', errors='ignore')\n",
    "data['parks_around3000'] = data['parks_around3000'].astype('int')\n",
    "data['parks_nearest'] = data['parks_nearest'].astype('int', errors='ignore')\n",
    "data['ponds_around3000'] = data['ponds_around3000'].astype('int')\n",
    "data['ponds_nearest'] = data['ponds_nearest'].astype('int', errors='ignore')\n",
    "data['days_exposition'] = data['days_exposition'].astype('int', errors='ignore')\n",
    "print('Убедимся, что все изменения выполнены')\n",
    "\n",
    "data.info()"
   ]
  },
  {
   "cell_type": "markdown",
   "metadata": {},
   "source": [
    "Проверим DataFrame на наличие явных дубликатов"
   ]
  },
  {
   "cell_type": "code",
   "execution_count": 13,
   "metadata": {},
   "outputs": [
    {
     "name": "stdout",
     "output_type": "stream",
     "text": [
      "0\n"
     ]
    }
   ],
   "source": [
    "print(data.duplicated().sum())"
   ]
  },
  {
   "cell_type": "markdown",
   "metadata": {},
   "source": [
    "Явные дубликаты отсутствуют. Теперь нужно рассмотреть, есть ли неявные дубликаты в названиях населённых пунктов"
   ]
  },
  {
   "cell_type": "code",
   "execution_count": 14,
   "metadata": {},
   "outputs": [
    {
     "name": "stdout",
     "output_type": "stream",
     "text": [
      "['Санкт-Петербург' 'посёлок Шушары' 'городской посёлок Янино-1'\n",
      " 'посёлок Парголово' 'посёлок Мурино' 'Ломоносов' 'Сертолово' 'Петергоф'\n",
      " 'Пушкин' 'деревня Кудрово' 'Коммунар' 'Колпино'\n",
      " 'поселок городского типа Красный Бор' 'Гатчина' 'поселок Мурино'\n",
      " 'деревня Фёдоровское' 'Выборг' 'Кронштадт' 'Кировск'\n",
      " 'деревня Новое Девяткино' 'посёлок Металлострой'\n",
      " 'посёлок городского типа Лебяжье' 'посёлок городского типа Сиверский'\n",
      " 'поселок Молодцово' 'поселок городского типа Кузьмоловский'\n",
      " 'садовое товарищество Новая Ропша' 'Павловск' 'деревня Пикколово'\n",
      " 'Всеволожск' 'Волхов' 'Кингисепп' 'Приозерск' 'Сестрорецк'\n",
      " 'деревня Куттузи' 'посёлок Аннино' 'поселок городского типа Ефимовский'\n",
      " 'посёлок Плодовое' 'деревня Заклинье' 'поселок Торковичи'\n",
      " 'поселок Первомайское' 'Красное Село' 'посёлок Понтонный' 'Сясьстрой'\n",
      " 'деревня Старая' 'деревня Лесколово' 'посёлок Новый Свет' 'Сланцы'\n",
      " 'село Путилово' 'Ивангород' 'Мурино' 'Шлиссельбург' 'Никольское'\n",
      " 'Зеленогорск' 'Сосновый Бор' 'поселок Новый Свет' 'деревня Оржицы'\n",
      " 'деревня Кальтино' 'Кудрово' 'поселок Романовка' 'посёлок Бугры'\n",
      " 'поселок Бугры' 'поселок городского типа Рощино' 'Кириши' 'Луга'\n",
      " 'Волосово' 'Отрадное' 'село Павлово' 'поселок Оредеж' 'село Копорье'\n",
      " 'посёлок городского типа Красный Бор' 'посёлок Молодёжное' 'Тихвин'\n",
      " 'посёлок Победа' 'деревня Нурма' 'поселок городского типа Синявино'\n",
      " 'Тосно' 'посёлок городского типа Кузьмоловский' 'посёлок Стрельна'\n",
      " 'Бокситогорск' 'посёлок Александровская' 'деревня Лопухинка' 'Пикалёво'\n",
      " 'поселок Терволово' 'поселок городского типа Советский' 'Подпорожье'\n",
      " 'посёлок Петровское' 'посёлок городского типа Токсово' 'поселок Сельцо'\n",
      " 'посёлок городского типа Вырица' 'деревня Кипень' 'деревня Келози'\n",
      " 'деревня Вартемяги' 'посёлок Тельмана' 'поселок Севастьяново'\n",
      " 'городской поселок Большая Ижора' 'городской посёлок Павлово'\n",
      " 'деревня Агалатово' 'посёлок Новогорелово'\n",
      " 'городской посёлок Лесогорский' 'деревня Лаголово' 'поселок Цвелодубово'\n",
      " 'поселок городского типа Рахья' 'поселок городского типа Вырица'\n",
      " 'деревня Белогорка' 'поселок Заводской' 'городской посёлок Новоселье'\n",
      " 'деревня Большие Колпаны' 'деревня Горбунки' 'деревня Батово'\n",
      " 'деревня Заневка' 'деревня Иссад' 'Приморск'\n",
      " 'городской посёлок Фёдоровское' 'деревня Мистолово' 'Новая Ладога'\n",
      " 'поселок Зимитицы' 'поселок Барышево' 'деревня Разметелево'\n",
      " 'поселок городского типа имени Свердлова' 'деревня Пеники'\n",
      " 'поселок Рябово' 'деревня Пудомяги' 'поселок станции Корнево'\n",
      " 'деревня Низино' 'деревня Бегуницы' 'посёлок Поляны'\n",
      " 'городской посёлок Мга' 'поселок Елизаветино'\n",
      " 'посёлок городского типа Кузнечное' 'деревня Колтуши'\n",
      " 'поселок Запорожское' 'посёлок городского типа Рощино'\n",
      " 'деревня Гостилицы' 'деревня Малое Карлино' 'посёлок Мичуринское'\n",
      " 'посёлок городского типа имени Морозова' 'посёлок Песочный'\n",
      " 'посёлок Сосново' 'деревня Аро' 'поселок Ильичёво'\n",
      " 'посёлок городского типа Тайцы' 'деревня Малое Верево' 'деревня Извара'\n",
      " 'поселок станции Вещево' 'село Паша' 'деревня Калитино'\n",
      " 'посёлок городского типа Ульяновка' 'деревня Чудской Бор'\n",
      " 'поселок городского типа Дубровка' 'деревня Мины' 'поселок Войсковицы'\n",
      " 'посёлок городского типа имени Свердлова' 'деревня Коркино'\n",
      " 'посёлок Ропша' 'поселок городского типа Приладожский' 'посёлок Щеглово'\n",
      " 'посёлок Гаврилово' 'Лодейное Поле' 'деревня Рабитицы'\n",
      " 'поселок городского типа Никольский' 'деревня Кузьмолово'\n",
      " 'деревня Малые Колпаны' 'поселок Тельмана' 'посёлок Петро-Славянка'\n",
      " 'городской посёлок Назия' 'посёлок Репино' 'посёлок Ильичёво'\n",
      " 'поселок Углово' 'поселок Старая Малукса' 'садовое товарищество Рахья'\n",
      " 'поселок Аннино' 'поселок Победа' 'деревня Меньково'\n",
      " 'деревня Старые Бегуницы' 'посёлок Сапёрный' 'поселок Семрино'\n",
      " 'поселок Гаврилово' 'поселок Глажево' 'поселок Кобринское'\n",
      " 'деревня Гарболово' 'деревня Юкки' 'поселок станции Приветнинское'\n",
      " 'деревня Мануйлово' 'деревня Пчева' 'поселок Поляны' 'поселок Цвылёво'\n",
      " 'поселок Мельниково' 'посёлок Пудость' 'посёлок Усть-Луга' 'Светогорск'\n",
      " 'Любань' 'поселок Селезнёво' 'поселок городского типа Рябово'\n",
      " 'Каменногорск' 'деревня Кривко' 'поселок Глебычево' 'деревня Парицы'\n",
      " 'поселок Жилпосёлок' 'посёлок городского типа Мга'\n",
      " 'городской поселок Янино-1' 'посёлок Войскорово' 'село Никольское'\n",
      " 'посёлок Терволово' 'поселок Стеклянный' 'посёлок городского типа Важины'\n",
      " 'посёлок Мыза-Ивановка' 'село Русско-Высоцкое'\n",
      " 'поселок городского типа Лебяжье' 'поселок городского типа Форносово'\n",
      " 'село Старая Ладога' 'поселок Житково' 'городской посёлок Виллози'\n",
      " 'деревня Лампово' 'деревня Шпаньково' 'деревня Лаврики' 'посёлок Сумино'\n",
      " 'посёлок Возрождение' 'деревня Старосиверская' 'посёлок Кикерино'\n",
      " 'поселок Возрождение' 'деревня Старое Хинколово' 'посёлок Пригородный'\n",
      " 'посёлок Торфяное' 'городской посёлок Будогощь' 'поселок Суходолье'\n",
      " 'поселок Красная Долина' 'деревня Хапо-Ое'\n",
      " 'поселок городского типа Дружная Горка' 'поселок Лисий Нос'\n",
      " 'деревня Яльгелево' 'посёлок Стеклянный' 'село Рождествено'\n",
      " 'деревня Старополье' 'посёлок Левашово' 'деревня Сяськелево'\n",
      " 'деревня Камышовка'\n",
      " 'садоводческое некоммерческое товарищество Лесная Поляна'\n",
      " 'деревня Хязельки' 'поселок Жилгородок' 'посёлок городского типа Павлово'\n",
      " 'деревня Ялгино' 'поселок Новый Учхоз' 'городской посёлок Рощино'\n",
      " 'поселок Гончарово' 'поселок Почап' 'посёлок Сапёрное'\n",
      " 'посёлок Платформа 69-й километр' 'поселок Каложицы' 'деревня Фалилеево'\n",
      " 'деревня Пельгора' 'поселок городского типа Лесогорский'\n",
      " 'деревня Торошковичи' 'посёлок Белоостров' 'посёлок Алексеевка'\n",
      " 'поселок Серебрянский' 'поселок Лукаши' 'поселок Петровское'\n",
      " 'деревня Щеглово' 'поселок Мичуринское' 'деревня Тарасово'\n",
      " 'поселок Кингисеппский' 'посёлок при железнодорожной станции Вещево'\n",
      " 'поселок Ушаки' 'деревня Котлы' 'деревня Сижно' 'деревня Торосово'\n",
      " 'посёлок Форт Красная Горка' 'поселок городского типа Токсово'\n",
      " 'деревня Новолисино' 'посёлок станции Громово' 'деревня Глинка'\n",
      " 'посёлок Мельниково' 'поселок городского типа Назия'\n",
      " 'деревня Старая Пустошь' 'поселок Коммунары' 'поселок Починок'\n",
      " 'посёлок городского типа Вознесенье' 'деревня Разбегаево'\n",
      " 'посёлок городского типа Рябово' 'поселок Гладкое'\n",
      " 'посёлок при железнодорожной станции Приветнинское' 'поселок Тёсово-4'\n",
      " 'посёлок Жилгородок' 'деревня Бор' 'посёлок Коробицыно'\n",
      " 'деревня Большая Вруда' 'деревня Курковицы' 'посёлок Лисий Нос'\n",
      " 'городской посёлок Советский' 'посёлок Кобралово' 'деревня Суоранда'\n",
      " 'поселок Кобралово' 'поселок городского типа Кондратьево'\n",
      " 'коттеджный поселок Счастье' 'поселок Любань' 'деревня Реброво'\n",
      " 'деревня Зимитицы' 'деревня Тойворово' 'поселок Семиозерье'\n",
      " 'поселок Лесное' 'поселок Совхозный' 'поселок Усть-Луга'\n",
      " 'посёлок Ленинское' 'посёлок Суйда' 'посёлок городского типа Форносово'\n",
      " 'деревня Нижние Осельки' 'посёлок станции Свирь' 'поселок Перово'\n",
      " 'Высоцк' 'поселок Гарболово' 'село Шум' 'поселок Котельский'\n",
      " 'поселок станции Лужайка' 'деревня Большая Пустомержа'\n",
      " 'поселок Красносельское' 'деревня Вахнова Кара' 'деревня Пижма'\n",
      " 'коттеджный поселок Кивеннапа Север' 'поселок Коробицыно'\n",
      " 'поселок Ромашки' 'посёлок Перово' 'деревня Каськово' 'деревня Куровицы'\n",
      " 'посёлок Плоское' 'поселок Сумино'\n",
      " 'поселок городского типа Большая Ижора' 'поселок Кирпичное'\n",
      " 'деревня Ям-Тесово' 'деревня Раздолье' 'деревня Терпилицы'\n",
      " 'посёлок Шугозеро' 'деревня Ваганово' 'поселок Пушное'\n",
      " 'садовое товарищество Садко' 'посёлок Усть-Ижора' 'деревня Выскатка'\n",
      " 'городской посёлок Свирьстрой' 'поселок Громово' 'деревня Кисельня'\n",
      " 'посёлок Старая Малукса' 'деревня Трубников Бор' 'поселок Калитино'\n",
      " 'посёлок Высокоключевой' 'садовое товарищество Приладожский'\n",
      " 'посёлок Пансионат Зелёный Бор' 'деревня Ненимяки'\n",
      " 'поселок Пансионат Зелёный Бор' 'деревня Снегирёвка' 'деревня Рапполово'\n",
      " 'деревня Пустынка' 'поселок Рабитицы' 'деревня Большой Сабск'\n",
      " 'деревня Русско' 'деревня Лупполово' 'деревня Большое Рейзино'\n",
      " 'деревня Малая Романовка' 'поселок Дружноселье' 'поселок Пчевжа'\n",
      " 'поселок Володарское' 'деревня Нижняя' 'коттеджный посёлок Лесное'\n",
      " 'деревня Тихковицы' 'деревня Борисова Грива' 'посёлок Дзержинского']\n"
     ]
    }
   ],
   "source": [
    "print(data['locality_name'].unique())"
   ]
  },
  {
   "cell_type": "markdown",
   "metadata": {},
   "source": [
    "Самыми распространенными случаями неявных дубликатов является разный регистр и путаница с буквами е и ё. Также было предположение, что нужно удалить пояснения (то есть деревня, поселок и т.д), но я подумала, что одни и те же названия могут быть у разных населенных пунктов, поэтому так делать не стоит. Рационально заменить только синонимы городской посёлок на поселок городского типа"
   ]
  },
  {
   "cell_type": "code",
   "execution_count": 15,
   "metadata": {
    "scrolled": false
   },
   "outputs": [
    {
     "name": "stdout",
     "output_type": "stream",
     "text": [
      "['санкт-петербург' 'поселок шушары' 'городской поселок янино-1'\n",
      " 'поселок парголово' 'поселок мурино' 'ломоносов' 'сертолово' 'петергоф'\n",
      " 'пушкин' 'деревня кудрово' 'коммунар' 'колпино'\n",
      " 'поселок городского типа красный бор' 'гатчина' 'деревня фёдоровское'\n",
      " 'выборг' 'кронштадт' 'кировск' 'деревня новое девяткино'\n",
      " 'поселок металлострой' 'поселок городского типа лебяжье'\n",
      " 'поселок городского типа сиверский' 'поселок молодцово'\n",
      " 'поселок городского типа кузьмоловский'\n",
      " 'садовое товарищество новая ропша' 'павловск' 'деревня пикколово'\n",
      " 'всеволожск' 'волхов' 'кингисепп' 'приозерск' 'сестрорецк'\n",
      " 'деревня куттузи' 'поселок аннино' 'поселок городского типа ефимовский'\n",
      " 'поселок плодовое' 'деревня заклинье' 'поселок торковичи'\n",
      " 'поселок первомайское' 'красное село' 'поселок понтонный' 'сясьстрой'\n",
      " 'деревня старая' 'деревня лесколово' 'поселок новый свет' 'сланцы'\n",
      " 'село путилово' 'ивангород' 'мурино' 'шлиссельбург' 'никольское'\n",
      " 'зеленогорск' 'сосновый бор' 'деревня оржицы' 'деревня кальтино'\n",
      " 'кудрово' 'поселок романовка' 'поселок бугры'\n",
      " 'поселок городского типа рощино' 'кириши' 'луга' 'волосово' 'отрадное'\n",
      " 'село павлово' 'поселок оредеж' 'село копорье' 'поселок молодёжное'\n",
      " 'тихвин' 'поселок победа' 'деревня нурма'\n",
      " 'поселок городского типа синявино' 'тосно' 'поселок стрельна'\n",
      " 'бокситогорск' 'поселок александровская' 'деревня лопухинка' 'пикалёво'\n",
      " 'поселок терволово' 'поселок городского типа советский' 'подпорожье'\n",
      " 'поселок петровское' 'поселок городского типа токсово' 'поселок сельцо'\n",
      " 'поселок городского типа вырица' 'деревня кипень' 'деревня келози'\n",
      " 'деревня вартемяги' 'поселок тельмана' 'поселок севастьяново'\n",
      " 'городской поселок большая ижора' 'городской поселок павлово'\n",
      " 'деревня агалатово' 'поселок новогорелово'\n",
      " 'городской поселок лесогорский' 'деревня лаголово' 'поселок цвелодубово'\n",
      " 'поселок городского типа рахья' 'деревня белогорка' 'поселок заводской'\n",
      " 'городской поселок новоселье' 'деревня большие колпаны'\n",
      " 'деревня горбунки' 'деревня батово' 'деревня заневка' 'деревня иссад'\n",
      " 'приморск' 'городской поселок фёдоровское' 'деревня мистолово'\n",
      " 'новая ладога' 'поселок зимитицы' 'поселок барышево'\n",
      " 'деревня разметелево' 'поселок городского типа имени свердлова'\n",
      " 'деревня пеники' 'поселок рябово' 'деревня пудомяги'\n",
      " 'поселок станции корнево' 'деревня низино' 'деревня бегуницы'\n",
      " 'поселок поляны' 'городской поселок мга' 'поселок елизаветино'\n",
      " 'поселок городского типа кузнечное' 'деревня колтуши'\n",
      " 'поселок запорожское' 'деревня гостилицы' 'деревня малое карлино'\n",
      " 'поселок мичуринское' 'поселок городского типа имени морозова'\n",
      " 'поселок песочный' 'поселок сосново' 'деревня аро' 'поселок ильичёво'\n",
      " 'поселок городского типа тайцы' 'деревня малое верево' 'деревня извара'\n",
      " 'поселок станции вещево' 'село паша' 'деревня калитино'\n",
      " 'поселок городского типа ульяновка' 'деревня чудской бор'\n",
      " 'поселок городского типа дубровка' 'деревня мины' 'поселок войсковицы'\n",
      " 'деревня коркино' 'поселок ропша' 'поселок городского типа приладожский'\n",
      " 'поселок щеглово' 'поселок гаврилово' 'лодейное поле' 'деревня рабитицы'\n",
      " 'поселок городского типа никольский' 'деревня кузьмолово'\n",
      " 'деревня малые колпаны' 'поселок петро-славянка'\n",
      " 'городской поселок назия' 'поселок репино' 'поселок углово'\n",
      " 'поселок старая малукса' 'садовое товарищество рахья' 'деревня меньково'\n",
      " 'деревня старые бегуницы' 'поселок сапёрный' 'поселок семрино'\n",
      " 'поселок глажево' 'поселок кобринское' 'деревня гарболово' 'деревня юкки'\n",
      " 'поселок станции приветнинское' 'деревня мануйлово' 'деревня пчева'\n",
      " 'поселок цвылёво' 'поселок мельниково' 'поселок пудость'\n",
      " 'поселок усть-луга' 'светогорск' 'любань' 'поселок селезнёво'\n",
      " 'поселок городского типа рябово' 'каменногорск' 'деревня кривко'\n",
      " 'поселок глебычево' 'деревня парицы' 'поселок жилпоселок'\n",
      " 'поселок городского типа мга' 'поселок войскорово' 'село никольское'\n",
      " 'поселок стеклянный' 'поселок городского типа важины'\n",
      " 'поселок мыза-ивановка' 'село русско-высоцкое'\n",
      " 'поселок городского типа форносово' 'село старая ладога'\n",
      " 'поселок житково' 'городской поселок виллози' 'деревня лампово'\n",
      " 'деревня шпаньково' 'деревня лаврики' 'поселок сумино'\n",
      " 'поселок возрождение' 'деревня старосиверская' 'поселок кикерино'\n",
      " 'деревня старое хинколово' 'поселок пригородный' 'поселок торфяное'\n",
      " 'городской поселок будогощь' 'поселок суходолье' 'поселок красная долина'\n",
      " 'деревня хапо-ое' 'поселок городского типа дружная горка'\n",
      " 'поселок лисий нос' 'деревня яльгелево' 'село рождествено'\n",
      " 'деревня старополье' 'поселок левашово' 'деревня сяськелево'\n",
      " 'деревня камышовка'\n",
      " 'садоводческое некоммерческое товарищество лесная поляна'\n",
      " 'деревня хязельки' 'поселок жилгородок' 'поселок городского типа павлово'\n",
      " 'деревня ялгино' 'поселок новый учхоз' 'городской поселок рощино'\n",
      " 'поселок гончарово' 'поселок почап' 'поселок сапёрное'\n",
      " 'поселок платформа 69-й километр' 'поселок каложицы' 'деревня фалилеево'\n",
      " 'деревня пельгора' 'поселок городского типа лесогорский'\n",
      " 'деревня торошковичи' 'поселок белоостров' 'поселок алексеевка'\n",
      " 'поселок серебрянский' 'поселок лукаши' 'деревня щеглово'\n",
      " 'деревня тарасово' 'поселок кингисеппский'\n",
      " 'поселок при железнодорожной станции вещево' 'поселок ушаки'\n",
      " 'деревня котлы' 'деревня сижно' 'деревня торосово'\n",
      " 'поселок форт красная горка' 'деревня новолисино'\n",
      " 'поселок станции громово' 'деревня глинка'\n",
      " 'поселок городского типа назия' 'деревня старая пустошь'\n",
      " 'поселок коммунары' 'поселок починок'\n",
      " 'поселок городского типа вознесенье' 'деревня разбегаево'\n",
      " 'поселок гладкое' 'поселок при железнодорожной станции приветнинское'\n",
      " 'поселок тёсово-4' 'деревня бор' 'поселок коробицыно'\n",
      " 'деревня большая вруда' 'деревня курковицы' 'городской поселок советский'\n",
      " 'поселок кобралово' 'деревня суоранда'\n",
      " 'поселок городского типа кондратьево' 'коттеджный поселок счастье'\n",
      " 'поселок любань' 'деревня реброво' 'деревня зимитицы' 'деревня тойворово'\n",
      " 'поселок семиозерье' 'поселок лесное' 'поселок совхозный'\n",
      " 'поселок ленинское' 'поселок суйда' 'деревня нижние осельки'\n",
      " 'поселок станции свирь' 'поселок перово' 'высоцк' 'поселок гарболово'\n",
      " 'село шум' 'поселок котельский' 'поселок станции лужайка'\n",
      " 'деревня большая пустомержа' 'поселок красносельское'\n",
      " 'деревня вахнова кара' 'деревня пижма'\n",
      " 'коттеджный поселок кивеннапа север' 'поселок ромашки' 'деревня каськово'\n",
      " 'деревня куровицы' 'поселок плоское'\n",
      " 'поселок городского типа большая ижора' 'поселок кирпичное'\n",
      " 'деревня ям-тесово' 'деревня раздолье' 'деревня терпилицы'\n",
      " 'поселок шугозеро' 'деревня ваганово' 'поселок пушное'\n",
      " 'садовое товарищество садко' 'поселок усть-ижора' 'деревня выскатка'\n",
      " 'городской поселок свирьстрой' 'поселок громово' 'деревня кисельня'\n",
      " 'деревня трубников бор' 'поселок калитино' 'поселок высокоключевой'\n",
      " 'садовое товарищество приладожский' 'поселок пансионат зелёный бор'\n",
      " 'деревня ненимяки' 'деревня снегирёвка' 'деревня рапполово'\n",
      " 'деревня пустынка' 'поселок рабитицы' 'деревня большой сабск'\n",
      " 'деревня русско' 'деревня лупполово' 'деревня большое рейзино'\n",
      " 'деревня малая романовка' 'поселок дружноселье' 'поселок пчевжа'\n",
      " 'поселок володарское' 'деревня нижняя' 'коттеджный поселок лесное'\n",
      " 'деревня тихковицы' 'деревня борисова грива' 'поселок дзержинского']\n"
     ]
    }
   ],
   "source": [
    "#приведем все к нижнему регистру\n",
    "data['locality_name'] = data['locality_name'].str.lower() \n",
    "\n",
    "#заменим на е и убирем синонимы\n",
    "def local(text):\n",
    "    if 'посёлок' in text: \n",
    "        text = text.replace('посёлок', 'поселок')  \n",
    "    return text\n",
    "\n",
    "data['locality_name'] = data['locality_name'].apply(local)\n",
    "data['locality_name'] = data['locality_name'].replace('городской посёлок','поселок городского типа')\n",
    "\n",
    "\n",
    "print(data['locality_name'].unique())"
   ]
  },
  {
   "cell_type": "markdown",
   "metadata": {},
   "source": [
    "Теперь нужно рассмотреть выбросы"
   ]
  },
  {
   "cell_type": "code",
   "execution_count": 16,
   "metadata": {},
   "outputs": [
    {
     "data": {
      "image/png": "[encoded data removed]",
      "text/plain": [
       "<Figure size 432x288 with 1 Axes>"
      ]
     },
     "metadata": {
      "needs_background": "light"
     },
     "output_type": "display_data"
    },
    {
     "name": "stdout",
     "output_type": "stream",
     "text": [
      "значения, до которого доходит 99,5% значений 20.0\n"
     ]
    },
    {
     "data": {
      "image/png": "[encoded data removed]",
      "text/plain": [
       "<Figure size 432x288 with 1 Axes>"
      ]
     },
     "metadata": {
      "needs_background": "light"
     },
     "output_type": "display_data"
    },
    {
     "name": "stdout",
     "output_type": "stream",
     "text": [
      "значения, до которого доходит 99,5% значений 54755000.00000102\n"
     ]
    },
    {
     "data": {
      "image/png": "[encoded data removed]",
      "text/plain": [
       "<Figure size 432x288 with 1 Axes>"
      ]
     },
     "metadata": {
      "needs_background": "light"
     },
     "output_type": "display_data"
    },
    {
     "name": "stdout",
     "output_type": "stream",
     "text": [
      "значения, до которого доходит 99,5% значений 248.92650000000032\n"
     ]
    },
    {
     "data": {
      "image/png": "[encoded data removed]",
      "text/plain": [
       "<Figure size 432x288 with 1 Axes>"
      ]
     },
     "metadata": {
      "needs_background": "light"
     },
     "output_type": "display_data"
    },
    {
     "name": "stdout",
     "output_type": "stream",
     "text": [
      "значения, до которого доходит 99,5% значений 6.0\n"
     ]
    },
    {
     "data": {
      "image/png": "[encoded data removed]",
      "text/plain": [
       "<Figure size 432x288 with 1 Axes>"
      ]
     },
     "metadata": {
      "needs_background": "light"
     },
     "output_type": "display_data"
    },
    {
     "name": "stdout",
     "output_type": "stream",
     "text": [
      "значения, до которого доходит 99,5% значений 3.95\n"
     ]
    },
    {
     "data": {
      "image/png": "[encoded data removed]",
      "text/plain": [
       "<Figure size 432x288 with 1 Axes>"
      ]
     },
     "metadata": {
      "needs_background": "light"
     },
     "output_type": "display_data"
    },
    {
     "name": "stdout",
     "output_type": "stream",
     "text": [
      "значения, до которого доходит 99,5% значений 27.0\n"
     ]
    },
    {
     "data": {
      "image/png": "[encoded data removed]",
      "text/plain": [
       "<Figure size 432x288 with 1 Axes>"
      ]
     },
     "metadata": {
      "needs_background": "light"
     },
     "output_type": "display_data"
    },
    {
     "name": "stdout",
     "output_type": "stream",
     "text": [
      "значения, до которого доходит 99,5% значений 158.66100000000222\n"
     ]
    },
    {
     "data": {
      "image/png": "[encoded data removed]",
      "text/plain": [
       "<Figure size 432x288 with 1 Axes>"
      ]
     },
     "metadata": {
      "needs_background": "light"
     },
     "output_type": "display_data"
    },
    {
     "name": "stdout",
     "output_type": "stream",
     "text": [
      "значения, до которого доходит 99,5% значений 24.0\n"
     ]
    },
    {
     "data": {
      "image/png": "[encoded data removed]",
      "text/plain": [
       "<Figure size 432x288 with 1 Axes>"
      ]
     },
     "metadata": {
      "needs_background": "light"
     },
     "output_type": "display_data"
    },
    {
     "name": "stdout",
     "output_type": "stream",
     "text": [
      "значения, до которого доходит 99,5% значений 42.95100000000021\n"
     ]
    },
    {
     "data": {
      "image/png": "[encoded data removed]",
      "text/plain": [
       "<Figure size 432x288 with 1 Axes>"
      ]
     },
     "metadata": {
      "needs_background": "light"
     },
     "output_type": "display_data"
    },
    {
     "name": "stdout",
     "output_type": "stream",
     "text": [
      "значения, до которого доходит 99,5% значений 5.0\n"
     ]
    },
    {
     "data": {
      "image/png": "[encoded data removed]",
      "text/plain": [
       "<Figure size 432x288 with 1 Axes>"
      ]
     },
     "metadata": {
      "needs_background": "light"
     },
     "output_type": "display_data"
    },
    {
     "name": "stdout",
     "output_type": "stream",
     "text": [
      "значения, до которого доходит 99,5% значений 66826.29999999986\n"
     ]
    },
    {
     "data": {
      "image/png": "[encoded data removed]",
      "text/plain": [
       "<Figure size 432x288 with 1 Axes>"
      ]
     },
     "metadata": {
      "needs_background": "light"
     },
     "output_type": "display_data"
    },
    {
     "name": "stdout",
     "output_type": "stream",
     "text": [
      "значения, до которого доходит 99,5% значений 51712.060000000034\n"
     ]
    },
    {
     "data": {
      "image/png": "[encoded data removed]",
      "text/plain": [
       "<Figure size 432x288 with 1 Axes>"
      ]
     },
     "metadata": {
      "needs_background": "light"
     },
     "output_type": "display_data"
    },
    {
     "name": "stdout",
     "output_type": "stream",
     "text": [
      "значения, до которого доходит 99,5% значений 3.0\n"
     ]
    },
    {
     "data": {
      "image/png": "[encoded data removed]",
      "text/plain": [
       "<Figure size 432x288 with 1 Axes>"
      ]
     },
     "metadata": {
      "needs_background": "light"
     },
     "output_type": "display_data"
    },
    {
     "name": "stdout",
     "output_type": "stream",
     "text": [
      "значения, до которого доходит 99,5% значений 2295.0\n"
     ]
    },
    {
     "data": {
      "image/png": "[encoded data removed]",
      "text/plain": [
       "<Figure size 432x288 with 1 Axes>"
      ]
     },
     "metadata": {
      "needs_background": "light"
     },
     "output_type": "display_data"
    },
    {
     "name": "stdout",
     "output_type": "stream",
     "text": [
      "значения, до которого доходит 99,5% значений 3.0\n"
     ]
    },
    {
     "data": {
      "image/png": "[encoded data removed]",
      "text/plain": [
       "<Figure size 432x288 with 1 Axes>"
      ]
     },
     "metadata": {
      "needs_background": "light"
     },
     "output_type": "display_data"
    },
    {
     "name": "stdout",
     "output_type": "stream",
     "text": [
      "значения, до которого доходит 99,5% значений 1215.0\n"
     ]
    },
    {
     "data": {
      "image/png": "[encoded data removed]",
      "text/plain": [
       "<Figure size 432x288 with 1 Axes>"
      ]
     },
     "metadata": {
      "needs_background": "light"
     },
     "output_type": "display_data"
    },
    {
     "name": "stdout",
     "output_type": "stream",
     "text": [
      "значения, до которого доходит 99,5% значений 1180.3099999999977\n"
     ]
    }
   ],
   "source": [
    "import matplotlib.pyplot as plt\n",
    "\n",
    "col = ['total_images', 'last_price', 'total_area', 'rooms', 'ceiling_height', 'floors_total', 'living_area', 'floor', 'kitchen_area', 'balcony', 'airports_nearest', 'cityCenters_nearest', 'parks_around3000', 'parks_nearest', 'ponds_around3000', 'ponds_nearest', 'days_exposition']\n",
    "\n",
    "for i in col:\n",
    "    data.boxplot(column = i)\n",
    "    plt.show()\n",
    "    quantil = data[i].quantile(0.995)\n",
    "    print('значения, до которого доходит 99,5% значений', quantil)\n",
    "\n",
    "#data = data[data[i]<=quantil].reset_index(drop=True) #избавляемся от выбрасов\n",
    "    "
   ]
  },
  {
   "cell_type": "markdown",
   "metadata": {},
   "source": [
    "Для того чтобы не рассматривать вырожденные случаи, сделаем так:"
   ]
  },
  {
   "cell_type": "code",
   "execution_count": 17,
   "metadata": {},
   "outputs": [],
   "source": [
    "col_area = ['total_area', 'living_area', 'kitchen_area']\n",
    "\n",
    "for i in col_area:\n",
    "    quantil = data[i].quantile(0.99)\n",
    "    data = data[data[i]<=quantil].reset_index(drop=True) #избавляемся от выбрасов\n"
   ]
  },
  {
   "cell_type": "code",
   "execution_count": 18,
   "metadata": {},
   "outputs": [],
   "source": [
    "#из гистограмм\n",
    "data = data[(data['total_images']<=30)].reset_index(drop=True)\n",
    "data = data[data['last_price']<=7e7].reset_index(drop=True)\n",
    "data = data[data['rooms']<=6].reset_index(drop=True)\n",
    "data = data[data['ceiling_height']<=6].reset_index(drop=True)\n",
    "data = data[data['floors_total']<= 30].reset_index(drop=True)"
   ]
  },
  {
   "cell_type": "markdown",
   "metadata": {},
   "source": [
    "В столбцах 'airports_nearest', 'cityCenters_nearest', 'parks_around3000', 'parks_nearest', 'ponds_around3000', 'ponds_nearest' очень много значений, выходящих за пределы межквартильного размаха, однако они не являются аномальными, потому что эти столбцы показывают расстояние до чего либо, и они вполне могут быть правдоподобными. Можно только отфильтровать наиболее редко встречающиеся значения, чтобы исследование показывало более общий результат.\n",
    "В столбцах 'floor', 'balcony', 'parks_around3000', 'ponds_around3000', 'days_exposition' также присутствуют значения, выходящие из межквартильного размаха, однако они так же не являются аномальными."
   ]
  },
  {
   "cell_type": "code",
   "execution_count": 19,
   "metadata": {},
   "outputs": [],
   "source": [
    "col_near = ['airports_nearest', 'cityCenters_nearest', 'parks_nearest', 'ponds_nearest']\n",
    "\n",
    "for i in col_near:\n",
    "    quantil_near_max = data[i].quantile(0.995)\n",
    "    quantil_near_min = data[i].quantile(0.005)\n",
    "    data = data[data[i]<=quantil_near_max].reset_index(drop=True) \n",
    "    data = data[data[i]>=quantil_near_min].reset_index(drop=True) \n",
    "    #избавляемся от выбрасов"
   ]
  },
  {
   "cell_type": "code",
   "execution_count": 20,
   "metadata": {},
   "outputs": [],
   "source": [
    "#минимальная жилая площадь в реали должна быть не меньше 7 кв.м (это минимальный митраж, который я нашла в интернете)\n",
    "data = data[data['living_area']>= 7].reset_index(drop=True)\n",
    "#минимальная высота в реали должна быть не меньше 2 м (прописано в законе)\n",
    "data = data[data['ceiling_height']>= 2.5].reset_index(drop=True)\n",
    "#минимальная площадь кухни в реали должна быть не меньше 3 кв.м\n",
    "data = data[data['kitchen_area']>= 4].reset_index(drop=True)"
   ]
  },
  {
   "cell_type": "code",
   "execution_count": 21,
   "metadata": {
    "scrolled": false
   },
   "outputs": [
    {
     "name": "stdout",
     "output_type": "stream",
     "text": [
      "<class 'pandas.core.frame.DataFrame'>\n",
      "RangeIndex: 4187 entries, 0 to 4186\n",
      "Data columns (total 23 columns):\n",
      " #   Column                Non-Null Count  Dtype         \n",
      "---  ------                --------------  -----         \n",
      " 0   index                 4187 non-null   int64         \n",
      " 1   total_images          4187 non-null   int64         \n",
      " 2   last_price            4187 non-null   int64         \n",
      " 3   total_area            4187 non-null   float64       \n",
      " 4   first_day_exposition  4187 non-null   datetime64[ns]\n",
      " 5   rooms                 4187 non-null   int64         \n",
      " 6   ceiling_height        4187 non-null   float64       \n",
      " 7   floors_total          4187 non-null   int64         \n",
      " 8   living_area           4187 non-null   float64       \n",
      " 9   floor                 4187 non-null   int64         \n",
      " 10  is_apartment          4187 non-null   bool          \n",
      " 11  studio                4187 non-null   bool          \n",
      " 12  open_plan             4187 non-null   bool          \n",
      " 13  kitchen_area          4187 non-null   float64       \n",
      " 14  balcony               4187 non-null   int64         \n",
      " 15  locality_name         4187 non-null   object        \n",
      " 16  airports_nearest      4187 non-null   float64       \n",
      " 17  cityCenters_nearest   4187 non-null   float64       \n",
      " 18  parks_around3000      4187 non-null   int64         \n",
      " 19  parks_nearest         4187 non-null   float64       \n",
      " 20  ponds_around3000      4187 non-null   int64         \n",
      " 21  ponds_nearest         4187 non-null   float64       \n",
      " 22  days_exposition       3597 non-null   float64       \n",
      "dtypes: bool(3), datetime64[ns](1), float64(9), int64(9), object(1)\n",
      "memory usage: 666.6+ KB\n"
     ]
    },
    {
     "data": {
      "image/png": "[encoded data removed]",
      "text/plain": [
       "<Figure size 432x288 with 1 Axes>"
      ]
     },
     "metadata": {
      "needs_background": "light"
     },
     "output_type": "display_data"
    },
    {
     "data": {
      "image/png": "[encoded data removed]",
      "text/plain": [
       "<Figure size 432x288 with 1 Axes>"
      ]
     },
     "metadata": {
      "needs_background": "light"
     },
     "output_type": "display_data"
    },
    {
     "data": {
      "image/png": "[encoded data removed]",
      "text/plain": [
       "<Figure size 432x288 with 1 Axes>"
      ]
     },
     "metadata": {
      "needs_background": "light"
     },
     "output_type": "display_data"
    },
    {
     "data": {
      "image/png": "[encoded data removed]",
      "text/plain": [
       "<Figure size 432x288 with 1 Axes>"
      ]
     },
     "metadata": {
      "needs_background": "light"
     },
     "output_type": "display_data"
    },
    {
     "data": {
      "image/png": "[encoded data removed]",
      "text/plain": [
       "<Figure size 432x288 with 1 Axes>"
      ]
     },
     "metadata": {
      "needs_background": "light"
     },
     "output_type": "display_data"
    },
    {
     "data": {
      "image/png": "[encoded data removed]",
      "text/plain": [
       "<Figure size 432x288 with 1 Axes>"
      ]
     },
     "metadata": {
      "needs_background": "light"
     },
     "output_type": "display_data"
    },
    {
     "data": {
      "image/png": "[encoded data removed]",
      "text/plain": [
       "<Figure size 432x288 with 1 Axes>"
      ]
     },
     "metadata": {
      "needs_background": "light"
     },
     "output_type": "display_data"
    },
    {
     "data": {
      "image/png": "[encoded data removed]",
      "text/plain": [
       "<Figure size 432x288 with 1 Axes>"
      ]
     },
     "metadata": {
      "needs_background": "light"
     },
     "output_type": "display_data"
    },
    {
     "data": {
      "image/png": "[encoded data removed]",
      "text/plain": [
       "<Figure size 432x288 with 1 Axes>"
      ]
     },
     "metadata": {
      "needs_background": "light"
     },
     "output_type": "display_data"
    },
    {
     "data": {
      "image/png": "[encoded data removed]",
      "text/plain": [
       "<Figure size 432x288 with 1 Axes>"
      ]
     },
     "metadata": {
      "needs_background": "light"
     },
     "output_type": "display_data"
    },
    {
     "data": {
      "image/png": "[encoded data removed]",
      "text/plain": [
       "<Figure size 432x288 with 1 Axes>"
      ]
     },
     "metadata": {
      "needs_background": "light"
     },
     "output_type": "display_data"
    },
    {
     "data": {
      "image/png": "[encoded data removed]",
      "text/plain": [
       "<Figure size 432x288 with 1 Axes>"
      ]
     },
     "metadata": {
      "needs_background": "light"
     },
     "output_type": "display_data"
    },
    {
     "data": {
      "image/png": "[encoded data removed]",
      "text/plain": [
       "<Figure size 432x288 with 1 Axes>"
      ]
     },
     "metadata": {
      "needs_background": "light"
     },
     "output_type": "display_data"
    },
    {
     "data": {
      "image/png": "[encoded data removed]",
      "text/plain": [
       "<Figure size 432x288 with 1 Axes>"
      ]
     },
     "metadata": {
      "needs_background": "light"
     },
     "output_type": "display_data"
    },
    {
     "data": {
      "image/png": "[encoded data removed]",
      "text/plain": [
       "<Figure size 432x288 with 1 Axes>"
      ]
     },
     "metadata": {
      "needs_background": "light"
     },
     "output_type": "display_data"
    },
    {
     "data": {
      "image/png": "[encoded data removed]",
      "text/plain": [
       "<Figure size 432x288 with 1 Axes>"
      ]
     },
     "metadata": {
      "needs_background": "light"
     },
     "output_type": "display_data"
    },
    {
     "data": {
      "image/png": "[encoded data removed]",
      "text/plain": [
       "<Figure size 432x288 with 1 Axes>"
      ]
     },
     "metadata": {
      "needs_background": "light"
     },
     "output_type": "display_data"
    }
   ],
   "source": [
    "#проверим, что получилось\n",
    "data.info()\n",
    "for i in col:\n",
    "    data.boxplot(column = i)\n",
    "    plt.show()"
   ]
  },
  {
   "cell_type": "markdown",
   "metadata": {},
   "source": [
    "Осталось убедиться, что был удален не слишком большой процент данных (меньше 10%)"
   ]
  },
  {
   "cell_type": "code",
   "execution_count": 22,
   "metadata": {},
   "outputs": [
    {
     "name": "stdout",
     "output_type": "stream",
     "text": [
      "удаленный процент данных 82.33258787290603 %\n"
     ]
    }
   ],
   "source": [
    "print('удаленный процент данных', (100 - len(data)*100/start), '%' )"
   ]
  },
  {
   "cell_type": "code",
   "execution_count": 23,
   "metadata": {},
   "outputs": [
    {
     "data": {
      "text/html": [
       "<div>\n",
       "<style scoped>\n",
       "    .dataframe tbody tr th:only-of-type {\n",
       "        vertical-align: middle;\n",
       "    }\n",
       "\n",
       "    .dataframe tbody tr th {\n",
       "        vertical-align: top;\n",
       "    }\n",
       "\n",
       "    .dataframe thead th {\n",
       "        text-align: right;\n",
       "    }\n",
       "</style>\n",
       "<table border=\"1\" class=\"dataframe\">\n",
       "  <thead>\n",
       "    <tr style=\"text-align: right;\">\n",
       "      <th></th>\n",
       "      <th>index</th>\n",
       "      <th>total_images</th>\n",
       "      <th>last_price</th>\n",
       "      <th>total_area</th>\n",
       "      <th>rooms</th>\n",
       "      <th>ceiling_height</th>\n",
       "      <th>floors_total</th>\n",
       "      <th>living_area</th>\n",
       "      <th>floor</th>\n",
       "      <th>kitchen_area</th>\n",
       "      <th>balcony</th>\n",
       "      <th>airports_nearest</th>\n",
       "      <th>cityCenters_nearest</th>\n",
       "      <th>parks_around3000</th>\n",
       "      <th>parks_nearest</th>\n",
       "      <th>ponds_around3000</th>\n",
       "      <th>ponds_nearest</th>\n",
       "      <th>days_exposition</th>\n",
       "    </tr>\n",
       "  </thead>\n",
       "  <tbody>\n",
       "    <tr>\n",
       "      <th>count</th>\n",
       "      <td>4187.000000</td>\n",
       "      <td>4187.000000</td>\n",
       "      <td>4.187000e+03</td>\n",
       "      <td>4187.000000</td>\n",
       "      <td>4187.000000</td>\n",
       "      <td>4187.000000</td>\n",
       "      <td>4187.000000</td>\n",
       "      <td>4187.000000</td>\n",
       "      <td>4187.000000</td>\n",
       "      <td>4187.000000</td>\n",
       "      <td>4187.000000</td>\n",
       "      <td>4187.000000</td>\n",
       "      <td>4187.000000</td>\n",
       "      <td>4187.000000</td>\n",
       "      <td>4187.000000</td>\n",
       "      <td>4187.000000</td>\n",
       "      <td>4187.000000</td>\n",
       "      <td>3597.000000</td>\n",
       "    </tr>\n",
       "    <tr>\n",
       "      <th>mean</th>\n",
       "      <td>11898.361595</td>\n",
       "      <td>10.087413</td>\n",
       "      <td>7.838778e+06</td>\n",
       "      <td>63.792355</td>\n",
       "      <td>2.171244</td>\n",
       "      <td>2.879859</td>\n",
       "      <td>9.567471</td>\n",
       "      <td>36.708168</td>\n",
       "      <td>5.348698</td>\n",
       "      <td>10.790191</td>\n",
       "      <td>0.517316</td>\n",
       "      <td>27499.944590</td>\n",
       "      <td>12260.505374</td>\n",
       "      <td>1.397659</td>\n",
       "      <td>502.120373</td>\n",
       "      <td>1.666109</td>\n",
       "      <td>500.181992</td>\n",
       "      <td>196.294134</td>\n",
       "    </tr>\n",
       "    <tr>\n",
       "      <th>std</th>\n",
       "      <td>6811.102610</td>\n",
       "      <td>5.711950</td>\n",
       "      <td>6.190925e+06</td>\n",
       "      <td>27.772365</td>\n",
       "      <td>0.998113</td>\n",
       "      <td>0.275836</td>\n",
       "      <td>5.381208</td>\n",
       "      <td>17.880303</td>\n",
       "      <td>4.120582</td>\n",
       "      <td>4.728228</td>\n",
       "      <td>0.935765</td>\n",
       "      <td>10934.114849</td>\n",
       "      <td>8321.348568</td>\n",
       "      <td>0.644521</td>\n",
       "      <td>356.569495</td>\n",
       "      <td>0.823569</td>\n",
       "      <td>267.350259</td>\n",
       "      <td>236.236736</td>\n",
       "    </tr>\n",
       "    <tr>\n",
       "      <th>min</th>\n",
       "      <td>0.000000</td>\n",
       "      <td>0.000000</td>\n",
       "      <td>1.600000e+06</td>\n",
       "      <td>20.000000</td>\n",
       "      <td>0.000000</td>\n",
       "      <td>2.500000</td>\n",
       "      <td>2.000000</td>\n",
       "      <td>8.000000</td>\n",
       "      <td>1.000000</td>\n",
       "      <td>4.000000</td>\n",
       "      <td>0.000000</td>\n",
       "      <td>8255.000000</td>\n",
       "      <td>1178.000000</td>\n",
       "      <td>1.000000</td>\n",
       "      <td>17.000000</td>\n",
       "      <td>1.000000</td>\n",
       "      <td>24.000000</td>\n",
       "      <td>1.000000</td>\n",
       "    </tr>\n",
       "    <tr>\n",
       "      <th>25%</th>\n",
       "      <td>6015.000000</td>\n",
       "      <td>6.000000</td>\n",
       "      <td>4.350000e+06</td>\n",
       "      <td>43.000000</td>\n",
       "      <td>1.000000</td>\n",
       "      <td>2.650000</td>\n",
       "      <td>5.000000</td>\n",
       "      <td>20.550000</td>\n",
       "      <td>2.000000</td>\n",
       "      <td>7.400000</td>\n",
       "      <td>0.000000</td>\n",
       "      <td>19523.500000</td>\n",
       "      <td>6072.000000</td>\n",
       "      <td>1.000000</td>\n",
       "      <td>288.000000</td>\n",
       "      <td>1.000000</td>\n",
       "      <td>281.000000</td>\n",
       "      <td>45.000000</td>\n",
       "    </tr>\n",
       "    <tr>\n",
       "      <th>50%</th>\n",
       "      <td>12009.000000</td>\n",
       "      <td>10.000000</td>\n",
       "      <td>6.000000e+06</td>\n",
       "      <td>57.400000</td>\n",
       "      <td>2.000000</td>\n",
       "      <td>3.000000</td>\n",
       "      <td>9.000000</td>\n",
       "      <td>33.000000</td>\n",
       "      <td>4.000000</td>\n",
       "      <td>10.000000</td>\n",
       "      <td>0.000000</td>\n",
       "      <td>26585.000000</td>\n",
       "      <td>11490.000000</td>\n",
       "      <td>1.000000</td>\n",
       "      <td>444.000000</td>\n",
       "      <td>1.000000</td>\n",
       "      <td>474.000000</td>\n",
       "      <td>105.000000</td>\n",
       "    </tr>\n",
       "    <tr>\n",
       "      <th>75%</th>\n",
       "      <td>17640.000000</td>\n",
       "      <td>14.000000</td>\n",
       "      <td>8.988706e+06</td>\n",
       "      <td>78.000000</td>\n",
       "      <td>3.000000</td>\n",
       "      <td>3.000000</td>\n",
       "      <td>12.000000</td>\n",
       "      <td>47.000000</td>\n",
       "      <td>7.000000</td>\n",
       "      <td>13.000000</td>\n",
       "      <td>1.000000</td>\n",
       "      <td>34843.000000</td>\n",
       "      <td>14895.500000</td>\n",
       "      <td>2.000000</td>\n",
       "      <td>618.000000</td>\n",
       "      <td>2.000000</td>\n",
       "      <td>709.000000</td>\n",
       "      <td>249.000000</td>\n",
       "    </tr>\n",
       "    <tr>\n",
       "      <th>max</th>\n",
       "      <td>23697.000000</td>\n",
       "      <td>28.000000</td>\n",
       "      <td>6.650000e+07</td>\n",
       "      <td>197.000000</td>\n",
       "      <td>6.000000</td>\n",
       "      <td>5.800000</td>\n",
       "      <td>28.000000</td>\n",
       "      <td>95.000000</td>\n",
       "      <td>26.000000</td>\n",
       "      <td>31.000000</td>\n",
       "      <td>5.000000</td>\n",
       "      <td>65568.000000</td>\n",
       "      <td>47318.000000</td>\n",
       "      <td>3.000000</td>\n",
       "      <td>2295.000000</td>\n",
       "      <td>3.000000</td>\n",
       "      <td>1196.000000</td>\n",
       "      <td>1512.000000</td>\n",
       "    </tr>\n",
       "  </tbody>\n",
       "</table>\n",
       "</div>"
      ],
      "text/plain": [
       "              index  total_images    last_price   total_area        rooms  \\\n",
       "count   4187.000000   4187.000000  4.187000e+03  4187.000000  4187.000000   \n",
       "mean   11898.361595     10.087413  7.838778e+06    63.792355     2.171244   \n",
       "std     6811.102610      5.711950  6.190925e+06    27.772365     0.998113   \n",
       "min        0.000000      0.000000  1.600000e+06    20.000000     0.000000   \n",
       "25%     6015.000000      6.000000  4.350000e+06    43.000000     1.000000   \n",
       "50%    12009.000000     10.000000  6.000000e+06    57.400000     2.000000   \n",
       "75%    17640.000000     14.000000  8.988706e+06    78.000000     3.000000   \n",
       "max    23697.000000     28.000000  6.650000e+07   197.000000     6.000000   \n",
       "\n",
       "       ceiling_height  floors_total  living_area        floor  kitchen_area  \\\n",
       "count     4187.000000   4187.000000  4187.000000  4187.000000   4187.000000   \n",
       "mean         2.879859      9.567471    36.708168     5.348698     10.790191   \n",
       "std          0.275836      5.381208    17.880303     4.120582      4.728228   \n",
       "min          2.500000      2.000000     8.000000     1.000000      4.000000   \n",
       "25%          2.650000      5.000000    20.550000     2.000000      7.400000   \n",
       "50%          3.000000      9.000000    33.000000     4.000000     10.000000   \n",
       "75%          3.000000     12.000000    47.000000     7.000000     13.000000   \n",
       "max          5.800000     28.000000    95.000000    26.000000     31.000000   \n",
       "\n",
       "           balcony  airports_nearest  cityCenters_nearest  parks_around3000  \\\n",
       "count  4187.000000       4187.000000          4187.000000       4187.000000   \n",
       "mean      0.517316      27499.944590         12260.505374          1.397659   \n",
       "std       0.935765      10934.114849          8321.348568          0.644521   \n",
       "min       0.000000       8255.000000          1178.000000          1.000000   \n",
       "25%       0.000000      19523.500000          6072.000000          1.000000   \n",
       "50%       0.000000      26585.000000         11490.000000          1.000000   \n",
       "75%       1.000000      34843.000000         14895.500000          2.000000   \n",
       "max       5.000000      65568.000000         47318.000000          3.000000   \n",
       "\n",
       "       parks_nearest  ponds_around3000  ponds_nearest  days_exposition  \n",
       "count    4187.000000       4187.000000    4187.000000      3597.000000  \n",
       "mean      502.120373          1.666109     500.181992       196.294134  \n",
       "std       356.569495          0.823569     267.350259       236.236736  \n",
       "min        17.000000          1.000000      24.000000         1.000000  \n",
       "25%       288.000000          1.000000     281.000000        45.000000  \n",
       "50%       444.000000          1.000000     474.000000       105.000000  \n",
       "75%       618.000000          2.000000     709.000000       249.000000  \n",
       "max      2295.000000          3.000000    1196.000000      1512.000000  "
      ]
     },
     "execution_count": 23,
     "metadata": {},
     "output_type": "execute_result"
    }
   ],
   "source": [
    "data.describe()"
   ]
  },
  {
   "cell_type": "markdown",
   "metadata": {},
   "source": [
    "Введем новые столбцы"
   ]
  },
  {
   "cell_type": "code",
   "execution_count": 24,
   "metadata": {},
   "outputs": [],
   "source": [
    "#цена одного квадратного метра\n",
    "data['one_m'] = data['last_price'] / data['total_area']\n",
    "\n",
    "#день публикации объявления (0 - понедельник, 1 - вторник и т.д.)\n",
    "data['week_day'] = data['first_day_exposition'].dt.weekday\n",
    "\n",
    "#месяц публикации объявления\n",
    "data['month'] = data['first_day_exposition'].dt.month\n",
    "\n",
    "#год публикации объявления\n",
    "data['year'] = data['first_day_exposition'].dt.year\n",
    "\n",
    "#тип этажа квартиры (значения — «первый», «последний», «другой»)\n",
    "\n",
    "import numpy as np\n",
    "data['floor_'] = data['floor'].apply(lambda x: 'первый' if x == 1 else 'другой' )\n",
    "data['floor_'] = np.where(data['floor'] == data['floors_total'],'последний',data['floor_'])\n",
    "\n",
    "#расстояние в км до центра города\n",
    "data['cityCenters_nearest_km'] = np.round(data['cityCenters_nearest']/1000)"
   ]
  },
  {
   "cell_type": "code",
   "execution_count": 25,
   "metadata": {},
   "outputs": [
    {
     "data": {
      "text/html": [
       "<div>\n",
       "<style scoped>\n",
       "    .dataframe tbody tr th:only-of-type {\n",
       "        vertical-align: middle;\n",
       "    }\n",
       "\n",
       "    .dataframe tbody tr th {\n",
       "        vertical-align: top;\n",
       "    }\n",
       "\n",
       "    .dataframe thead th {\n",
       "        text-align: right;\n",
       "    }\n",
       "</style>\n",
       "<table border=\"1\" class=\"dataframe\">\n",
       "  <thead>\n",
       "    <tr style=\"text-align: right;\">\n",
       "      <th></th>\n",
       "      <th>index</th>\n",
       "      <th>total_images</th>\n",
       "      <th>last_price</th>\n",
       "      <th>total_area</th>\n",
       "      <th>first_day_exposition</th>\n",
       "      <th>rooms</th>\n",
       "      <th>ceiling_height</th>\n",
       "      <th>floors_total</th>\n",
       "      <th>living_area</th>\n",
       "      <th>floor</th>\n",
       "      <th>is_apartment</th>\n",
       "      <th>studio</th>\n",
       "      <th>open_plan</th>\n",
       "      <th>kitchen_area</th>\n",
       "      <th>balcony</th>\n",
       "      <th>locality_name</th>\n",
       "      <th>airports_nearest</th>\n",
       "      <th>cityCenters_nearest</th>\n",
       "      <th>parks_around3000</th>\n",
       "      <th>parks_nearest</th>\n",
       "      <th>ponds_around3000</th>\n",
       "      <th>ponds_nearest</th>\n",
       "      <th>days_exposition</th>\n",
       "      <th>one_m</th>\n",
       "      <th>week_day</th>\n",
       "      <th>month</th>\n",
       "      <th>year</th>\n",
       "      <th>floor_</th>\n",
       "      <th>cityCenters_nearest_km</th>\n",
       "    </tr>\n",
       "  </thead>\n",
       "  <tbody>\n",
       "    <tr>\n",
       "      <th>0</th>\n",
       "      <td>0</td>\n",
       "      <td>20</td>\n",
       "      <td>13000000</td>\n",
       "      <td>108.0</td>\n",
       "      <td>2019-03-07</td>\n",
       "      <td>3</td>\n",
       "      <td>2.70</td>\n",
       "      <td>16</td>\n",
       "      <td>51.0</td>\n",
       "      <td>8</td>\n",
       "      <td>False</td>\n",
       "      <td>False</td>\n",
       "      <td>False</td>\n",
       "      <td>25.0</td>\n",
       "      <td>0</td>\n",
       "      <td>санкт-петербург</td>\n",
       "      <td>18863.0</td>\n",
       "      <td>16028.0</td>\n",
       "      <td>1</td>\n",
       "      <td>482.0</td>\n",
       "      <td>2</td>\n",
       "      <td>755.0</td>\n",
       "      <td>NaN</td>\n",
       "      <td>120370.370370</td>\n",
       "      <td>3</td>\n",
       "      <td>3</td>\n",
       "      <td>2019</td>\n",
       "      <td>другой</td>\n",
       "      <td>16.0</td>\n",
       "    </tr>\n",
       "    <tr>\n",
       "      <th>1</th>\n",
       "      <td>2</td>\n",
       "      <td>10</td>\n",
       "      <td>5196000</td>\n",
       "      <td>56.0</td>\n",
       "      <td>2015-08-20</td>\n",
       "      <td>2</td>\n",
       "      <td>3.00</td>\n",
       "      <td>5</td>\n",
       "      <td>34.3</td>\n",
       "      <td>4</td>\n",
       "      <td>False</td>\n",
       "      <td>False</td>\n",
       "      <td>False</td>\n",
       "      <td>8.3</td>\n",
       "      <td>0</td>\n",
       "      <td>санкт-петербург</td>\n",
       "      <td>21741.0</td>\n",
       "      <td>13933.0</td>\n",
       "      <td>1</td>\n",
       "      <td>90.0</td>\n",
       "      <td>2</td>\n",
       "      <td>574.0</td>\n",
       "      <td>558.0</td>\n",
       "      <td>92785.714286</td>\n",
       "      <td>3</td>\n",
       "      <td>8</td>\n",
       "      <td>2015</td>\n",
       "      <td>другой</td>\n",
       "      <td>14.0</td>\n",
       "    </tr>\n",
       "    <tr>\n",
       "      <th>2</th>\n",
       "      <td>3</td>\n",
       "      <td>0</td>\n",
       "      <td>64900000</td>\n",
       "      <td>159.0</td>\n",
       "      <td>2015-07-24</td>\n",
       "      <td>3</td>\n",
       "      <td>3.00</td>\n",
       "      <td>14</td>\n",
       "      <td>92.0</td>\n",
       "      <td>9</td>\n",
       "      <td>False</td>\n",
       "      <td>False</td>\n",
       "      <td>False</td>\n",
       "      <td>28.0</td>\n",
       "      <td>0</td>\n",
       "      <td>санкт-петербург</td>\n",
       "      <td>28098.0</td>\n",
       "      <td>6800.0</td>\n",
       "      <td>2</td>\n",
       "      <td>84.0</td>\n",
       "      <td>3</td>\n",
       "      <td>234.0</td>\n",
       "      <td>424.0</td>\n",
       "      <td>408176.100629</td>\n",
       "      <td>4</td>\n",
       "      <td>7</td>\n",
       "      <td>2015</td>\n",
       "      <td>другой</td>\n",
       "      <td>7.0</td>\n",
       "    </tr>\n",
       "    <tr>\n",
       "      <th>3</th>\n",
       "      <td>10</td>\n",
       "      <td>5</td>\n",
       "      <td>5050000</td>\n",
       "      <td>39.6</td>\n",
       "      <td>2017-11-16</td>\n",
       "      <td>1</td>\n",
       "      <td>2.67</td>\n",
       "      <td>12</td>\n",
       "      <td>20.3</td>\n",
       "      <td>3</td>\n",
       "      <td>False</td>\n",
       "      <td>False</td>\n",
       "      <td>False</td>\n",
       "      <td>8.5</td>\n",
       "      <td>0</td>\n",
       "      <td>санкт-петербург</td>\n",
       "      <td>38357.0</td>\n",
       "      <td>13878.0</td>\n",
       "      <td>1</td>\n",
       "      <td>310.0</td>\n",
       "      <td>2</td>\n",
       "      <td>553.0</td>\n",
       "      <td>137.0</td>\n",
       "      <td>127525.252525</td>\n",
       "      <td>3</td>\n",
       "      <td>11</td>\n",
       "      <td>2017</td>\n",
       "      <td>другой</td>\n",
       "      <td>14.0</td>\n",
       "    </tr>\n",
       "    <tr>\n",
       "      <th>4</th>\n",
       "      <td>13</td>\n",
       "      <td>20</td>\n",
       "      <td>3550000</td>\n",
       "      <td>42.8</td>\n",
       "      <td>2017-07-01</td>\n",
       "      <td>2</td>\n",
       "      <td>2.56</td>\n",
       "      <td>5</td>\n",
       "      <td>27.0</td>\n",
       "      <td>5</td>\n",
       "      <td>False</td>\n",
       "      <td>False</td>\n",
       "      <td>False</td>\n",
       "      <td>5.2</td>\n",
       "      <td>1</td>\n",
       "      <td>петергоф</td>\n",
       "      <td>37868.0</td>\n",
       "      <td>33058.0</td>\n",
       "      <td>1</td>\n",
       "      <td>294.0</td>\n",
       "      <td>3</td>\n",
       "      <td>298.0</td>\n",
       "      <td>366.0</td>\n",
       "      <td>82943.925234</td>\n",
       "      <td>5</td>\n",
       "      <td>7</td>\n",
       "      <td>2017</td>\n",
       "      <td>последний</td>\n",
       "      <td>33.0</td>\n",
       "    </tr>\n",
       "  </tbody>\n",
       "</table>\n",
       "</div>"
      ],
      "text/plain": [
       "   index  total_images  last_price  total_area first_day_exposition  rooms  \\\n",
       "0      0            20    13000000       108.0           2019-03-07      3   \n",
       "1      2            10     5196000        56.0           2015-08-20      2   \n",
       "2      3             0    64900000       159.0           2015-07-24      3   \n",
       "3     10             5     5050000        39.6           2017-11-16      1   \n",
       "4     13            20     3550000        42.8           2017-07-01      2   \n",
       "\n",
       "   ceiling_height  floors_total  living_area  floor  is_apartment  studio  \\\n",
       "0            2.70            16         51.0      8         False   False   \n",
       "1            3.00             5         34.3      4         False   False   \n",
       "2            3.00            14         92.0      9         False   False   \n",
       "3            2.67            12         20.3      3         False   False   \n",
       "4            2.56             5         27.0      5         False   False   \n",
       "\n",
       "   open_plan  kitchen_area  balcony    locality_name  airports_nearest  \\\n",
       "0      False          25.0        0  санкт-петербург           18863.0   \n",
       "1      False           8.3        0  санкт-петербург           21741.0   \n",
       "2      False          28.0        0  санкт-петербург           28098.0   \n",
       "3      False           8.5        0  санкт-петербург           38357.0   \n",
       "4      False           5.2        1         петергоф           37868.0   \n",
       "\n",
       "   cityCenters_nearest  parks_around3000  parks_nearest  ponds_around3000  \\\n",
       "0              16028.0                 1          482.0                 2   \n",
       "1              13933.0                 1           90.0                 2   \n",
       "2               6800.0                 2           84.0                 3   \n",
       "3              13878.0                 1          310.0                 2   \n",
       "4              33058.0                 1          294.0                 3   \n",
       "\n",
       "   ponds_nearest  days_exposition          one_m  week_day  month  year  \\\n",
       "0          755.0              NaN  120370.370370         3      3  2019   \n",
       "1          574.0            558.0   92785.714286         3      8  2015   \n",
       "2          234.0            424.0  408176.100629         4      7  2015   \n",
       "3          553.0            137.0  127525.252525         3     11  2017   \n",
       "4          298.0            366.0   82943.925234         5      7  2017   \n",
       "\n",
       "      floor_  cityCenters_nearest_km  \n",
       "0     другой                    16.0  \n",
       "1     другой                    14.0  \n",
       "2     другой                     7.0  \n",
       "3     другой                    14.0  \n",
       "4  последний                    33.0  "
      ]
     },
     "execution_count": 25,
     "metadata": {},
     "output_type": "execute_result"
    }
   ],
   "source": [
    "data.head()"
   ]
  },
  {
   "cell_type": "markdown",
   "metadata": {},
   "source": [
    "На этом этапе я заполнела по возможности пропуски, поработала с дубликатами и добавила несколько столбцов, теперь данные готовы для корректного анализа."
   ]
  },
  {
   "cell_type": "markdown",
   "metadata": {},
   "source": [
    "### Проведем исследовательский анализ данных"
   ]
  },
  {
   "cell_type": "markdown",
   "metadata": {},
   "source": [
    "Изучим некоторые параметры отдельно"
   ]
  },
  {
   "cell_type": "code",
   "execution_count": 26,
   "metadata": {},
   "outputs": [
    {
     "data": {
      "image/png": "[encoded data removed]",
      "text/plain": [
       "<Figure size 432x288 with 1 Axes>"
      ]
     },
     "metadata": {
      "needs_background": "light"
     },
     "output_type": "display_data"
    },
    {
     "data": {
      "text/plain": [
       "count    4187.000000\n",
       "mean       63.792355\n",
       "std        27.772365\n",
       "min        20.000000\n",
       "25%        43.000000\n",
       "50%        57.400000\n",
       "75%        78.000000\n",
       "max       197.000000\n",
       "Name: total_area, dtype: float64"
      ]
     },
     "execution_count": 26,
     "metadata": {},
     "output_type": "execute_result"
    }
   ],
   "source": [
    "#общая площадь\n",
    "data['total_area'].hist(bins=10)\n",
    "plt.show()\n",
    "data['total_area'].describe()\n"
   ]
  },
  {
   "cell_type": "markdown",
   "metadata": {},
   "source": [
    "Построив гистограмму общей площади квартир, можно сделать вывод, что распределение данных близко к нормальному. Наибольший процент значений приходится на 35-55 м^2. Медианное значение 51 м^2, а среднее 56 м^2. Разница между ними объяснима: распределение не является идеально нормальным, значениия выше медианного преобладают, но это не является ошибкой, потому что понятно, что не существует квартир меньше какого-то небольшого метража (в наших данных минимальное значение 20). Такие квартиры представляют собой либо студии, либо однокомнатные квартиры, а вариантов с метражом выше среднего гараздо больше. Потому что нет какого-то строгого ограничения сверху на количество квадратных метров квартиры ( конкретно в нашем датасете максимальное значение 1977, они могут представлять собой от студий, до 5, 6 и т.д. -квартирных помещений.\n",
    "\n",
    "Данные действительно отображают реальную картину."
   ]
  },
  {
   "cell_type": "code",
   "execution_count": 27,
   "metadata": {},
   "outputs": [
    {
     "data": {
      "image/png": "[encoded data removed]",
      "text/plain": [
       "<Figure size 432x288 with 1 Axes>"
      ]
     },
     "metadata": {
      "needs_background": "light"
     },
     "output_type": "display_data"
    },
    {
     "data": {
      "text/plain": [
       "count    4187.000000\n",
       "mean       36.708168\n",
       "std        17.880303\n",
       "min         8.000000\n",
       "25%        20.550000\n",
       "50%        33.000000\n",
       "75%        47.000000\n",
       "max        95.000000\n",
       "Name: living_area, dtype: float64"
      ]
     },
     "execution_count": 27,
     "metadata": {},
     "output_type": "execute_result"
    }
   ],
   "source": [
    "#жилая площадь\n",
    "data['living_area'].hist(bins=15)\n",
    "plt.show()\n",
    "data['living_area'].describe() "
   ]
  },
  {
   "cell_type": "markdown",
   "metadata": {},
   "source": [
    "Построив гистограмму, можно сделать вывод, что распределение данных близко к реальному. Наибольший процент значений приходится на 17-20 м^2. Медианное значение 30 м^2, а среднее 32 м^2. Разница между ними объяснима: по гистограмме видно, что количество значений меньше медианного явно меньше, чем тех, которые больше него. (опять же это можно объяснить теми же размышлениями про ограничения площади квартиры сверху и снизу)\n",
    "Минимальное значение - 8 кв.м\n",
    "Максимальное значение - 95 кв.м\n",
    "Данные действительно отображают реальную картину."
   ]
  },
  {
   "cell_type": "code",
   "execution_count": 28,
   "metadata": {},
   "outputs": [
    {
     "data": {
      "image/png": "[encoded data removed]",
      "text/plain": [
       "<Figure size 432x288 with 1 Axes>"
      ]
     },
     "metadata": {
      "needs_background": "light"
     },
     "output_type": "display_data"
    },
    {
     "data": {
      "text/plain": [
       "count    4187.000000\n",
       "mean       10.790191\n",
       "std         4.728228\n",
       "min         4.000000\n",
       "25%         7.400000\n",
       "50%        10.000000\n",
       "75%        13.000000\n",
       "max        31.000000\n",
       "Name: kitchen_area, dtype: float64"
      ]
     },
     "execution_count": 28,
     "metadata": {},
     "output_type": "execute_result"
    }
   ],
   "source": [
    "#площадь кухни\n",
    "data['kitchen_area'].hist(bins=10)\n",
    "plt.show()\n",
    "data['kitchen_area'].describe()"
   ]
  },
  {
   "cell_type": "markdown",
   "metadata": {},
   "source": [
    "Построив гистограмму, можно сделать вывод, что распределение данных близко к реальному. Наибольший процент значений приходится на 7-9 м^2. Медианное значение 9 м^2, а среднее 10 м^2. Разница между ними очень небольшая.\n",
    "Минимальное значение - 4 кв.м\n",
    "Максимальное значение - 31 кв.м\n",
    "\n",
    "Данные действительно отображают реальную картину."
   ]
  },
  {
   "cell_type": "code",
   "execution_count": 29,
   "metadata": {},
   "outputs": [
    {
     "data": {
      "image/png": "[encoded data removed]",
      "text/plain": [
       "<Figure size 432x288 with 1 Axes>"
      ]
     },
     "metadata": {
      "needs_background": "light"
     },
     "output_type": "display_data"
    },
    {
     "data": {
      "text/plain": [
       "count    4.187000e+03\n",
       "mean     7.838778e+06\n",
       "std      6.190925e+06\n",
       "min      1.600000e+06\n",
       "25%      4.350000e+06\n",
       "50%      6.000000e+06\n",
       "75%      8.988706e+06\n",
       "max      6.650000e+07\n",
       "Name: last_price, dtype: float64"
      ]
     },
     "execution_count": 29,
     "metadata": {},
     "output_type": "execute_result"
    }
   ],
   "source": [
    "#цена объекта\n",
    "data['last_price'].hist(bins=20)\n",
    "plt.show()\n",
    "data['last_price'].describe()"
   ]
  },
  {
   "cell_type": "markdown",
   "metadata": {},
   "source": [
    "Построив гистограмму, можно сделать вывод, что распределение данных близко к реальному. Наибольший процент значений приходится на 4-7 млн рублей. Медианное значение 4.5 млн рублей, а среднее 5.31 млн рублей. Также много квартир дешевле промежутка 4-7 млн рублей, и меньше тех, что дороже. Больше 10 млн рублей продалось квартир значительно меньше. Минимальная стоимость квартиры составляет 430 тыс рублей, а максимальная  65 млн рублей. Такой разброс говорит о том, что стоимость значительно варьируется, а значит скорее всего сильно зависит от всевозможных параметров.\n"
   ]
  },
  {
   "cell_type": "code",
   "execution_count": 30,
   "metadata": {},
   "outputs": [
    {
     "data": {
      "image/png": "[encoded data removed]",
      "text/plain": [
       "<Figure size 432x288 with 1 Axes>"
      ]
     },
     "metadata": {
      "needs_background": "light"
     },
     "output_type": "display_data"
    },
    {
     "data": {
      "text/plain": [
       "count    4187.000000\n",
       "mean        2.171244\n",
       "std         0.998113\n",
       "min         0.000000\n",
       "25%         1.000000\n",
       "50%         2.000000\n",
       "75%         3.000000\n",
       "max         6.000000\n",
       "Name: rooms, dtype: float64"
      ]
     },
     "execution_count": 30,
     "metadata": {},
     "output_type": "execute_result"
    }
   ],
   "source": [
    "#количество комнат\n",
    "data['rooms'].hist(bins=15)\n",
    "plt.show()\n",
    "data['rooms'].describe()"
   ]
  },
  {
   "cell_type": "markdown",
   "metadata": {},
   "source": [
    "Построив гистограмму видно, что наиболее распространенные варианты квартир - это однокомнатные и двухкомнатные. Также продается достаточно много 3-комнатных квартир, а остальных - кратно меньше. Это логично, потому что 1 и 2 - комнатные квартиры более популярны, потому что сейчас в Санкт-Петербург стекается множество молодых людей, которым для начала вполне достаточно 1- комнатной квартиры, и также логично предположить, что 2 - комнатные квартиры пользуются спросом среди молодых семей. А это в совокупности очень большая часть целевой аудитории, готовой покупать недвижимость."
   ]
  },
  {
   "cell_type": "code",
   "execution_count": 31,
   "metadata": {},
   "outputs": [
    {
     "data": {
      "image/png": "[encoded data removed]",
      "text/plain": [
       "<Figure size 432x288 with 1 Axes>"
      ]
     },
     "metadata": {
      "needs_background": "light"
     },
     "output_type": "display_data"
    },
    {
     "data": {
      "text/plain": [
       "count    4187.000000\n",
       "mean        2.879859\n",
       "std         0.275836\n",
       "min         2.500000\n",
       "25%         2.650000\n",
       "50%         3.000000\n",
       "75%         3.000000\n",
       "max         5.800000\n",
       "Name: ceiling_height, dtype: float64"
      ]
     },
     "execution_count": 31,
     "metadata": {},
     "output_type": "execute_result"
    }
   ],
   "source": [
    "#высота потолков\n",
    "data['ceiling_height'].hist(bins=10)\n",
    "plt.show()\n",
    "data['ceiling_height'].describe()"
   ]
  },
  {
   "cell_type": "markdown",
   "metadata": {},
   "source": [
    "Построив гистограму видим, что средняя высота потолков и медианное значения равны 2,8 м. наибольший процент значений наблюдается в интервале от 2,5 до 3 м. Это звучит правдоподобно, потому что это стандартная высота потолков, также есть квартиры с более высокими потолками, тем более в этом городе специфика архитектуры подразумевает это."
   ]
  },
  {
   "cell_type": "code",
   "execution_count": 32,
   "metadata": {},
   "outputs": [
    {
     "data": {
      "image/png": "[encoded data removed]",
      "text/plain": [
       "<Figure size 432x288 with 1 Axes>"
      ]
     },
     "metadata": {
      "needs_background": "light"
     },
     "output_type": "display_data"
    },
    {
     "data": {
      "text/plain": [
       "count    4187.000000\n",
       "mean        5.348698\n",
       "std         4.120582\n",
       "min         1.000000\n",
       "25%         2.000000\n",
       "50%         4.000000\n",
       "75%         7.000000\n",
       "max        26.000000\n",
       "Name: floor, dtype: float64"
      ]
     },
     "execution_count": 32,
     "metadata": {},
     "output_type": "execute_result"
    }
   ],
   "source": [
    "#этаж квартиры;\n",
    "data['floor'].hist(bins=27)\n",
    "plt.show()\n",
    "data['floor'].describe()"
   ]
  },
  {
   "cell_type": "markdown",
   "metadata": {},
   "source": [
    "По гистограмме видно, что график убывает, что вполне логично, так как первые этажы есть во всех домах, а 27 (max) имеют только высотки. Соответственно, чем выше этаж, тем реже он может встретиться."
   ]
  },
  {
   "cell_type": "code",
   "execution_count": 33,
   "metadata": {},
   "outputs": [
    {
     "data": {
      "image/png": "[encoded data removed]",
      "text/plain": [
       "<Figure size 432x288 with 1 Axes>"
      ]
     },
     "metadata": {
      "needs_background": "light"
     },
     "output_type": "display_data"
    },
    {
     "data": {
      "text/plain": [
       "count       4187\n",
       "unique         3\n",
       "top       другой\n",
       "freq        3079\n",
       "Name: floor_, dtype: object"
      ]
     },
     "execution_count": 33,
     "metadata": {},
     "output_type": "execute_result"
    }
   ],
   "source": [
    "#тип этажа квартиры («первый», «последний», «другой»);\n",
    "data['floor_'].hist(bins=10)\n",
    "plt.show()\n",
    "data['floor_'].describe()"
   ]
  },
  {
   "cell_type": "markdown",
   "metadata": {},
   "source": [
    "Кратно чаще встречается тип этажа \"другой\". Это выглядит правдоподобно, так как первый и последний этажи - это всего лишь два варианта этажа, а другой - все варианты этажей между ними. К тому же, с точки зрения жизни, люди стараются, в основном, купить квартиру типа \"другой\", потому что на первом этаже окна находятся на уровне глаз прохожих, а на последнем этаже - выше вероятность протечки крыши."
   ]
  },
  {
   "cell_type": "code",
   "execution_count": 34,
   "metadata": {},
   "outputs": [
    {
     "data": {
      "image/png": "[encoded data removed]",
      "text/plain": [
       "<Figure size 432x288 with 1 Axes>"
      ]
     },
     "metadata": {
      "needs_background": "light"
     },
     "output_type": "display_data"
    },
    {
     "data": {
      "text/plain": [
       "count    4187.000000\n",
       "mean        9.567471\n",
       "std         5.381208\n",
       "min         2.000000\n",
       "25%         5.000000\n",
       "50%         9.000000\n",
       "75%        12.000000\n",
       "max        28.000000\n",
       "Name: floors_total, dtype: float64"
      ]
     },
     "execution_count": 34,
     "metadata": {},
     "output_type": "execute_result"
    }
   ],
   "source": [
    "#общее количество этажей в доме;\n",
    "data['floors_total'].hist(bins=20)\n",
    "plt.show()\n",
    "data['floors_total'].describe()"
   ]
  },
  {
   "cell_type": "markdown",
   "metadata": {},
   "source": [
    "Самые часто встречающиеся дома в нашей выборке являются 4-5 или 8-9 этажными. Но также есть высокие дома до 29 этажей (max). Аналогично есть дома с меньшим количеством этажей."
   ]
  },
  {
   "cell_type": "code",
   "execution_count": 35,
   "metadata": {},
   "outputs": [
    {
     "data": {
      "image/png": "[encoded data removed]",
      "text/plain": [
       "<Figure size 432x288 with 1 Axes>"
      ]
     },
     "metadata": {
      "needs_background": "light"
     },
     "output_type": "display_data"
    },
    {
     "data": {
      "text/plain": [
       "count     4187.000000\n",
       "mean     12260.505374\n",
       "std       8321.348568\n",
       "min       1178.000000\n",
       "25%       6072.000000\n",
       "50%      11490.000000\n",
       "75%      14895.500000\n",
       "max      47318.000000\n",
       "Name: cityCenters_nearest, dtype: float64"
      ]
     },
     "execution_count": 35,
     "metadata": {},
     "output_type": "execute_result"
    }
   ],
   "source": [
    "#расстояние до центра города в метрах\n",
    "data['cityCenters_nearest'].hist(bins=15)\n",
    "plt.show()\n",
    "data['cityCenters_nearest'].describe()"
   ]
  },
  {
   "cell_type": "raw",
   "metadata": {},
   "source": [
    "Расстояние, на котором находятся квартиры от центра, очень сильно варьируется. Медианное значение примерно 13 км. Со средней скоростью машины по городу (возьмем 60-70 км/ч) потребуется около 10 минут чобы добраться до центра. Из этих рассуждений, можно сделать вывод, что значение правдоподобно. Однако есть квартиры, которые находятся прямо в центре (1,2 км - минимальное значение), а есть, напротив, отдаленные районы (50 км - максимальное значение)"
   ]
  },
  {
   "cell_type": "code",
   "execution_count": 36,
   "metadata": {},
   "outputs": [
    {
     "data": {
      "image/png": "[encoded data removed]",
      "text/plain": [
       "<Figure size 432x288 with 1 Axes>"
      ]
     },
     "metadata": {
      "needs_background": "light"
     },
     "output_type": "display_data"
    },
    {
     "data": {
      "text/plain": [
       "count     4187.000000\n",
       "mean     27499.944590\n",
       "std      10934.114849\n",
       "min       8255.000000\n",
       "25%      19523.500000\n",
       "50%      26585.000000\n",
       "75%      34843.000000\n",
       "max      65568.000000\n",
       "Name: airports_nearest, dtype: float64"
      ]
     },
     "execution_count": 36,
     "metadata": {},
     "output_type": "execute_result"
    }
   ],
   "source": [
    "#расстояние до ближайшего аэропорта\n",
    "data['airports_nearest'].hist(bins=15)\n",
    "plt.show()\n",
    "data['airports_nearest'].describe()"
   ]
  },
  {
   "cell_type": "markdown",
   "metadata": {},
   "source": [
    "Медианное значение расстояния до ближайшего аэропорта равно 27 км, что также похоже на правду. Минимальное - 7,9 км, а максимальное - 65 км."
   ]
  },
  {
   "cell_type": "code",
   "execution_count": 37,
   "metadata": {},
   "outputs": [
    {
     "data": {
      "image/png": "[encoded data removed]",
      "text/plain": [
       "<Figure size 432x288 with 1 Axes>"
      ]
     },
     "metadata": {
      "needs_background": "light"
     },
     "output_type": "display_data"
    },
    {
     "data": {
      "text/plain": [
       "count    4187.000000\n",
       "mean      502.120373\n",
       "std       356.569495\n",
       "min        17.000000\n",
       "25%       288.000000\n",
       "50%       444.000000\n",
       "75%       618.000000\n",
       "max      2295.000000\n",
       "Name: parks_nearest, dtype: float64"
      ]
     },
     "execution_count": 37,
     "metadata": {},
     "output_type": "execute_result"
    }
   ],
   "source": [
    "#расстояние до ближайшего парка\n",
    "data['parks_nearest'].hist(bins=15)\n",
    "plt.show()\n",
    "data['parks_nearest'].describe()\n"
   ]
  },
  {
   "cell_type": "markdown",
   "metadata": {},
   "source": [
    "Расстояние до ближайшего парка в основном варьируется от 400 до 550 м. МЕдианное значение 455м, а среднее - 459 м. Однако есть квартиры с шаговой доступностью парка (37 м - минимальное значение), а есть, наоборот, на большом расстоянии от парков (максимальное значение - 1942 м)"
   ]
  },
  {
   "cell_type": "code",
   "execution_count": 38,
   "metadata": {},
   "outputs": [
    {
     "data": {
      "image/png": "[encoded data removed]",
      "text/plain": [
       "<Figure size 432x288 with 1 Axes>"
      ]
     },
     "metadata": {
      "needs_background": "light"
     },
     "output_type": "display_data"
    },
    {
     "data": {
      "text/plain": [
       "count    4187.000000\n",
       "mean        2.551947\n",
       "std         1.780438\n",
       "min         0.000000\n",
       "25%         1.000000\n",
       "50%         2.000000\n",
       "75%         4.000000\n",
       "max         6.000000\n",
       "Name: week_day, dtype: float64"
      ]
     },
     "execution_count": 38,
     "metadata": {},
     "output_type": "execute_result"
    }
   ],
   "source": [
    "#день публикации объявления\n",
    "data['week_day'].hist(bins=15)\n",
    "plt.show()\n",
    "data['week_day'].describe()"
   ]
  },
  {
   "cell_type": "markdown",
   "metadata": {},
   "source": [
    "Построив гистограмму видно, что в будние дни люди чаще выставляют объявления, чем в выходные           "
   ]
  },
  {
   "cell_type": "code",
   "execution_count": 39,
   "metadata": {},
   "outputs": [
    {
     "data": {
      "image/png": "[encoded data removed]",
      "text/plain": [
       "<Figure size 432x288 with 1 Axes>"
      ]
     },
     "metadata": {
      "needs_background": "light"
     },
     "output_type": "display_data"
    },
    {
     "data": {
      "text/plain": [
       "count    4187.000000\n",
       "mean        6.405780\n",
       "std         3.467189\n",
       "min         1.000000\n",
       "25%         3.000000\n",
       "50%         6.000000\n",
       "75%        10.000000\n",
       "max        12.000000\n",
       "Name: month, dtype: float64"
      ]
     },
     "execution_count": 39,
     "metadata": {},
     "output_type": "execute_result"
    }
   ],
   "source": [
    "#месяц публикации объявления\n",
    "data['month'].hist(bins=24)\n",
    "plt.show()\n",
    "data['month'].describe()"
   ]
  },
  {
   "cell_type": "markdown",
   "metadata": {},
   "source": [
    "Наибольшее количество объявлений приходится на февраль, а наименьшее - на май. Если смотреть более обще, то можно увидеть, что в середине года выставляется меньше объявлений, чем в начале и в конце (то есть летом менее активно)."
   ]
  },
  {
   "cell_type": "code",
   "execution_count": 40,
   "metadata": {},
   "outputs": [
    {
     "data": {
      "image/png": "[encoded data removed]",
      "text/plain": [
       "<Figure size 432x288 with 1 Axes>"
      ]
     },
     "metadata": {
      "needs_background": "light"
     },
     "output_type": "display_data"
    },
    {
     "name": "stdout",
     "output_type": "stream",
     "text": [
      "Медианное значение 105.0\n",
      "Среднее значение 196.29413400055603\n",
      "min значение 1.0\n",
      "max значение 1512.0000000000002\n"
     ]
    }
   ],
   "source": [
    "#Изучим как быстро продавались квартиры\n",
    "data['days_exposition'].hist(bins=15)\n",
    "plt.show()\n",
    "print('Медианное значение',data['days_exposition'].median())\n",
    "print('Среднее значение',data['days_exposition'].mean())\n",
    "print('min значение',data['days_exposition'].min())\n",
    "print('max значение',data['days_exposition'].max())"
   ]
  },
  {
   "cell_type": "markdown",
   "metadata": {},
   "source": [
    "График похож на распределение Пуассона. Медианное значение равно 95 дней, а среднее - 164 дня. Разница объяснима, так как по диаграмме видно, что наиболее часто встречающиеся значения, это значения <= медианному. После него разброс более обширный, но и более редкий. Быстрыми можно назвать продажи меньше чем за 95 дней, а медлиными - больше 200. Промежуток между ними будем считать нормальным сроком продажи квартиры."
   ]
  },
  {
   "cell_type": "markdown",
   "metadata": {},
   "source": [
    "Рассмотрим какие факторы больше всего влияют на общую стоимость объекта? Построим графики, которые покажут зависимость цены от различных параметров ( общей площади; жилой площади; площади кухни; количество комнат; типа этажа, на котором расположена квартира; даты размещения). Для подготовки данных перед визуализацией используем сводные таблицы."
   ]
  },
  {
   "cell_type": "code",
   "execution_count": 41,
   "metadata": {},
   "outputs": [
    {
     "data": {
      "image/png": "[encoded data removed]",
      "text/plain": [
       "<Figure size 432x288 with 1 Axes>"
      ]
     },
     "metadata": {
      "needs_background": "light"
     },
     "output_type": "display_data"
    },
    {
     "data": {
      "image/png": "[encoded data removed]",
      "text/plain": [
       "<Figure size 432x288 with 1 Axes>"
      ]
     },
     "metadata": {
      "needs_background": "light"
     },
     "output_type": "display_data"
    },
    {
     "data": {
      "image/png": "[encoded data removed]",
      "text/plain": [
       "<Figure size 432x288 with 1 Axes>"
      ]
     },
     "metadata": {
      "needs_background": "light"
     },
     "output_type": "display_data"
    },
    {
     "data": {
      "image/png": "[encoded data removed]",
      "text/plain": [
       "<Figure size 432x288 with 1 Axes>"
      ]
     },
     "metadata": {
      "needs_background": "light"
     },
     "output_type": "display_data"
    },
    {
     "data": {
      "image/png": "[encoded data removed]",
      "text/plain": [
       "<Figure size 432x288 with 1 Axes>"
      ]
     },
     "metadata": {
      "needs_background": "light"
     },
     "output_type": "display_data"
    },
    {
     "data": {
      "image/png": "[encoded data removed]",
      "text/plain": [
       "<Figure size 432x288 with 1 Axes>"
      ]
     },
     "metadata": {
      "needs_background": "light"
     },
     "output_type": "display_data"
    },
    {
     "data": {
      "image/png": "[encoded data removed]",
      "text/plain": [
       "<Figure size 432x288 with 1 Axes>"
      ]
     },
     "metadata": {
      "needs_background": "light"
     },
     "output_type": "display_data"
    },
    {
     "data": {
      "image/png": "[encoded data removed]",
      "text/plain": [
       "<Figure size 432x288 with 1 Axes>"
      ]
     },
     "metadata": {
      "needs_background": "light"
     },
     "output_type": "display_data"
    }
   ],
   "source": [
    "data_for_pivot_table = ['total_area', 'rooms', 'living_area', 'kitchen_area', 'floor_', 'week_day', 'month', 'year']\n",
    "\n",
    "for i in data_for_pivot_table:\n",
    "    data_pivot_table = data.pivot_table(index=[i], values=['last_price'])\n",
    "    data_pivot_table.plot()"
   ]
  },
  {
   "cell_type": "code",
   "execution_count": 42,
   "metadata": {},
   "outputs": [
    {
     "name": "stdout",
     "output_type": "stream",
     "text": [
      "корреляция для total_area =\n",
      "0.7312314324259724\n",
      "корреляция для rooms =\n",
      "0.41837604980122783\n",
      "корреляция для living_area =\n",
      "0.6381901064407877\n",
      "корреляция для kitchen_area =\n",
      "0.532784570912118\n"
     ]
    }
   ],
   "source": [
    "data_for_corr = ['total_area', 'rooms', 'living_area', 'kitchen_area']\n",
    "\n",
    "for i in data_for_corr:\n",
    "    print(f'корреляция для {i} =')\n",
    "    print(data[i].corr(data['last_price']))"
   ]
  },
  {
   "cell_type": "markdown",
   "metadata": {},
   "source": [
    "Наибольшее влияние на общую стоимость квартиры оказывают такие параметры, как общая площадь и жилая площадь. Зависимость прямая, то есть чем больше значение параметра, тем выше цена. Что вполне логично, так как в основном при покупки квартиры обращают внимание именно на эти факторы, потому что от них напрямую зависит сколько людей смогут разместиться в квартире. Также большое влияние имеет тип этажа. Первый этаж стоит обычно дешевле всех, последний - уже дороже, но все-таки его стоимость меньше любого другого промежуточного этажа. Это связано с тем, что  первый этаж находится на уровни глаз прохожих и это минус, а у последнего этажа есть вероятность протечки крыши или еще каких-то технических неполадок. К тому же по видно, что стоимость квартир с большим количеством комнат и большей площадью кухни в среднем выше. Естественно, стоимость квартиры также зависит от года, потому что этот параметр отражает экономическую и политическую ситуацию, а значит и цены на недвижимость. Помимо этого можно увидеть, что цены более высокие на квартиры, которые выставили в будние дни, но это не самый показательный фактор."
   ]
  },
  {
   "cell_type": "markdown",
   "metadata": {},
   "source": [
    "Найдем 10 населённых пунктов с наибольшим числом объявлений"
   ]
  },
  {
   "cell_type": "code",
   "execution_count": 43,
   "metadata": {},
   "outputs": [
    {
     "data": {
      "text/plain": [
       "array(['санкт-петербург', 'пушкин', 'петергоф', 'сестрорецк', 'колпино',\n",
       "       'павловск', 'кронштадт', 'поселок стрельна', 'поселок парголово',\n",
       "       'красное село'], dtype=object)"
      ]
     },
     "execution_count": 43,
     "metadata": {},
     "output_type": "execute_result"
    }
   ],
   "source": [
    "data_group = data.groupby(by = ['locality_name']).count()\n",
    "data_group_10 = data_group.sort_values(by=['last_price'], ascending=False).head(10)\n",
    "locality_10 = data_group_10.index.values\n",
    "locality_10"
   ]
  },
  {
   "cell_type": "code",
   "execution_count": 44,
   "metadata": {},
   "outputs": [
    {
     "name": "stdout",
     "output_type": "stream",
     "text": [
      "Средняя цена за квадратный метр в санкт-петербург равна 125631.27023943308 рублей\n",
      "Средняя цена за квадратный метр в пушкин равна 108570.00296550387 рублей\n",
      "Средняя цена за квадратный метр в петергоф равна 87840.48257874273 рублей\n",
      "Средняя цена за квадратный метр в сестрорецк равна 112493.02930725043 рублей\n",
      "Средняя цена за квадратный метр в колпино равна 75265.30695586326 рублей\n",
      "Средняя цена за квадратный метр в павловск равна 92266.48031679477 рублей\n",
      "Средняя цена за квадратный метр в кронштадт равна 78695.40555870676 рублей\n",
      "Средняя цена за квадратный метр в поселок стрельна равна 87032.29932842981 рублей\n",
      "Средняя цена за квадратный метр в поселок парголово равна 78704.20269099525 рублей\n",
      "Средняя цена за квадратный метр в красное село равна 75769.76279522516 рублей\n"
     ]
    }
   ],
   "source": [
    "max_price = 0\n",
    "min_price = 1000000000\n",
    "for i in locality_10:\n",
    "    data_mean_last_price = data[ data['locality_name']== i]['last_price'].mean()\n",
    "    data_mean_total_area = data[ data['locality_name']== i]['total_area'].mean()\n",
    "    data_price_1m = data_mean_last_price / data_mean_total_area\n",
    "    if data_price_1m >= max_price:\n",
    "        max_price = data_price_1m\n",
    "        max_price_location = i\n",
    "    if data_price_1m <= min_price:\n",
    "        min_price = data_price_1m\n",
    "        min_price_location = i\n",
    "        \n",
    "    print(f'Средняя цена за квадратный метр в {i} равна {data_price_1m} рублей')"
   ]
  },
  {
   "cell_type": "code",
   "execution_count": 45,
   "metadata": {},
   "outputs": [
    {
     "name": "stdout",
     "output_type": "stream",
     "text": [
      "Из списка этих населенных пунктов самая дорогая недвижимость в санкт-петербург\n",
      "Из списка этих населенных пунктов самая дешевая недвижимость в колпино\n"
     ]
    }
   ],
   "source": [
    "print(f'Из списка этих населенных пунктов самая дорогая недвижимость в {max_price_location}')\n",
    "print(f'Из списка этих населенных пунктов самая дешевая недвижимость в {min_price_location}')"
   ]
  },
  {
   "cell_type": "markdown",
   "metadata": {},
   "source": [
    "Выделим квартиры в Санкт-Петербурге и вычислим среднюю цену каждого километра до центра."
   ]
  },
  {
   "cell_type": "code",
   "execution_count": 46,
   "metadata": {},
   "outputs": [
    {
     "name": "stdout",
     "output_type": "stream",
     "text": [
      "Цена к819615.6282323815\n"
     ]
    }
   ],
   "source": [
    "data_spb = data[ data['locality_name'] == 'санкт-петербург']\n",
    "\n",
    "data_mean_last_price = data_spb['last_price'].mean()\n",
    "data_mean_cityCenters_nearest = data_spb['cityCenters_nearest_km'].mean()\n",
    "data_price_1m_cityCenters = data_mean_last_price / data_mean_cityCenters_nearest\n",
    "print(f'Цена к{data_price_1m_cityCenters}')"
   ]
  },
  {
   "cell_type": "code",
   "execution_count": 47,
   "metadata": {},
   "outputs": [
    {
     "data": {
      "text/plain": [
       "<AxesSubplot:xlabel='cityCenters_nearest_km'>"
      ]
     },
     "execution_count": 47,
     "metadata": {},
     "output_type": "execute_result"
    },
    {
     "data": {
      "image/png": "[encoded data removed]",
      "text/plain": [
       "<Figure size 432x288 with 1 Axes>"
      ]
     },
     "metadata": {
      "needs_background": "light"
     },
     "output_type": "display_data"
    }
   ],
   "source": [
    "#Диаграмма, показывающая зависимость стоимости квартиры от расстояния до центра\n",
    "cityCenters_neares_pivot_table = data_spb.pivot_table(index=['cityCenters_nearest_km'], values=['last_price'])\n",
    "cityCenters_neares_pivot_table.plot()"
   ]
  },
  {
   "cell_type": "markdown",
   "metadata": {},
   "source": [
    "По графику видно, что зависимость цены квартиры от ее дальности от центра не прямая (т.к. на цену влияют много других факторов, о которых было сказано выше), но она существует. Чем ближе квартира к центру, тем она дороже."
   ]
  },
  {
   "cell_type": "markdown",
   "metadata": {},
   "source": [
    "### Общий вывод"
   ]
  },
  {
   "cell_type": "markdown",
   "metadata": {},
   "source": [
    "В моем распоряжении были данные сервиса Яндекс Недвижимости — архива объявлений за несколько лет о продаже квартир в Санкт-Петербурге и соседних населённых пунктах. Мне нужно было найти интересные особенности и зависимости, которые существуют на рынке недвижимости. Я могу сделать следующий вывод: финальная стоимость квартиры складывается из совокупности факторов, некоторые из которых играют более существенную роль, другие - менее. Цена надвижимости зависит в большей степени от:\n",
    "\n",
    "\n",
    "1. Общей площади. \n",
    "\n",
    "Самая распространенная характеристика стоимости недвижимости - это цена за квадратный метр.ЧЕм больше квартира, тем она дороже.\n",
    "\n",
    "2. Количества комнт. \n",
    "\n",
    "Чем больше комнат, тем дороже квартира. Это вполне логично, так как этот параметр связан и с общей площадью.\n",
    "\n",
    "3. Типа этажа.\n",
    "Квартиры на первых и последних этажах стоят дешевле. Это объясняется тем, что перрвый этаж находится на уровне глаз прохожих и в старых постройках есть вероятность, что в квартире будет чуствоваться запах котельной/подвала. А на последних этажах выше шанс технических неполадок дома, например, протечки крыши.\n",
    "4. Отдаленности от центра города.\n",
    "Целевая аудитория для покупки недвижимости - это работающие люди, для них актуально жить ближе к центру, чтобы было легче добираться до места работы, даже если они решат его сменить. Опять же в центре лучше инфраструктура, доступность школ, детских садов, магазинов, аптек и т.д. Поэтому расстояние до центра - это важный фактор стоимости квартииры. Однако некоторые люди хотят купить себе жилье, наоборот, за городом, напримен, в качестве дачи.\n",
    "5. Площади кухни и жилой площадию.\n",
    "Исследование показало, что стоимость квартиры выше, если эти параметры больше. Этот факт также объясним, так как эти показатели также связаны с общей площадью. К тому же кухня - это место, где люди принимают гостей и его более большая площадь приветствуется.\n",
    "6. Года выставления объявления.\n",
    "Как я уже писала ранее, год определяет общую ситуацию на рынке недвижимости, которая складывается из политической, экономической и других сфер, которые определяют спрос на недвижимость, стоимость ремонта и так далее.\n",
    "7. Расстояния до ближайшего парка/водоема.\n",
    "Большая часть покупателей - это семьи и пары, планирующие завести ребенка, соответственно для них важно наличие места, где можно погулять в шаговой доступности. В целом, большинство людей считают плюсом иметь рядом с домом место для прогулки, поэтому этот параметр отражается на стоимости недвижимости.\n",
    "\n",
    "\n",
    "Для будущих исследований я  бы добавила такие параметры, как год постройки дома и степень готовности недвижимости (черновая отделка, под ключ, с мебелью и т.д.). Я думаю, что они бы помогли собрать данные для более полного анализа."
   ]
  }
 ],
 "metadata": {
  "ExecuteTimeLog": [
   {
    "duration": 773,
    "start_time": "2023-02-03T09:28:05.773Z"
   },
   {
    "duration": 70,
    "start_time": "2023-02-03T09:31:24.724Z"
   },
   {
    "duration": 85,
    "start_time": "2023-02-03T09:32:00.991Z"
   },
   {
    "duration": 1711,
    "start_time": "2023-02-03T09:32:33.246Z"
   },
   {
    "duration": 89,
    "start_time": "2023-02-03T09:32:44.055Z"
   },
   {
    "duration": 72,
    "start_time": "2023-02-03T09:33:13.115Z"
   },
   {
    "duration": 90,
    "start_time": "2023-02-03T09:33:39.139Z"
   },
   {
    "duration": 90,
    "start_time": "2023-02-03T09:34:27.004Z"
   },
   {
    "duration": 93,
    "start_time": "2023-02-03T09:39:41.825Z"
   },
   {
    "duration": 90,
    "start_time": "2023-02-03T09:39:53.092Z"
   },
   {
    "duration": 90,
    "start_time": "2023-02-03T09:40:03.260Z"
   },
   {
    "duration": 90,
    "start_time": "2023-02-03T09:42:29.284Z"
   },
   {
    "duration": 116,
    "start_time": "2023-02-03T09:50:10.335Z"
   },
   {
    "duration": 20,
    "start_time": "2023-02-03T09:50:46.887Z"
   },
   {
    "duration": 4,
    "start_time": "2023-02-03T10:12:51.330Z"
   },
   {
    "duration": 7,
    "start_time": "2023-02-03T10:13:31.497Z"
   },
   {
    "duration": 7,
    "start_time": "2023-02-03T10:13:42.069Z"
   },
   {
    "duration": 7,
    "start_time": "2023-02-03T10:13:52.536Z"
   },
   {
    "duration": 10,
    "start_time": "2023-02-03T10:14:12.091Z"
   },
   {
    "duration": 4,
    "start_time": "2023-02-03T10:14:23.771Z"
   },
   {
    "duration": 99,
    "start_time": "2023-02-03T10:16:42.736Z"
   },
   {
    "duration": 4,
    "start_time": "2023-02-03T10:17:57.418Z"
   },
   {
    "duration": 2648,
    "start_time": "2023-02-03T10:25:52.679Z"
   },
   {
    "duration": 2022,
    "start_time": "2023-02-03T10:49:06.614Z"
   },
   {
    "duration": 46,
    "start_time": "2023-02-08T17:17:06.840Z"
   },
   {
    "duration": 589,
    "start_time": "2023-02-08T17:18:10.878Z"
   },
   {
    "duration": 3,
    "start_time": "2023-02-08T17:18:11.469Z"
   },
   {
    "duration": 18,
    "start_time": "2023-02-08T17:18:11.473Z"
   },
   {
    "duration": 2377,
    "start_time": "2023-02-08T17:18:11.492Z"
   },
   {
    "duration": 75,
    "start_time": "2023-02-08T17:18:13.872Z"
   },
   {
    "duration": 15,
    "start_time": "2023-02-08T17:51:21.866Z"
   },
   {
    "duration": 64,
    "start_time": "2023-02-14T16:39:25.660Z"
   },
   {
    "duration": 846,
    "start_time": "2023-02-14T16:39:52.333Z"
   },
   {
    "duration": 3,
    "start_time": "2023-02-14T16:39:53.181Z"
   },
   {
    "duration": 24,
    "start_time": "2023-02-14T16:39:53.185Z"
   },
   {
    "duration": 2685,
    "start_time": "2023-02-14T16:39:53.211Z"
   },
   {
    "duration": 21,
    "start_time": "2023-02-14T16:39:55.898Z"
   },
   {
    "duration": 533,
    "start_time": "2023-02-14T16:40:49.860Z"
   },
   {
    "duration": 4,
    "start_time": "2023-02-14T16:40:50.395Z"
   },
   {
    "duration": 48,
    "start_time": "2023-02-14T16:40:50.401Z"
   },
   {
    "duration": 2297,
    "start_time": "2023-02-14T16:40:50.451Z"
   },
   {
    "duration": 15,
    "start_time": "2023-02-14T16:40:52.749Z"
   },
   {
    "duration": 74,
    "start_time": "2023-02-14T16:40:52.765Z"
   },
   {
    "duration": 7,
    "start_time": "2023-02-14T16:41:59.817Z"
   },
   {
    "duration": 16,
    "start_time": "2023-02-14T16:42:29.045Z"
   },
   {
    "duration": 7,
    "start_time": "2023-02-14T16:44:00.195Z"
   },
   {
    "duration": 58,
    "start_time": "2023-02-16T19:29:35.474Z"
   },
   {
    "duration": 545,
    "start_time": "2023-02-16T19:29:57.176Z"
   },
   {
    "duration": 4,
    "start_time": "2023-02-16T19:29:57.723Z"
   },
   {
    "duration": 20,
    "start_time": "2023-02-16T19:29:57.728Z"
   },
   {
    "duration": 2337,
    "start_time": "2023-02-16T19:29:57.750Z"
   },
   {
    "duration": 15,
    "start_time": "2023-02-16T19:30:00.089Z"
   },
   {
    "duration": 9,
    "start_time": "2023-02-16T19:30:00.105Z"
   },
   {
    "duration": 6,
    "start_time": "2023-02-16T19:57:37.264Z"
   },
   {
    "duration": 47,
    "start_time": "2023-02-16T20:14:05.304Z"
   },
   {
    "duration": 13,
    "start_time": "2023-02-16T20:15:36.119Z"
   },
   {
    "duration": 12,
    "start_time": "2023-02-16T20:16:15.547Z"
   },
   {
    "duration": 15,
    "start_time": "2023-02-16T20:16:35.646Z"
   },
   {
    "duration": 13,
    "start_time": "2023-02-16T20:17:56.926Z"
   },
   {
    "duration": 52,
    "start_time": "2023-02-17T13:45:06.791Z"
   },
   {
    "duration": 913,
    "start_time": "2023-02-17T13:45:12.014Z"
   },
   {
    "duration": 3,
    "start_time": "2023-02-17T13:45:12.930Z"
   },
   {
    "duration": 21,
    "start_time": "2023-02-17T13:45:12.935Z"
   },
   {
    "duration": 2722,
    "start_time": "2023-02-17T13:45:12.958Z"
   },
   {
    "duration": 17,
    "start_time": "2023-02-17T13:45:15.684Z"
   },
   {
    "duration": 10,
    "start_time": "2023-02-17T13:45:15.703Z"
   },
   {
    "duration": 45,
    "start_time": "2023-02-17T13:45:15.714Z"
   },
   {
    "duration": 0,
    "start_time": "2023-02-17T13:45:15.761Z"
   },
   {
    "duration": 6,
    "start_time": "2023-02-17T13:46:56.352Z"
   },
   {
    "duration": 12,
    "start_time": "2023-02-17T13:49:37.238Z"
   },
   {
    "duration": 18,
    "start_time": "2023-02-17T13:50:32.728Z"
   },
   {
    "duration": 17,
    "start_time": "2023-02-17T14:29:03.708Z"
   },
   {
    "duration": 20,
    "start_time": "2023-02-17T14:29:54.062Z"
   },
   {
    "duration": 1249,
    "start_time": "2023-02-17T14:33:53.727Z"
   },
   {
    "duration": 1230,
    "start_time": "2023-02-17T14:34:21.887Z"
   },
   {
    "duration": 20,
    "start_time": "2023-02-17T14:35:05.741Z"
   },
   {
    "duration": 20,
    "start_time": "2023-02-17T14:35:23.755Z"
   },
   {
    "duration": 15,
    "start_time": "2023-02-17T14:36:56.848Z"
   },
   {
    "duration": 16,
    "start_time": "2023-02-17T14:37:16.693Z"
   },
   {
    "duration": 16,
    "start_time": "2023-02-17T14:37:29.041Z"
   },
   {
    "duration": 19,
    "start_time": "2023-02-17T14:38:01.767Z"
   },
   {
    "duration": 16,
    "start_time": "2023-02-17T14:39:21.140Z"
   },
   {
    "duration": 20,
    "start_time": "2023-02-17T14:53:20.131Z"
   },
   {
    "duration": 6,
    "start_time": "2023-02-17T15:00:28.296Z"
   },
   {
    "duration": 20,
    "start_time": "2023-02-17T15:00:37.045Z"
   },
   {
    "duration": 15,
    "start_time": "2023-02-17T15:01:55.642Z"
   },
   {
    "duration": 15,
    "start_time": "2023-02-17T15:06:48.096Z"
   },
   {
    "duration": 14,
    "start_time": "2023-02-17T15:10:36.938Z"
   },
   {
    "duration": 15,
    "start_time": "2023-02-17T15:11:13.670Z"
   },
   {
    "duration": 19,
    "start_time": "2023-02-17T15:12:15.909Z"
   },
   {
    "duration": 18,
    "start_time": "2023-02-17T15:13:15.833Z"
   },
   {
    "duration": 15,
    "start_time": "2023-02-17T15:13:26.532Z"
   },
   {
    "duration": 16,
    "start_time": "2023-02-17T15:28:47.111Z"
   },
   {
    "duration": 17,
    "start_time": "2023-02-17T15:29:06.678Z"
   },
   {
    "duration": 27,
    "start_time": "2023-02-17T15:35:53.233Z"
   },
   {
    "duration": 20,
    "start_time": "2023-02-17T15:36:25.484Z"
   },
   {
    "duration": 21,
    "start_time": "2023-02-17T15:37:15.996Z"
   },
   {
    "duration": 21,
    "start_time": "2023-02-17T15:38:53.941Z"
   },
   {
    "duration": 29,
    "start_time": "2023-02-17T15:48:25.500Z"
   },
   {
    "duration": 28,
    "start_time": "2023-02-17T15:48:53.127Z"
   },
   {
    "duration": 5,
    "start_time": "2023-02-17T16:10:05.152Z"
   },
   {
    "duration": 6,
    "start_time": "2023-02-17T16:10:34.494Z"
   },
   {
    "duration": 4,
    "start_time": "2023-02-17T16:11:19.168Z"
   },
   {
    "duration": 5,
    "start_time": "2023-02-17T16:11:46.829Z"
   },
   {
    "duration": 10,
    "start_time": "2023-02-17T16:16:29.731Z"
   },
   {
    "duration": 13,
    "start_time": "2023-02-17T16:16:40.870Z"
   },
   {
    "duration": 4,
    "start_time": "2023-02-17T16:17:52.112Z"
   },
   {
    "duration": 21,
    "start_time": "2023-02-17T16:19:21.320Z"
   },
   {
    "duration": 11,
    "start_time": "2023-02-17T16:19:50.858Z"
   },
   {
    "duration": 573,
    "start_time": "2023-02-17T16:21:25.139Z"
   },
   {
    "duration": 11,
    "start_time": "2023-02-17T16:22:12.424Z"
   },
   {
    "duration": 7,
    "start_time": "2023-02-17T16:23:08.914Z"
   },
   {
    "duration": 16,
    "start_time": "2023-02-17T16:23:26.899Z"
   },
   {
    "duration": 120,
    "start_time": "2023-02-17T16:24:10.772Z"
   },
   {
    "duration": 4,
    "start_time": "2023-02-17T16:24:10.894Z"
   },
   {
    "duration": 28,
    "start_time": "2023-02-17T16:24:10.899Z"
   },
   {
    "duration": 1973,
    "start_time": "2023-02-17T16:24:10.929Z"
   },
   {
    "duration": 24,
    "start_time": "2023-02-17T16:24:12.905Z"
   },
   {
    "duration": 9,
    "start_time": "2023-02-17T16:24:12.931Z"
   },
   {
    "duration": 30,
    "start_time": "2023-02-17T16:24:12.941Z"
   },
   {
    "duration": 0,
    "start_time": "2023-02-17T16:24:12.973Z"
   },
   {
    "duration": 0,
    "start_time": "2023-02-17T16:24:12.974Z"
   },
   {
    "duration": 0,
    "start_time": "2023-02-17T16:24:12.976Z"
   },
   {
    "duration": 23,
    "start_time": "2023-02-17T16:24:21.450Z"
   },
   {
    "duration": 38,
    "start_time": "2023-02-17T16:24:50.630Z"
   },
   {
    "duration": 36,
    "start_time": "2023-02-17T16:27:25.148Z"
   },
   {
    "duration": 127,
    "start_time": "2023-02-17T16:28:03.174Z"
   },
   {
    "duration": 4,
    "start_time": "2023-02-17T16:28:03.303Z"
   },
   {
    "duration": 22,
    "start_time": "2023-02-17T16:28:03.309Z"
   },
   {
    "duration": 2161,
    "start_time": "2023-02-17T16:28:03.333Z"
   },
   {
    "duration": 25,
    "start_time": "2023-02-17T16:28:05.496Z"
   },
   {
    "duration": 7,
    "start_time": "2023-02-17T16:28:05.523Z"
   },
   {
    "duration": 32,
    "start_time": "2023-02-17T16:28:05.531Z"
   },
   {
    "duration": 0,
    "start_time": "2023-02-17T16:28:05.564Z"
   },
   {
    "duration": 0,
    "start_time": "2023-02-17T16:28:05.565Z"
   },
   {
    "duration": 27,
    "start_time": "2023-02-17T16:28:16.019Z"
   },
   {
    "duration": 8,
    "start_time": "2023-02-17T16:29:01.066Z"
   },
   {
    "duration": 19,
    "start_time": "2023-02-17T16:29:03.948Z"
   },
   {
    "duration": 4,
    "start_time": "2023-02-17T16:29:12.789Z"
   },
   {
    "duration": 4,
    "start_time": "2023-02-17T16:29:22.490Z"
   },
   {
    "duration": 16,
    "start_time": "2023-02-17T16:29:25.522Z"
   },
   {
    "duration": 510,
    "start_time": "2023-02-17T16:29:48.057Z"
   },
   {
    "duration": 3,
    "start_time": "2023-02-17T16:29:48.569Z"
   },
   {
    "duration": 18,
    "start_time": "2023-02-17T16:29:48.574Z"
   },
   {
    "duration": 2190,
    "start_time": "2023-02-17T16:29:48.594Z"
   },
   {
    "duration": 15,
    "start_time": "2023-02-17T16:29:50.788Z"
   },
   {
    "duration": 9,
    "start_time": "2023-02-17T16:29:50.805Z"
   },
   {
    "duration": 111,
    "start_time": "2023-02-17T16:29:50.816Z"
   },
   {
    "duration": 0,
    "start_time": "2023-02-17T16:29:50.928Z"
   },
   {
    "duration": 0,
    "start_time": "2023-02-17T16:29:50.930Z"
   },
   {
    "duration": 0,
    "start_time": "2023-02-17T16:29:50.930Z"
   },
   {
    "duration": 5,
    "start_time": "2023-02-17T16:30:12.211Z"
   },
   {
    "duration": 4,
    "start_time": "2023-02-17T16:30:17.713Z"
   },
   {
    "duration": 34,
    "start_time": "2023-02-17T16:30:17.719Z"
   },
   {
    "duration": 34,
    "start_time": "2023-02-17T16:30:17.754Z"
   },
   {
    "duration": 60,
    "start_time": "2023-02-17T21:23:19.485Z"
   },
   {
    "duration": 683,
    "start_time": "2023-02-17T21:23:29.098Z"
   },
   {
    "duration": 154,
    "start_time": "2023-02-17T21:23:49.129Z"
   },
   {
    "duration": 4,
    "start_time": "2023-02-17T21:23:49.286Z"
   },
   {
    "duration": 23,
    "start_time": "2023-02-17T21:23:49.293Z"
   },
   {
    "duration": 2933,
    "start_time": "2023-02-17T21:23:49.317Z"
   },
   {
    "duration": 35,
    "start_time": "2023-02-17T21:23:52.254Z"
   },
   {
    "duration": 18,
    "start_time": "2023-02-17T21:23:52.294Z"
   },
   {
    "duration": 87,
    "start_time": "2023-02-17T21:23:52.314Z"
   },
   {
    "duration": 0,
    "start_time": "2023-02-17T21:23:52.402Z"
   },
   {
    "duration": 0,
    "start_time": "2023-02-17T21:23:52.404Z"
   },
   {
    "duration": 0,
    "start_time": "2023-02-17T21:23:52.405Z"
   },
   {
    "duration": 59,
    "start_time": "2023-02-17T21:23:59.878Z"
   },
   {
    "duration": 27,
    "start_time": "2023-02-17T21:24:30.732Z"
   },
   {
    "duration": 27,
    "start_time": "2023-02-17T21:25:05.409Z"
   },
   {
    "duration": 53,
    "start_time": "2023-02-17T21:25:47.646Z"
   },
   {
    "duration": 28,
    "start_time": "2023-02-17T21:28:29.212Z"
   },
   {
    "duration": 30,
    "start_time": "2023-02-17T21:29:18.038Z"
   },
   {
    "duration": 50,
    "start_time": "2023-02-17T21:42:10.792Z"
   },
   {
    "duration": 45,
    "start_time": "2023-02-17T21:42:54.670Z"
   },
   {
    "duration": 78,
    "start_time": "2023-02-17T21:43:18.434Z"
   },
   {
    "duration": 655,
    "start_time": "2023-02-17T21:43:27.543Z"
   },
   {
    "duration": 3,
    "start_time": "2023-02-17T21:43:28.201Z"
   },
   {
    "duration": 29,
    "start_time": "2023-02-17T21:43:28.206Z"
   },
   {
    "duration": 2564,
    "start_time": "2023-02-17T21:43:28.238Z"
   },
   {
    "duration": 17,
    "start_time": "2023-02-17T21:43:30.804Z"
   },
   {
    "duration": 40,
    "start_time": "2023-02-17T21:43:30.823Z"
   },
   {
    "duration": 128,
    "start_time": "2023-02-17T21:43:30.868Z"
   },
   {
    "duration": 0,
    "start_time": "2023-02-17T21:43:30.998Z"
   },
   {
    "duration": 0,
    "start_time": "2023-02-17T21:43:30.999Z"
   },
   {
    "duration": 7,
    "start_time": "2023-02-17T21:43:40.685Z"
   },
   {
    "duration": 21,
    "start_time": "2023-02-17T21:43:42.470Z"
   },
   {
    "duration": 48,
    "start_time": "2023-02-17T21:43:50.498Z"
   },
   {
    "duration": 782,
    "start_time": "2023-02-17T21:46:49.624Z"
   },
   {
    "duration": 51,
    "start_time": "2023-02-17T21:48:01.264Z"
   },
   {
    "duration": 30,
    "start_time": "2023-02-17T21:48:30.932Z"
   },
   {
    "duration": 23,
    "start_time": "2023-02-17T21:52:47.877Z"
   },
   {
    "duration": 9,
    "start_time": "2023-02-17T21:53:37.172Z"
   },
   {
    "duration": 8,
    "start_time": "2023-02-17T21:53:50.928Z"
   },
   {
    "duration": 13,
    "start_time": "2023-02-17T21:55:15.647Z"
   },
   {
    "duration": 28,
    "start_time": "2023-02-17T21:57:03.195Z"
   },
   {
    "duration": 530,
    "start_time": "2023-02-17T21:57:20.071Z"
   },
   {
    "duration": 3,
    "start_time": "2023-02-17T21:57:20.604Z"
   },
   {
    "duration": 23,
    "start_time": "2023-02-17T21:57:20.609Z"
   },
   {
    "duration": 2384,
    "start_time": "2023-02-17T21:57:20.634Z"
   },
   {
    "duration": 15,
    "start_time": "2023-02-17T21:57:23.021Z"
   },
   {
    "duration": 107,
    "start_time": "2023-02-17T21:57:23.038Z"
   },
   {
    "duration": 194,
    "start_time": "2023-02-17T21:57:23.146Z"
   },
   {
    "duration": 0,
    "start_time": "2023-02-17T21:57:23.342Z"
   },
   {
    "duration": 0,
    "start_time": "2023-02-17T21:57:23.343Z"
   },
   {
    "duration": 0,
    "start_time": "2023-02-17T21:57:23.353Z"
   },
   {
    "duration": 0,
    "start_time": "2023-02-17T21:57:23.354Z"
   },
   {
    "duration": 70,
    "start_time": "2023-02-17T21:58:35.141Z"
   },
   {
    "duration": 564,
    "start_time": "2023-02-17T21:58:47.442Z"
   },
   {
    "duration": 70,
    "start_time": "2023-02-17T21:58:56.695Z"
   },
   {
    "duration": 53,
    "start_time": "2023-02-17T21:59:39.694Z"
   },
   {
    "duration": 536,
    "start_time": "2023-02-17T21:59:46.309Z"
   },
   {
    "duration": 11,
    "start_time": "2023-02-17T22:00:01.961Z"
   },
   {
    "duration": 60,
    "start_time": "2023-02-17T22:00:07.684Z"
   },
   {
    "duration": 10,
    "start_time": "2023-02-17T22:04:27.797Z"
   },
   {
    "duration": 26,
    "start_time": "2023-02-17T22:04:43.545Z"
   },
   {
    "duration": 5,
    "start_time": "2023-02-17T22:05:03.966Z"
   },
   {
    "duration": 15,
    "start_time": "2023-02-17T22:05:05.112Z"
   },
   {
    "duration": 12,
    "start_time": "2023-02-17T22:05:09.805Z"
   },
   {
    "duration": 42,
    "start_time": "2023-02-17T22:06:00.380Z"
   },
   {
    "duration": 312,
    "start_time": "2023-02-17T22:06:25.416Z"
   },
   {
    "duration": 297,
    "start_time": "2023-02-17T22:06:34.349Z"
   },
   {
    "duration": 39,
    "start_time": "2023-02-17T22:06:42.652Z"
   },
   {
    "duration": 33,
    "start_time": "2023-02-17T22:06:58.335Z"
   },
   {
    "duration": 12,
    "start_time": "2023-02-17T22:07:13.756Z"
   },
   {
    "duration": 10,
    "start_time": "2023-02-17T22:07:30.731Z"
   },
   {
    "duration": 31,
    "start_time": "2023-02-17T22:08:04.826Z"
   },
   {
    "duration": 75,
    "start_time": "2023-02-17T22:08:15.656Z"
   },
   {
    "duration": 570,
    "start_time": "2023-02-17T22:10:30.855Z"
   },
   {
    "duration": 3,
    "start_time": "2023-02-17T22:10:31.427Z"
   },
   {
    "duration": 34,
    "start_time": "2023-02-17T22:10:31.432Z"
   },
   {
    "duration": 2257,
    "start_time": "2023-02-17T22:10:31.469Z"
   },
   {
    "duration": 17,
    "start_time": "2023-02-17T22:10:33.729Z"
   },
   {
    "duration": 11,
    "start_time": "2023-02-17T22:10:33.749Z"
   },
   {
    "duration": 117,
    "start_time": "2023-02-17T22:10:33.762Z"
   },
   {
    "duration": 0,
    "start_time": "2023-02-17T22:10:33.880Z"
   },
   {
    "duration": 0,
    "start_time": "2023-02-17T22:10:33.882Z"
   },
   {
    "duration": 0,
    "start_time": "2023-02-17T22:10:33.883Z"
   },
   {
    "duration": 0,
    "start_time": "2023-02-17T22:10:33.884Z"
   },
   {
    "duration": 5,
    "start_time": "2023-02-17T22:10:54.450Z"
   },
   {
    "duration": 13,
    "start_time": "2023-02-17T22:10:55.818Z"
   },
   {
    "duration": 29,
    "start_time": "2023-02-17T22:10:58.806Z"
   },
   {
    "duration": 34,
    "start_time": "2023-02-17T22:11:03.926Z"
   },
   {
    "duration": 22,
    "start_time": "2023-02-17T22:15:19.080Z"
   },
   {
    "duration": 53,
    "start_time": "2023-02-18T08:09:00.409Z"
   },
   {
    "duration": 526,
    "start_time": "2023-02-18T08:09:14.041Z"
   },
   {
    "duration": 3,
    "start_time": "2023-02-18T08:09:14.569Z"
   },
   {
    "duration": 17,
    "start_time": "2023-02-18T08:09:14.574Z"
   },
   {
    "duration": 2219,
    "start_time": "2023-02-18T08:09:14.593Z"
   },
   {
    "duration": 13,
    "start_time": "2023-02-18T08:09:16.814Z"
   },
   {
    "duration": 11,
    "start_time": "2023-02-18T08:09:16.828Z"
   },
   {
    "duration": 0,
    "start_time": "2023-02-18T08:09:16.924Z"
   },
   {
    "duration": 24,
    "start_time": "2023-02-18T08:09:20.080Z"
   },
   {
    "duration": 23,
    "start_time": "2023-02-18T08:10:07.005Z"
   },
   {
    "duration": 50,
    "start_time": "2023-02-18T08:15:55.452Z"
   },
   {
    "duration": 25,
    "start_time": "2023-02-18T08:23:21.655Z"
   },
   {
    "duration": 22,
    "start_time": "2023-02-18T08:23:42.488Z"
   },
   {
    "duration": 25,
    "start_time": "2023-02-18T08:24:31.957Z"
   },
   {
    "duration": 32,
    "start_time": "2023-02-18T08:24:38.404Z"
   },
   {
    "duration": 537,
    "start_time": "2023-02-18T08:24:52.173Z"
   },
   {
    "duration": 4,
    "start_time": "2023-02-18T08:24:52.713Z"
   },
   {
    "duration": 26,
    "start_time": "2023-02-18T08:24:52.718Z"
   },
   {
    "duration": 2153,
    "start_time": "2023-02-18T08:24:52.747Z"
   },
   {
    "duration": 14,
    "start_time": "2023-02-18T08:24:54.902Z"
   },
   {
    "duration": 8,
    "start_time": "2023-02-18T08:24:54.917Z"
   },
   {
    "duration": 27,
    "start_time": "2023-02-18T08:24:54.926Z"
   },
   {
    "duration": 5,
    "start_time": "2023-02-18T08:24:54.954Z"
   },
   {
    "duration": 15,
    "start_time": "2023-02-18T08:24:54.961Z"
   },
   {
    "duration": 53,
    "start_time": "2023-02-18T08:24:54.978Z"
   },
   {
    "duration": 28,
    "start_time": "2023-02-18T08:24:55.033Z"
   },
   {
    "duration": 23,
    "start_time": "2023-02-18T08:24:55.063Z"
   },
   {
    "duration": 849,
    "start_time": "2023-02-18T08:24:55.087Z"
   },
   {
    "duration": 48,
    "start_time": "2023-02-18T08:28:01.522Z"
   },
   {
    "duration": 67,
    "start_time": "2023-02-18T08:35:01.574Z"
   },
   {
    "duration": 52,
    "start_time": "2023-02-18T08:36:09.295Z"
   },
   {
    "duration": 14,
    "start_time": "2023-02-18T08:36:52.803Z"
   },
   {
    "duration": 54,
    "start_time": "2023-02-18T08:37:50.018Z"
   },
   {
    "duration": 15,
    "start_time": "2023-02-18T08:38:47.022Z"
   },
   {
    "duration": 16,
    "start_time": "2023-02-18T08:38:54.671Z"
   },
   {
    "duration": 30,
    "start_time": "2023-02-18T08:39:02.524Z"
   },
   {
    "duration": 7,
    "start_time": "2023-02-18T09:23:31.360Z"
   },
   {
    "duration": 6,
    "start_time": "2023-02-18T09:24:33.856Z"
   },
   {
    "duration": 8,
    "start_time": "2023-02-18T09:30:18.124Z"
   },
   {
    "duration": 15,
    "start_time": "2023-02-18T09:30:40.531Z"
   },
   {
    "duration": 23,
    "start_time": "2023-02-18T09:40:49.747Z"
   },
   {
    "duration": 7,
    "start_time": "2023-02-18T09:51:12.621Z"
   },
   {
    "duration": 4,
    "start_time": "2023-02-18T10:01:50.124Z"
   },
   {
    "duration": 8,
    "start_time": "2023-02-18T10:02:00.971Z"
   },
   {
    "duration": 16,
    "start_time": "2023-02-18T10:07:25.427Z"
   },
   {
    "duration": 19,
    "start_time": "2023-02-18T10:07:30.877Z"
   },
   {
    "duration": 30,
    "start_time": "2023-02-18T10:07:50.136Z"
   },
   {
    "duration": 19,
    "start_time": "2023-02-18T10:08:12.300Z"
   },
   {
    "duration": 20,
    "start_time": "2023-02-18T10:08:53.158Z"
   },
   {
    "duration": 20,
    "start_time": "2023-02-18T10:11:37.626Z"
   },
   {
    "duration": 20,
    "start_time": "2023-02-18T10:11:54.621Z"
   },
   {
    "duration": 19,
    "start_time": "2023-02-18T10:17:34.939Z"
   },
   {
    "duration": 50,
    "start_time": "2023-02-18T10:18:40.616Z"
   },
   {
    "duration": 536,
    "start_time": "2023-02-18T10:19:03.396Z"
   },
   {
    "duration": 3,
    "start_time": "2023-02-18T10:19:03.934Z"
   },
   {
    "duration": 17,
    "start_time": "2023-02-18T10:19:03.939Z"
   },
   {
    "duration": 2058,
    "start_time": "2023-02-18T10:19:03.958Z"
   },
   {
    "duration": 13,
    "start_time": "2023-02-18T10:19:06.019Z"
   },
   {
    "duration": 7,
    "start_time": "2023-02-18T10:19:06.034Z"
   },
   {
    "duration": 21,
    "start_time": "2023-02-18T10:19:06.043Z"
   },
   {
    "duration": 4,
    "start_time": "2023-02-18T10:19:06.065Z"
   },
   {
    "duration": 13,
    "start_time": "2023-02-18T10:19:06.071Z"
   },
   {
    "duration": 48,
    "start_time": "2023-02-18T10:19:06.086Z"
   },
   {
    "duration": 50,
    "start_time": "2023-02-18T10:19:06.135Z"
   },
   {
    "duration": 18,
    "start_time": "2023-02-18T10:19:06.187Z"
   },
   {
    "duration": 8,
    "start_time": "2023-02-18T10:19:06.206Z"
   },
   {
    "duration": 22,
    "start_time": "2023-02-18T10:19:06.215Z"
   },
   {
    "duration": 45,
    "start_time": "2023-02-18T15:26:01.741Z"
   },
   {
    "duration": 727,
    "start_time": "2023-02-18T15:26:25.399Z"
   },
   {
    "duration": 4,
    "start_time": "2023-02-18T15:26:26.127Z"
   },
   {
    "duration": 23,
    "start_time": "2023-02-18T15:26:26.133Z"
   },
   {
    "duration": 2213,
    "start_time": "2023-02-18T15:26:26.158Z"
   },
   {
    "duration": 15,
    "start_time": "2023-02-18T15:26:28.373Z"
   },
   {
    "duration": 8,
    "start_time": "2023-02-18T15:26:28.389Z"
   },
   {
    "duration": 25,
    "start_time": "2023-02-18T15:26:28.398Z"
   },
   {
    "duration": 6,
    "start_time": "2023-02-18T15:26:28.425Z"
   },
   {
    "duration": 20,
    "start_time": "2023-02-18T15:26:28.433Z"
   },
   {
    "duration": 29,
    "start_time": "2023-02-18T15:26:28.456Z"
   },
   {
    "duration": 34,
    "start_time": "2023-02-18T15:26:28.487Z"
   },
   {
    "duration": 37,
    "start_time": "2023-02-18T15:26:28.526Z"
   },
   {
    "duration": 6,
    "start_time": "2023-02-18T15:26:28.565Z"
   },
   {
    "duration": 24,
    "start_time": "2023-02-18T15:26:28.572Z"
   },
   {
    "duration": 124,
    "start_time": "2023-02-18T15:27:14.127Z"
   },
   {
    "duration": 21,
    "start_time": "2023-02-18T15:27:25.711Z"
   },
   {
    "duration": 21,
    "start_time": "2023-02-18T15:27:52.494Z"
   },
   {
    "duration": 23,
    "start_time": "2023-02-18T15:33:10.667Z"
   },
   {
    "duration": 24,
    "start_time": "2023-02-18T15:35:23.563Z"
   },
   {
    "duration": 466,
    "start_time": "2023-02-18T15:51:34.390Z"
   },
   {
    "duration": 1934,
    "start_time": "2023-02-18T16:32:27.288Z"
   },
   {
    "duration": 1828,
    "start_time": "2023-02-18T16:34:05.709Z"
   },
   {
    "duration": 6,
    "start_time": "2023-02-18T17:04:35.235Z"
   },
   {
    "duration": 5,
    "start_time": "2023-02-18T17:04:44.067Z"
   },
   {
    "duration": 1890,
    "start_time": "2023-02-18T17:07:00.898Z"
   },
   {
    "duration": 1843,
    "start_time": "2023-02-18T17:08:37.173Z"
   },
   {
    "duration": 1891,
    "start_time": "2023-02-18T17:19:54.251Z"
   },
   {
    "duration": 1847,
    "start_time": "2023-02-18T17:21:52.434Z"
   },
   {
    "duration": 66,
    "start_time": "2023-02-18T17:23:24.042Z"
   },
   {
    "duration": 1933,
    "start_time": "2023-02-18T17:23:35.622Z"
   },
   {
    "duration": 1628,
    "start_time": "2023-02-18T17:23:46.536Z"
   },
   {
    "duration": 1811,
    "start_time": "2023-02-18T17:24:27.051Z"
   },
   {
    "duration": 1795,
    "start_time": "2023-02-18T17:24:33.496Z"
   },
   {
    "duration": 1762,
    "start_time": "2023-02-18T17:24:41.249Z"
   },
   {
    "duration": 641,
    "start_time": "2023-02-18T17:24:49.202Z"
   },
   {
    "duration": 3,
    "start_time": "2023-02-18T17:24:49.845Z"
   },
   {
    "duration": 19,
    "start_time": "2023-02-18T17:24:49.850Z"
   },
   {
    "duration": 2013,
    "start_time": "2023-02-18T17:24:49.870Z"
   },
   {
    "duration": 15,
    "start_time": "2023-02-18T17:24:51.884Z"
   },
   {
    "duration": 9,
    "start_time": "2023-02-18T17:24:51.900Z"
   },
   {
    "duration": 25,
    "start_time": "2023-02-18T17:24:51.910Z"
   },
   {
    "duration": 5,
    "start_time": "2023-02-18T17:24:51.936Z"
   },
   {
    "duration": 12,
    "start_time": "2023-02-18T17:24:51.942Z"
   },
   {
    "duration": 26,
    "start_time": "2023-02-18T17:24:51.956Z"
   },
   {
    "duration": 27,
    "start_time": "2023-02-18T17:24:51.984Z"
   },
   {
    "duration": 35,
    "start_time": "2023-02-18T17:24:52.013Z"
   },
   {
    "duration": 6,
    "start_time": "2023-02-18T17:24:52.049Z"
   },
   {
    "duration": 26,
    "start_time": "2023-02-18T17:24:52.056Z"
   },
   {
    "duration": 1887,
    "start_time": "2023-02-18T17:24:52.084Z"
   },
   {
    "duration": 1853,
    "start_time": "2023-02-18T17:24:53.972Z"
   },
   {
    "duration": 4,
    "start_time": "2023-02-18T17:26:43.484Z"
   },
   {
    "duration": 4,
    "start_time": "2023-02-18T17:26:52.815Z"
   },
   {
    "duration": 3,
    "start_time": "2023-02-18T17:27:08.947Z"
   },
   {
    "duration": 579,
    "start_time": "2023-02-18T17:27:28.309Z"
   },
   {
    "duration": 3,
    "start_time": "2023-02-18T17:27:28.889Z"
   },
   {
    "duration": 20,
    "start_time": "2023-02-18T17:27:28.894Z"
   },
   {
    "duration": 1968,
    "start_time": "2023-02-18T17:27:28.915Z"
   },
   {
    "duration": 14,
    "start_time": "2023-02-18T17:27:30.885Z"
   },
   {
    "duration": 32,
    "start_time": "2023-02-18T17:27:30.901Z"
   },
   {
    "duration": 52,
    "start_time": "2023-02-18T17:27:30.935Z"
   },
   {
    "duration": 23,
    "start_time": "2023-02-18T17:27:30.989Z"
   },
   {
    "duration": 30,
    "start_time": "2023-02-18T17:27:31.014Z"
   },
   {
    "duration": 35,
    "start_time": "2023-02-18T17:27:31.046Z"
   },
   {
    "duration": 29,
    "start_time": "2023-02-18T17:27:31.082Z"
   },
   {
    "duration": 27,
    "start_time": "2023-02-18T17:27:31.113Z"
   },
   {
    "duration": 7,
    "start_time": "2023-02-18T17:27:31.142Z"
   },
   {
    "duration": 34,
    "start_time": "2023-02-18T17:27:31.151Z"
   },
   {
    "duration": 1926,
    "start_time": "2023-02-18T17:27:31.187Z"
   },
   {
    "duration": 2022,
    "start_time": "2023-02-18T17:27:33.114Z"
   },
   {
    "duration": 4,
    "start_time": "2023-02-18T17:29:52.119Z"
   },
   {
    "duration": 4,
    "start_time": "2023-02-18T17:30:19.259Z"
   },
   {
    "duration": 1827,
    "start_time": "2023-02-18T17:30:56.789Z"
   },
   {
    "duration": 1691,
    "start_time": "2023-02-18T17:31:08.448Z"
   },
   {
    "duration": 4,
    "start_time": "2023-02-18T17:31:17.839Z"
   },
   {
    "duration": 596,
    "start_time": "2023-02-18T17:31:39.214Z"
   },
   {
    "duration": 3,
    "start_time": "2023-02-18T17:31:39.812Z"
   },
   {
    "duration": 19,
    "start_time": "2023-02-18T17:31:39.817Z"
   },
   {
    "duration": 2133,
    "start_time": "2023-02-18T17:31:39.838Z"
   },
   {
    "duration": 15,
    "start_time": "2023-02-18T17:31:41.973Z"
   },
   {
    "duration": 8,
    "start_time": "2023-02-18T17:31:41.989Z"
   },
   {
    "duration": 20,
    "start_time": "2023-02-18T17:31:41.998Z"
   },
   {
    "duration": 4,
    "start_time": "2023-02-18T17:31:42.019Z"
   },
   {
    "duration": 10,
    "start_time": "2023-02-18T17:31:42.025Z"
   },
   {
    "duration": 31,
    "start_time": "2023-02-18T17:31:42.037Z"
   },
   {
    "duration": 29,
    "start_time": "2023-02-18T17:31:42.069Z"
   },
   {
    "duration": 19,
    "start_time": "2023-02-18T17:31:42.099Z"
   },
   {
    "duration": 31,
    "start_time": "2023-02-18T17:31:42.119Z"
   },
   {
    "duration": 36,
    "start_time": "2023-02-18T17:31:42.152Z"
   },
   {
    "duration": 1865,
    "start_time": "2023-02-18T17:31:42.190Z"
   },
   {
    "duration": 1873,
    "start_time": "2023-02-18T17:31:44.056Z"
   },
   {
    "duration": 3,
    "start_time": "2023-02-18T17:31:45.931Z"
   },
   {
    "duration": 4,
    "start_time": "2023-02-18T17:37:29.943Z"
   },
   {
    "duration": 7,
    "start_time": "2023-02-18T17:43:30.636Z"
   },
   {
    "duration": 67,
    "start_time": "2023-02-18T17:43:52.134Z"
   },
   {
    "duration": 7,
    "start_time": "2023-02-18T17:44:00.562Z"
   },
   {
    "duration": 8,
    "start_time": "2023-02-18T17:46:50.592Z"
   },
   {
    "duration": 7,
    "start_time": "2023-02-18T17:47:00.881Z"
   },
   {
    "duration": 528,
    "start_time": "2023-02-18T17:49:23.548Z"
   },
   {
    "duration": 3,
    "start_time": "2023-02-18T17:49:24.077Z"
   },
   {
    "duration": 21,
    "start_time": "2023-02-18T17:49:24.082Z"
   },
   {
    "duration": 1990,
    "start_time": "2023-02-18T17:49:24.105Z"
   },
   {
    "duration": 14,
    "start_time": "2023-02-18T17:49:26.097Z"
   },
   {
    "duration": 7,
    "start_time": "2023-02-18T17:49:26.113Z"
   },
   {
    "duration": 19,
    "start_time": "2023-02-18T17:49:26.121Z"
   },
   {
    "duration": 8,
    "start_time": "2023-02-18T17:49:26.141Z"
   },
   {
    "duration": 10,
    "start_time": "2023-02-18T17:49:26.150Z"
   },
   {
    "duration": 25,
    "start_time": "2023-02-18T17:49:26.162Z"
   },
   {
    "duration": 27,
    "start_time": "2023-02-18T17:49:26.188Z"
   },
   {
    "duration": 47,
    "start_time": "2023-02-18T17:49:26.216Z"
   },
   {
    "duration": 5,
    "start_time": "2023-02-18T17:49:26.265Z"
   },
   {
    "duration": 24,
    "start_time": "2023-02-18T17:49:26.271Z"
   },
   {
    "duration": 2008,
    "start_time": "2023-02-18T17:49:26.297Z"
   },
   {
    "duration": 1950,
    "start_time": "2023-02-18T17:49:28.307Z"
   },
   {
    "duration": 3,
    "start_time": "2023-02-18T17:49:30.258Z"
   },
   {
    "duration": 1235,
    "start_time": "2023-02-18T17:49:30.263Z"
   },
   {
    "duration": 7,
    "start_time": "2023-02-18T17:49:59.783Z"
   },
   {
    "duration": 7,
    "start_time": "2023-02-18T17:54:03.937Z"
   },
   {
    "duration": 7,
    "start_time": "2023-02-18T17:54:39.052Z"
   },
   {
    "duration": 50,
    "start_time": "2023-02-18T23:42:53.048Z"
   },
   {
    "duration": 7,
    "start_time": "2023-02-18T23:43:04.289Z"
   },
   {
    "duration": 768,
    "start_time": "2023-02-18T23:43:25.411Z"
   },
   {
    "duration": 3,
    "start_time": "2023-02-18T23:43:26.181Z"
   },
   {
    "duration": 19,
    "start_time": "2023-02-18T23:43:26.186Z"
   },
   {
    "duration": 2348,
    "start_time": "2023-02-18T23:43:26.207Z"
   },
   {
    "duration": 14,
    "start_time": "2023-02-18T23:43:28.558Z"
   },
   {
    "duration": 9,
    "start_time": "2023-02-18T23:43:28.573Z"
   },
   {
    "duration": 30,
    "start_time": "2023-02-18T23:43:28.583Z"
   },
   {
    "duration": 6,
    "start_time": "2023-02-18T23:43:28.615Z"
   },
   {
    "duration": 34,
    "start_time": "2023-02-18T23:43:28.622Z"
   },
   {
    "duration": 39,
    "start_time": "2023-02-18T23:43:28.658Z"
   },
   {
    "duration": 34,
    "start_time": "2023-02-18T23:43:28.699Z"
   },
   {
    "duration": 37,
    "start_time": "2023-02-18T23:43:28.734Z"
   },
   {
    "duration": 10,
    "start_time": "2023-02-18T23:43:28.773Z"
   },
   {
    "duration": 36,
    "start_time": "2023-02-18T23:43:28.785Z"
   },
   {
    "duration": 2215,
    "start_time": "2023-02-18T23:43:28.822Z"
   },
   {
    "duration": 1971,
    "start_time": "2023-02-18T23:43:31.039Z"
   },
   {
    "duration": 3,
    "start_time": "2023-02-18T23:43:33.012Z"
   },
   {
    "duration": 103,
    "start_time": "2023-02-18T23:43:33.017Z"
   },
   {
    "duration": 118,
    "start_time": "2023-02-18T23:52:38.493Z"
   },
   {
    "duration": 15,
    "start_time": "2023-02-18T23:58:01.943Z"
   },
   {
    "duration": 67,
    "start_time": "2023-02-19T00:04:22.453Z"
   },
   {
    "duration": 89,
    "start_time": "2023-02-19T00:04:33.365Z"
   },
   {
    "duration": 331,
    "start_time": "2023-02-19T00:04:51.171Z"
   },
   {
    "duration": 17,
    "start_time": "2023-02-19T00:06:29.278Z"
   },
   {
    "duration": 14,
    "start_time": "2023-02-19T00:07:35.699Z"
   },
   {
    "duration": 14,
    "start_time": "2023-02-19T00:08:05.377Z"
   },
   {
    "duration": 12,
    "start_time": "2023-02-19T00:20:57.395Z"
   },
   {
    "duration": 12,
    "start_time": "2023-02-19T00:25:58.109Z"
   },
   {
    "duration": 13,
    "start_time": "2023-02-19T00:27:54.112Z"
   },
   {
    "duration": 19,
    "start_time": "2023-02-19T00:28:27.560Z"
   },
   {
    "duration": 14,
    "start_time": "2023-02-19T00:33:52.546Z"
   },
   {
    "duration": 299,
    "start_time": "2023-02-19T08:10:17.217Z"
   },
   {
    "duration": 630,
    "start_time": "2023-02-19T08:10:43.804Z"
   },
   {
    "duration": 3,
    "start_time": "2023-02-19T08:10:44.437Z"
   },
   {
    "duration": 23,
    "start_time": "2023-02-19T08:10:44.442Z"
   },
   {
    "duration": 2512,
    "start_time": "2023-02-19T08:10:44.467Z"
   },
   {
    "duration": 17,
    "start_time": "2023-02-19T08:10:46.983Z"
   },
   {
    "duration": 10,
    "start_time": "2023-02-19T08:10:47.001Z"
   },
   {
    "duration": 28,
    "start_time": "2023-02-19T08:10:47.013Z"
   },
   {
    "duration": 6,
    "start_time": "2023-02-19T08:10:47.043Z"
   },
   {
    "duration": 14,
    "start_time": "2023-02-19T08:10:47.051Z"
   },
   {
    "duration": 30,
    "start_time": "2023-02-19T08:10:47.067Z"
   },
   {
    "duration": 57,
    "start_time": "2023-02-19T08:10:47.099Z"
   },
   {
    "duration": 24,
    "start_time": "2023-02-19T08:10:47.158Z"
   },
   {
    "duration": 11,
    "start_time": "2023-02-19T08:10:47.184Z"
   },
   {
    "duration": 46,
    "start_time": "2023-02-19T08:10:47.199Z"
   },
   {
    "duration": 2206,
    "start_time": "2023-02-19T08:10:47.247Z"
   },
   {
    "duration": 2042,
    "start_time": "2023-02-19T08:10:49.455Z"
   },
   {
    "duration": 3,
    "start_time": "2023-02-19T08:10:51.498Z"
   },
   {
    "duration": 19,
    "start_time": "2023-02-19T08:10:51.503Z"
   },
   {
    "duration": 16,
    "start_time": "2023-02-19T08:11:41.542Z"
   },
   {
    "duration": 17,
    "start_time": "2023-02-19T08:13:18.422Z"
   },
   {
    "duration": 11,
    "start_time": "2023-02-19T08:13:51.885Z"
   },
   {
    "duration": 19,
    "start_time": "2023-02-19T08:15:05.665Z"
   },
   {
    "duration": 13,
    "start_time": "2023-02-19T08:15:33.834Z"
   },
   {
    "duration": 22,
    "start_time": "2023-02-19T08:16:21.994Z"
   },
   {
    "duration": 130,
    "start_time": "2023-02-19T09:13:19.359Z"
   },
   {
    "duration": 147,
    "start_time": "2023-02-19T09:13:50.372Z"
   },
   {
    "duration": 140,
    "start_time": "2023-02-19T09:26:50.741Z"
   },
   {
    "duration": 156,
    "start_time": "2023-02-19T09:27:03.827Z"
   },
   {
    "duration": 218,
    "start_time": "2023-02-19T09:28:15.665Z"
   },
   {
    "duration": 150,
    "start_time": "2023-02-19T09:28:38.871Z"
   },
   {
    "duration": 147,
    "start_time": "2023-02-19T09:28:47.843Z"
   },
   {
    "duration": 135,
    "start_time": "2023-02-19T09:28:58.198Z"
   },
   {
    "duration": 160,
    "start_time": "2023-02-19T09:41:53.033Z"
   },
   {
    "duration": 139,
    "start_time": "2023-02-19T09:46:22.767Z"
   },
   {
    "duration": 141,
    "start_time": "2023-02-19T09:46:37.533Z"
   },
   {
    "duration": 137,
    "start_time": "2023-02-19T09:46:48.786Z"
   },
   {
    "duration": 21,
    "start_time": "2023-02-19T11:50:04.430Z"
   },
   {
    "duration": 42,
    "start_time": "2023-02-19T12:12:10.878Z"
   },
   {
    "duration": 60,
    "start_time": "2023-02-19T12:13:00.164Z"
   },
   {
    "duration": 9,
    "start_time": "2023-02-19T12:13:28.319Z"
   },
   {
    "duration": 889,
    "start_time": "2023-02-20T16:50:22.717Z"
   },
   {
    "duration": 4,
    "start_time": "2023-02-20T16:50:23.608Z"
   },
   {
    "duration": 25,
    "start_time": "2023-02-20T16:50:23.614Z"
   },
   {
    "duration": 2611,
    "start_time": "2023-02-20T16:50:23.641Z"
   },
   {
    "duration": 16,
    "start_time": "2023-02-20T16:50:26.255Z"
   },
   {
    "duration": 9,
    "start_time": "2023-02-20T16:50:26.272Z"
   },
   {
    "duration": 24,
    "start_time": "2023-02-20T16:50:26.282Z"
   },
   {
    "duration": 4,
    "start_time": "2023-02-20T16:50:26.308Z"
   },
   {
    "duration": 34,
    "start_time": "2023-02-20T16:50:26.314Z"
   },
   {
    "duration": 29,
    "start_time": "2023-02-20T16:50:26.350Z"
   },
   {
    "duration": 29,
    "start_time": "2023-02-20T16:50:26.380Z"
   },
   {
    "duration": 43,
    "start_time": "2023-02-20T16:50:26.410Z"
   },
   {
    "duration": 5,
    "start_time": "2023-02-20T16:50:26.455Z"
   },
   {
    "duration": 25,
    "start_time": "2023-02-20T16:50:26.462Z"
   },
   {
    "duration": 2278,
    "start_time": "2023-02-20T16:50:26.488Z"
   },
   {
    "duration": 18,
    "start_time": "2023-02-20T16:50:28.767Z"
   },
   {
    "duration": 76,
    "start_time": "2023-02-20T16:50:28.786Z"
   },
   {
    "duration": 0,
    "start_time": "2023-02-20T16:50:28.864Z"
   },
   {
    "duration": 0,
    "start_time": "2023-02-20T16:50:28.865Z"
   },
   {
    "duration": 0,
    "start_time": "2023-02-20T16:50:28.866Z"
   },
   {
    "duration": 0,
    "start_time": "2023-02-20T16:50:28.867Z"
   },
   {
    "duration": 0,
    "start_time": "2023-02-20T16:50:28.868Z"
   },
   {
    "duration": 0,
    "start_time": "2023-02-20T16:50:28.870Z"
   },
   {
    "duration": 19,
    "start_time": "2023-02-20T16:51:12.016Z"
   },
   {
    "duration": 20,
    "start_time": "2023-02-20T16:51:19.251Z"
   },
   {
    "duration": 1897,
    "start_time": "2023-02-20T16:51:21.631Z"
   },
   {
    "duration": 4,
    "start_time": "2023-02-20T16:51:25.049Z"
   },
   {
    "duration": 20,
    "start_time": "2023-02-20T16:51:27.662Z"
   },
   {
    "duration": 22,
    "start_time": "2023-02-20T16:51:27.863Z"
   },
   {
    "duration": 121,
    "start_time": "2023-02-20T16:51:28.382Z"
   },
   {
    "duration": 137,
    "start_time": "2023-02-20T16:51:28.729Z"
   },
   {
    "duration": 156,
    "start_time": "2023-02-20T16:54:50.595Z"
   },
   {
    "duration": 141,
    "start_time": "2023-02-20T16:59:10.385Z"
   },
   {
    "duration": 5,
    "start_time": "2023-02-20T17:06:46.227Z"
   },
   {
    "duration": 1844,
    "start_time": "2023-02-20T17:06:49.644Z"
   },
   {
    "duration": 4,
    "start_time": "2023-02-20T17:06:59.727Z"
   },
   {
    "duration": 723,
    "start_time": "2023-02-20T17:07:10.840Z"
   },
   {
    "duration": 3,
    "start_time": "2023-02-20T17:07:11.565Z"
   },
   {
    "duration": 19,
    "start_time": "2023-02-20T17:07:11.570Z"
   },
   {
    "duration": 2274,
    "start_time": "2023-02-20T17:07:11.591Z"
   },
   {
    "duration": 15,
    "start_time": "2023-02-20T17:07:13.866Z"
   },
   {
    "duration": 8,
    "start_time": "2023-02-20T17:07:13.882Z"
   },
   {
    "duration": 20,
    "start_time": "2023-02-20T17:07:13.893Z"
   },
   {
    "duration": 5,
    "start_time": "2023-02-20T17:07:13.914Z"
   },
   {
    "duration": 41,
    "start_time": "2023-02-20T17:07:13.921Z"
   },
   {
    "duration": 29,
    "start_time": "2023-02-20T17:07:13.965Z"
   },
   {
    "duration": 32,
    "start_time": "2023-02-20T17:07:13.996Z"
   },
   {
    "duration": 37,
    "start_time": "2023-02-20T17:07:14.029Z"
   },
   {
    "duration": 6,
    "start_time": "2023-02-20T17:07:14.068Z"
   },
   {
    "duration": 46,
    "start_time": "2023-02-20T17:07:14.076Z"
   },
   {
    "duration": 2239,
    "start_time": "2023-02-20T17:07:14.125Z"
   },
   {
    "duration": 27,
    "start_time": "2023-02-20T17:07:16.366Z"
   },
   {
    "duration": 27,
    "start_time": "2023-02-20T17:07:16.396Z"
   },
   {
    "duration": 8,
    "start_time": "2023-02-20T17:07:16.426Z"
   },
   {
    "duration": 2136,
    "start_time": "2023-02-20T17:07:16.460Z"
   },
   {
    "duration": 3,
    "start_time": "2023-02-20T17:07:18.598Z"
   },
   {
    "duration": 20,
    "start_time": "2023-02-20T17:07:18.603Z"
   },
   {
    "duration": 37,
    "start_time": "2023-02-20T17:07:18.625Z"
   },
   {
    "duration": 138,
    "start_time": "2023-02-20T17:07:18.664Z"
   },
   {
    "duration": 158,
    "start_time": "2023-02-20T17:07:18.803Z"
   },
   {
    "duration": 159,
    "start_time": "2023-02-20T17:08:11.377Z"
   },
   {
    "duration": 150,
    "start_time": "2023-02-20T17:08:19.463Z"
   },
   {
    "duration": 145,
    "start_time": "2023-02-20T17:08:38.991Z"
   },
   {
    "duration": 843,
    "start_time": "2023-02-20T17:28:46.948Z"
   },
   {
    "duration": 8,
    "start_time": "2023-02-20T17:28:49.885Z"
   },
   {
    "duration": 2226,
    "start_time": "2023-02-20T17:28:50.800Z"
   },
   {
    "duration": 19,
    "start_time": "2023-02-20T17:29:20.238Z"
   },
   {
    "duration": 2224,
    "start_time": "2023-02-20T17:29:22.818Z"
   },
   {
    "duration": 4,
    "start_time": "2023-02-20T17:29:59.588Z"
   },
   {
    "duration": 25,
    "start_time": "2023-02-20T17:30:34.869Z"
   },
   {
    "duration": 8,
    "start_time": "2023-02-20T17:30:37.424Z"
   },
   {
    "duration": 1991,
    "start_time": "2023-02-20T17:30:38.771Z"
   },
   {
    "duration": 26,
    "start_time": "2023-02-20T17:31:13.921Z"
   },
   {
    "duration": 9,
    "start_time": "2023-02-20T17:31:16.737Z"
   },
   {
    "duration": 24,
    "start_time": "2023-02-20T17:32:02.392Z"
   },
   {
    "duration": 9,
    "start_time": "2023-02-20T17:32:06.023Z"
   },
   {
    "duration": 2167,
    "start_time": "2023-02-20T17:32:24.419Z"
   },
   {
    "duration": 3,
    "start_time": "2023-02-20T17:32:41.177Z"
   },
   {
    "duration": 494,
    "start_time": "2023-02-20T17:42:58.796Z"
   },
   {
    "duration": 2,
    "start_time": "2023-02-20T17:42:59.292Z"
   },
   {
    "duration": 17,
    "start_time": "2023-02-20T17:42:59.296Z"
   },
   {
    "duration": 2210,
    "start_time": "2023-02-20T17:42:59.315Z"
   },
   {
    "duration": 13,
    "start_time": "2023-02-20T17:43:01.526Z"
   },
   {
    "duration": 30,
    "start_time": "2023-02-20T17:43:01.541Z"
   },
   {
    "duration": 45,
    "start_time": "2023-02-20T17:43:01.572Z"
   },
   {
    "duration": 9,
    "start_time": "2023-02-20T17:43:01.618Z"
   },
   {
    "duration": 24,
    "start_time": "2023-02-20T17:43:01.628Z"
   },
   {
    "duration": 32,
    "start_time": "2023-02-20T17:43:01.655Z"
   },
   {
    "duration": 29,
    "start_time": "2023-02-20T17:43:01.689Z"
   },
   {
    "duration": 28,
    "start_time": "2023-02-20T17:43:01.720Z"
   },
   {
    "duration": 5,
    "start_time": "2023-02-20T17:43:01.750Z"
   },
   {
    "duration": 52,
    "start_time": "2023-02-20T17:43:01.757Z"
   },
   {
    "duration": 2074,
    "start_time": "2023-02-20T17:43:01.810Z"
   },
   {
    "duration": 24,
    "start_time": "2023-02-20T17:43:03.886Z"
   },
   {
    "duration": 36,
    "start_time": "2023-02-20T17:43:03.912Z"
   },
   {
    "duration": 6,
    "start_time": "2023-02-20T17:43:03.950Z"
   },
   {
    "duration": 1969,
    "start_time": "2023-02-20T17:43:03.958Z"
   },
   {
    "duration": 3,
    "start_time": "2023-02-20T17:43:05.929Z"
   },
   {
    "duration": 34,
    "start_time": "2023-02-20T17:43:05.934Z"
   },
   {
    "duration": 23,
    "start_time": "2023-02-20T17:43:05.969Z"
   },
   {
    "duration": 132,
    "start_time": "2023-02-20T17:43:05.994Z"
   },
   {
    "duration": 144,
    "start_time": "2023-02-20T17:43:06.128Z"
   },
   {
    "duration": 156,
    "start_time": "2023-02-20T17:43:06.274Z"
   },
   {
    "duration": 194,
    "start_time": "2023-02-20T17:43:06.432Z"
   },
   {
    "duration": 151,
    "start_time": "2023-02-20T17:43:06.627Z"
   },
   {
    "duration": 216,
    "start_time": "2023-02-20T17:43:06.781Z"
   },
   {
    "duration": 138,
    "start_time": "2023-02-20T17:43:06.999Z"
   },
   {
    "duration": 139,
    "start_time": "2023-02-20T17:43:07.139Z"
   },
   {
    "duration": 143,
    "start_time": "2023-02-20T17:43:07.279Z"
   },
   {
    "duration": 143,
    "start_time": "2023-02-20T17:43:07.423Z"
   },
   {
    "duration": 155,
    "start_time": "2023-02-20T17:43:07.568Z"
   },
   {
    "duration": 157,
    "start_time": "2023-02-20T17:43:07.724Z"
   },
   {
    "duration": 157,
    "start_time": "2023-02-20T17:43:07.882Z"
   },
   {
    "duration": 138,
    "start_time": "2023-02-20T17:43:08.040Z"
   },
   {
    "duration": 169,
    "start_time": "2023-02-20T17:45:56.887Z"
   },
   {
    "duration": 148,
    "start_time": "2023-02-20T17:46:06.375Z"
   },
   {
    "duration": 217,
    "start_time": "2023-02-20T17:46:39.332Z"
   },
   {
    "duration": 140,
    "start_time": "2023-02-20T17:46:46.061Z"
   },
   {
    "duration": 142,
    "start_time": "2023-02-20T17:47:08.542Z"
   },
   {
    "duration": 30,
    "start_time": "2023-02-20T17:50:33.496Z"
   },
   {
    "duration": 10,
    "start_time": "2023-02-20T17:50:38.577Z"
   },
   {
    "duration": 1925,
    "start_time": "2023-02-20T17:50:49.378Z"
   },
   {
    "duration": 546,
    "start_time": "2023-02-20T17:51:34.920Z"
   },
   {
    "duration": 3,
    "start_time": "2023-02-20T17:51:35.468Z"
   },
   {
    "duration": 18,
    "start_time": "2023-02-20T17:51:35.473Z"
   },
   {
    "duration": 2195,
    "start_time": "2023-02-20T17:51:35.493Z"
   },
   {
    "duration": 13,
    "start_time": "2023-02-20T17:51:37.690Z"
   },
   {
    "duration": 8,
    "start_time": "2023-02-20T17:51:37.704Z"
   },
   {
    "duration": 21,
    "start_time": "2023-02-20T17:51:37.713Z"
   },
   {
    "duration": 4,
    "start_time": "2023-02-20T17:51:37.735Z"
   },
   {
    "duration": 13,
    "start_time": "2023-02-20T17:51:37.741Z"
   },
   {
    "duration": 29,
    "start_time": "2023-02-20T17:51:37.756Z"
   },
   {
    "duration": 30,
    "start_time": "2023-02-20T17:51:37.786Z"
   },
   {
    "duration": 41,
    "start_time": "2023-02-20T17:51:37.818Z"
   },
   {
    "duration": 6,
    "start_time": "2023-02-20T17:51:37.860Z"
   },
   {
    "duration": 27,
    "start_time": "2023-02-20T17:51:37.867Z"
   },
   {
    "duration": 2027,
    "start_time": "2023-02-20T17:51:37.896Z"
   },
   {
    "duration": 33,
    "start_time": "2023-02-20T17:51:39.925Z"
   },
   {
    "duration": 20,
    "start_time": "2023-02-20T17:51:39.960Z"
   },
   {
    "duration": 6,
    "start_time": "2023-02-20T17:51:39.981Z"
   },
   {
    "duration": 1952,
    "start_time": "2023-02-20T17:51:39.988Z"
   },
   {
    "duration": 8,
    "start_time": "2023-02-20T17:51:41.941Z"
   },
   {
    "duration": 20,
    "start_time": "2023-02-20T17:51:41.951Z"
   },
   {
    "duration": 20,
    "start_time": "2023-02-20T17:51:41.973Z"
   },
   {
    "duration": 142,
    "start_time": "2023-02-20T17:51:41.995Z"
   },
   {
    "duration": 139,
    "start_time": "2023-02-20T17:51:42.139Z"
   },
   {
    "duration": 147,
    "start_time": "2023-02-20T17:51:42.280Z"
   },
   {
    "duration": 163,
    "start_time": "2023-02-20T17:51:42.429Z"
   },
   {
    "duration": 162,
    "start_time": "2023-02-20T17:51:42.594Z"
   },
   {
    "duration": 216,
    "start_time": "2023-02-20T17:51:42.759Z"
   },
   {
    "duration": 137,
    "start_time": "2023-02-20T17:51:42.977Z"
   },
   {
    "duration": 141,
    "start_time": "2023-02-20T17:51:43.116Z"
   },
   {
    "duration": 140,
    "start_time": "2023-02-20T17:51:43.259Z"
   },
   {
    "duration": 155,
    "start_time": "2023-02-20T17:51:43.400Z"
   },
   {
    "duration": 145,
    "start_time": "2023-02-20T17:51:43.557Z"
   },
   {
    "duration": 158,
    "start_time": "2023-02-20T17:51:43.703Z"
   },
   {
    "duration": 158,
    "start_time": "2023-02-20T17:51:43.863Z"
   },
   {
    "duration": 144,
    "start_time": "2023-02-20T17:51:44.023Z"
   },
   {
    "duration": 17,
    "start_time": "2023-02-20T17:58:52.929Z"
   },
   {
    "duration": 1718,
    "start_time": "2023-02-20T17:58:54.188Z"
   },
   {
    "duration": 590,
    "start_time": "2023-02-20T17:59:03.420Z"
   },
   {
    "duration": 3,
    "start_time": "2023-02-20T17:59:04.012Z"
   },
   {
    "duration": 21,
    "start_time": "2023-02-20T17:59:04.017Z"
   },
   {
    "duration": 2185,
    "start_time": "2023-02-20T17:59:04.040Z"
   },
   {
    "duration": 14,
    "start_time": "2023-02-20T17:59:06.227Z"
   },
   {
    "duration": 9,
    "start_time": "2023-02-20T17:59:06.243Z"
   },
   {
    "duration": 20,
    "start_time": "2023-02-20T17:59:06.254Z"
   },
   {
    "duration": 4,
    "start_time": "2023-02-20T17:59:06.275Z"
   },
   {
    "duration": 24,
    "start_time": "2023-02-20T17:59:06.281Z"
   },
   {
    "duration": 50,
    "start_time": "2023-02-20T17:59:06.308Z"
   },
   {
    "duration": 35,
    "start_time": "2023-02-20T17:59:06.360Z"
   },
   {
    "duration": 24,
    "start_time": "2023-02-20T17:59:06.397Z"
   },
   {
    "duration": 28,
    "start_time": "2023-02-20T17:59:06.424Z"
   },
   {
    "duration": 46,
    "start_time": "2023-02-20T17:59:06.455Z"
   },
   {
    "duration": 2082,
    "start_time": "2023-02-20T17:59:06.503Z"
   },
   {
    "duration": 21,
    "start_time": "2023-02-20T17:59:08.587Z"
   },
   {
    "duration": 18,
    "start_time": "2023-02-20T17:59:08.610Z"
   },
   {
    "duration": 28,
    "start_time": "2023-02-20T17:59:08.629Z"
   },
   {
    "duration": 1763,
    "start_time": "2023-02-20T17:59:08.659Z"
   },
   {
    "duration": 4,
    "start_time": "2023-02-20T17:59:10.425Z"
   },
   {
    "duration": 30,
    "start_time": "2023-02-20T17:59:10.430Z"
   },
   {
    "duration": 26,
    "start_time": "2023-02-20T17:59:10.461Z"
   },
   {
    "duration": 138,
    "start_time": "2023-02-20T17:59:10.489Z"
   },
   {
    "duration": 128,
    "start_time": "2023-02-20T17:59:10.629Z"
   },
   {
    "duration": 143,
    "start_time": "2023-02-20T17:59:10.759Z"
   },
   {
    "duration": 145,
    "start_time": "2023-02-20T17:59:10.904Z"
   },
   {
    "duration": 146,
    "start_time": "2023-02-20T17:59:11.051Z"
   },
   {
    "duration": 212,
    "start_time": "2023-02-20T17:59:11.199Z"
   },
   {
    "duration": 150,
    "start_time": "2023-02-20T17:59:11.412Z"
   },
   {
    "duration": 118,
    "start_time": "2023-02-20T17:59:11.563Z"
   },
   {
    "duration": 151,
    "start_time": "2023-02-20T17:59:11.683Z"
   },
   {
    "duration": 159,
    "start_time": "2023-02-20T17:59:11.836Z"
   },
   {
    "duration": 164,
    "start_time": "2023-02-20T17:59:11.997Z"
   },
   {
    "duration": 157,
    "start_time": "2023-02-20T17:59:12.163Z"
   },
   {
    "duration": 151,
    "start_time": "2023-02-20T17:59:12.322Z"
   },
   {
    "duration": 151,
    "start_time": "2023-02-20T17:59:12.475Z"
   },
   {
    "duration": 549,
    "start_time": "2023-02-20T17:59:53.449Z"
   },
   {
    "duration": 3,
    "start_time": "2023-02-20T17:59:53.999Z"
   },
   {
    "duration": 29,
    "start_time": "2023-02-20T17:59:54.004Z"
   },
   {
    "duration": 2146,
    "start_time": "2023-02-20T17:59:54.035Z"
   },
   {
    "duration": 16,
    "start_time": "2023-02-20T17:59:56.182Z"
   },
   {
    "duration": 7,
    "start_time": "2023-02-20T17:59:56.199Z"
   },
   {
    "duration": 19,
    "start_time": "2023-02-20T17:59:56.208Z"
   },
   {
    "duration": 5,
    "start_time": "2023-02-20T17:59:56.229Z"
   },
   {
    "duration": 14,
    "start_time": "2023-02-20T17:59:56.235Z"
   },
   {
    "duration": 29,
    "start_time": "2023-02-20T17:59:56.251Z"
   },
   {
    "duration": 34,
    "start_time": "2023-02-20T17:59:56.282Z"
   },
   {
    "duration": 47,
    "start_time": "2023-02-20T17:59:56.318Z"
   },
   {
    "duration": 6,
    "start_time": "2023-02-20T17:59:56.367Z"
   },
   {
    "duration": 36,
    "start_time": "2023-02-20T17:59:56.375Z"
   },
   {
    "duration": 2179,
    "start_time": "2023-02-20T17:59:56.412Z"
   },
   {
    "duration": 20,
    "start_time": "2023-02-20T17:59:58.592Z"
   },
   {
    "duration": 39,
    "start_time": "2023-02-20T17:59:58.614Z"
   },
   {
    "duration": 14,
    "start_time": "2023-02-20T17:59:58.654Z"
   },
   {
    "duration": 2157,
    "start_time": "2023-02-20T17:59:58.670Z"
   },
   {
    "duration": 5,
    "start_time": "2023-02-20T18:00:00.829Z"
   },
   {
    "duration": 39,
    "start_time": "2023-02-20T18:00:00.836Z"
   },
   {
    "duration": 31,
    "start_time": "2023-02-20T18:00:00.876Z"
   },
   {
    "duration": 184,
    "start_time": "2023-02-20T18:00:00.909Z"
   },
   {
    "duration": 156,
    "start_time": "2023-02-20T18:00:01.095Z"
   },
   {
    "duration": 160,
    "start_time": "2023-02-20T18:00:01.253Z"
   },
   {
    "duration": 189,
    "start_time": "2023-02-20T18:00:01.414Z"
   },
   {
    "duration": 166,
    "start_time": "2023-02-20T18:00:01.605Z"
   },
   {
    "duration": 245,
    "start_time": "2023-02-20T18:00:01.774Z"
   },
   {
    "duration": 157,
    "start_time": "2023-02-20T18:00:02.021Z"
   },
   {
    "duration": 150,
    "start_time": "2023-02-20T18:00:02.180Z"
   },
   {
    "duration": 149,
    "start_time": "2023-02-20T18:00:02.332Z"
   },
   {
    "duration": 157,
    "start_time": "2023-02-20T18:00:02.483Z"
   },
   {
    "duration": 143,
    "start_time": "2023-02-20T18:00:02.649Z"
   },
   {
    "duration": 164,
    "start_time": "2023-02-20T18:00:02.794Z"
   },
   {
    "duration": 159,
    "start_time": "2023-02-20T18:00:02.959Z"
   },
   {
    "duration": 151,
    "start_time": "2023-02-20T18:00:03.120Z"
   },
   {
    "duration": 485,
    "start_time": "2023-02-20T18:03:52.603Z"
   },
   {
    "duration": 3,
    "start_time": "2023-02-20T18:03:53.090Z"
   },
   {
    "duration": 17,
    "start_time": "2023-02-20T18:03:53.095Z"
   },
   {
    "duration": 2182,
    "start_time": "2023-02-20T18:03:53.114Z"
   },
   {
    "duration": 16,
    "start_time": "2023-02-20T18:03:55.298Z"
   },
   {
    "duration": 8,
    "start_time": "2023-02-20T18:03:55.316Z"
   },
   {
    "duration": 30,
    "start_time": "2023-02-20T18:03:55.326Z"
   },
   {
    "duration": 4,
    "start_time": "2023-02-20T18:03:55.358Z"
   },
   {
    "duration": 15,
    "start_time": "2023-02-20T18:03:55.364Z"
   },
   {
    "duration": 29,
    "start_time": "2023-02-20T18:03:55.381Z"
   },
   {
    "duration": 54,
    "start_time": "2023-02-20T18:03:55.412Z"
   },
   {
    "duration": 18,
    "start_time": "2023-02-20T18:03:55.468Z"
   },
   {
    "duration": 5,
    "start_time": "2023-02-20T18:03:55.487Z"
   },
   {
    "duration": 30,
    "start_time": "2023-02-20T18:03:55.494Z"
   },
   {
    "duration": 2109,
    "start_time": "2023-02-20T18:03:55.525Z"
   },
   {
    "duration": 31,
    "start_time": "2023-02-20T18:03:57.636Z"
   },
   {
    "duration": 18,
    "start_time": "2023-02-20T18:03:57.668Z"
   },
   {
    "duration": 12,
    "start_time": "2023-02-20T18:03:57.688Z"
   },
   {
    "duration": 2048,
    "start_time": "2023-02-20T18:03:57.702Z"
   },
   {
    "duration": 3,
    "start_time": "2023-02-20T18:03:59.752Z"
   },
   {
    "duration": 25,
    "start_time": "2023-02-20T18:03:59.757Z"
   },
   {
    "duration": 22,
    "start_time": "2023-02-20T18:03:59.784Z"
   },
   {
    "duration": 142,
    "start_time": "2023-02-20T18:03:59.808Z"
   },
   {
    "duration": 151,
    "start_time": "2023-02-20T18:03:59.951Z"
   },
   {
    "duration": 162,
    "start_time": "2023-02-20T18:04:00.104Z"
   },
   {
    "duration": 165,
    "start_time": "2023-02-20T18:04:00.268Z"
   },
   {
    "duration": 169,
    "start_time": "2023-02-20T18:04:00.435Z"
   },
   {
    "duration": 232,
    "start_time": "2023-02-20T18:04:00.609Z"
   },
   {
    "duration": 148,
    "start_time": "2023-02-20T18:04:00.849Z"
   },
   {
    "duration": 156,
    "start_time": "2023-02-20T18:04:00.999Z"
   },
   {
    "duration": 183,
    "start_time": "2023-02-20T18:04:01.156Z"
   },
   {
    "duration": 231,
    "start_time": "2023-02-20T18:04:01.341Z"
   },
   {
    "duration": 163,
    "start_time": "2023-02-20T18:04:01.574Z"
   },
   {
    "duration": 196,
    "start_time": "2023-02-20T18:04:01.739Z"
   },
   {
    "duration": 178,
    "start_time": "2023-02-20T18:04:01.937Z"
   },
   {
    "duration": 151,
    "start_time": "2023-02-20T18:04:02.117Z"
   },
   {
    "duration": 134,
    "start_time": "2023-02-20T18:08:34.024Z"
   },
   {
    "duration": 570,
    "start_time": "2023-02-20T18:12:53.020Z"
   },
   {
    "duration": 4,
    "start_time": "2023-02-20T18:12:53.592Z"
   },
   {
    "duration": 20,
    "start_time": "2023-02-20T18:12:53.597Z"
   },
   {
    "duration": 2158,
    "start_time": "2023-02-20T18:12:53.619Z"
   },
   {
    "duration": 16,
    "start_time": "2023-02-20T18:12:55.779Z"
   },
   {
    "duration": 9,
    "start_time": "2023-02-20T18:12:55.796Z"
   },
   {
    "duration": 22,
    "start_time": "2023-02-20T18:12:55.806Z"
   },
   {
    "duration": 5,
    "start_time": "2023-02-20T18:12:55.830Z"
   },
   {
    "duration": 12,
    "start_time": "2023-02-20T18:12:55.849Z"
   },
   {
    "duration": 28,
    "start_time": "2023-02-20T18:12:55.864Z"
   },
   {
    "duration": 29,
    "start_time": "2023-02-20T18:12:55.893Z"
   },
   {
    "duration": 20,
    "start_time": "2023-02-20T18:12:55.948Z"
   },
   {
    "duration": 5,
    "start_time": "2023-02-20T18:12:55.969Z"
   },
   {
    "duration": 36,
    "start_time": "2023-02-20T18:12:55.978Z"
   },
   {
    "duration": 2145,
    "start_time": "2023-02-20T18:12:56.017Z"
   },
   {
    "duration": 22,
    "start_time": "2023-02-20T18:12:58.163Z"
   },
   {
    "duration": 20,
    "start_time": "2023-02-20T18:12:58.186Z"
   },
   {
    "duration": 15,
    "start_time": "2023-02-20T18:12:58.207Z"
   },
   {
    "duration": 2018,
    "start_time": "2023-02-20T18:12:58.223Z"
   },
   {
    "duration": 7,
    "start_time": "2023-02-20T18:13:00.242Z"
   },
   {
    "duration": 33,
    "start_time": "2023-02-20T18:13:00.250Z"
   },
   {
    "duration": 21,
    "start_time": "2023-02-20T18:13:00.284Z"
   },
   {
    "duration": 149,
    "start_time": "2023-02-20T18:13:00.307Z"
   },
   {
    "duration": 171,
    "start_time": "2023-02-20T18:13:00.458Z"
   },
   {
    "duration": 130,
    "start_time": "2023-02-20T18:13:00.630Z"
   },
   {
    "duration": 156,
    "start_time": "2023-02-20T18:13:00.762Z"
   },
   {
    "duration": 152,
    "start_time": "2023-02-20T18:13:00.920Z"
   },
   {
    "duration": 216,
    "start_time": "2023-02-20T18:13:01.073Z"
   },
   {
    "duration": 157,
    "start_time": "2023-02-20T18:13:01.291Z"
   },
   {
    "duration": 141,
    "start_time": "2023-02-20T18:13:01.450Z"
   },
   {
    "duration": 158,
    "start_time": "2023-02-20T18:13:01.592Z"
   },
   {
    "duration": 136,
    "start_time": "2023-02-20T18:13:01.751Z"
   },
   {
    "duration": 165,
    "start_time": "2023-02-20T18:13:01.889Z"
   },
   {
    "duration": 159,
    "start_time": "2023-02-20T18:13:02.056Z"
   },
   {
    "duration": 146,
    "start_time": "2023-02-20T18:13:02.217Z"
   },
   {
    "duration": 128,
    "start_time": "2023-02-20T18:13:02.365Z"
   },
   {
    "duration": 75,
    "start_time": "2023-02-20T21:53:44.865Z"
   },
   {
    "duration": 852,
    "start_time": "2023-02-20T21:54:31.755Z"
   },
   {
    "duration": 4,
    "start_time": "2023-02-20T21:54:32.609Z"
   },
   {
    "duration": 24,
    "start_time": "2023-02-20T21:54:32.615Z"
   },
   {
    "duration": 2630,
    "start_time": "2023-02-20T21:54:32.642Z"
   },
   {
    "duration": 15,
    "start_time": "2023-02-20T21:54:35.274Z"
   },
   {
    "duration": 8,
    "start_time": "2023-02-20T21:54:35.291Z"
   },
   {
    "duration": 23,
    "start_time": "2023-02-20T21:54:35.300Z"
   },
   {
    "duration": 5,
    "start_time": "2023-02-20T21:54:35.325Z"
   },
   {
    "duration": 25,
    "start_time": "2023-02-20T21:54:35.331Z"
   },
   {
    "duration": 38,
    "start_time": "2023-02-20T21:54:35.359Z"
   },
   {
    "duration": 63,
    "start_time": "2023-02-20T21:54:35.399Z"
   },
   {
    "duration": 28,
    "start_time": "2023-02-20T21:54:35.464Z"
   },
   {
    "duration": 6,
    "start_time": "2023-02-20T21:54:35.494Z"
   },
   {
    "duration": 53,
    "start_time": "2023-02-20T21:54:35.502Z"
   },
   {
    "duration": 2409,
    "start_time": "2023-02-20T21:54:35.557Z"
   },
   {
    "duration": 20,
    "start_time": "2023-02-20T21:54:37.968Z"
   },
   {
    "duration": 21,
    "start_time": "2023-02-20T21:54:37.990Z"
   },
   {
    "duration": 41,
    "start_time": "2023-02-20T21:54:38.014Z"
   },
   {
    "duration": 2041,
    "start_time": "2023-02-20T21:54:38.057Z"
   },
   {
    "duration": 4,
    "start_time": "2023-02-20T21:54:40.100Z"
   },
   {
    "duration": 40,
    "start_time": "2023-02-20T21:54:40.105Z"
   },
   {
    "duration": 23,
    "start_time": "2023-02-20T21:54:40.147Z"
   },
   {
    "duration": 201,
    "start_time": "2023-02-20T21:54:40.172Z"
   },
   {
    "duration": 204,
    "start_time": "2023-02-20T21:54:40.374Z"
   },
   {
    "duration": 152,
    "start_time": "2023-02-20T21:54:40.580Z"
   },
   {
    "duration": 227,
    "start_time": "2023-02-20T21:54:40.734Z"
   },
   {
    "duration": 296,
    "start_time": "2023-02-20T21:54:40.963Z"
   },
   {
    "duration": 157,
    "start_time": "2023-02-20T21:54:41.263Z"
   },
   {
    "duration": 165,
    "start_time": "2023-02-20T21:54:41.422Z"
   },
   {
    "duration": 168,
    "start_time": "2023-02-20T21:54:41.589Z"
   },
   {
    "duration": 165,
    "start_time": "2023-02-20T21:54:41.759Z"
   },
   {
    "duration": 165,
    "start_time": "2023-02-20T21:54:41.926Z"
   },
   {
    "duration": 160,
    "start_time": "2023-02-20T21:54:42.093Z"
   },
   {
    "duration": 164,
    "start_time": "2023-02-20T21:54:42.254Z"
   },
   {
    "duration": 170,
    "start_time": "2023-02-20T21:54:42.419Z"
   },
   {
    "duration": 145,
    "start_time": "2023-02-20T21:54:42.591Z"
   },
   {
    "duration": 31,
    "start_time": "2023-02-20T22:14:18.594Z"
   },
   {
    "duration": 567,
    "start_time": "2023-02-20T22:14:32.635Z"
   },
   {
    "duration": 3,
    "start_time": "2023-02-20T22:14:33.205Z"
   },
   {
    "duration": 29,
    "start_time": "2023-02-20T22:14:33.210Z"
   },
   {
    "duration": 2312,
    "start_time": "2023-02-20T22:14:33.244Z"
   },
   {
    "duration": 16,
    "start_time": "2023-02-20T22:14:35.558Z"
   },
   {
    "duration": 21,
    "start_time": "2023-02-20T22:14:35.576Z"
   },
   {
    "duration": 28,
    "start_time": "2023-02-20T22:14:35.598Z"
   },
   {
    "duration": 7,
    "start_time": "2023-02-20T22:14:35.628Z"
   },
   {
    "duration": 15,
    "start_time": "2023-02-20T22:14:35.645Z"
   },
   {
    "duration": 32,
    "start_time": "2023-02-20T22:14:35.663Z"
   },
   {
    "duration": 59,
    "start_time": "2023-02-20T22:14:35.697Z"
   },
   {
    "duration": 20,
    "start_time": "2023-02-20T22:14:35.757Z"
   },
   {
    "duration": 6,
    "start_time": "2023-02-20T22:14:35.779Z"
   },
   {
    "duration": 58,
    "start_time": "2023-02-20T22:14:35.787Z"
   },
   {
    "duration": 2342,
    "start_time": "2023-02-20T22:14:35.847Z"
   },
   {
    "duration": 22,
    "start_time": "2023-02-20T22:14:38.191Z"
   },
   {
    "duration": 41,
    "start_time": "2023-02-20T22:14:38.215Z"
   },
   {
    "duration": 13,
    "start_time": "2023-02-20T22:14:38.258Z"
   },
   {
    "duration": 2103,
    "start_time": "2023-02-20T22:14:38.273Z"
   },
   {
    "duration": 4,
    "start_time": "2023-02-20T22:14:40.378Z"
   },
   {
    "duration": 58,
    "start_time": "2023-02-20T22:14:40.384Z"
   },
   {
    "duration": 42,
    "start_time": "2023-02-20T22:14:40.444Z"
   },
   {
    "duration": 298,
    "start_time": "2023-02-20T22:14:40.488Z"
   },
   {
    "duration": 222,
    "start_time": "2023-02-20T22:14:40.788Z"
   },
   {
    "duration": 162,
    "start_time": "2023-02-20T22:14:41.012Z"
   },
   {
    "duration": 159,
    "start_time": "2023-02-20T22:14:41.176Z"
   },
   {
    "duration": 185,
    "start_time": "2023-02-20T22:14:41.337Z"
   },
   {
    "duration": 251,
    "start_time": "2023-02-20T22:14:41.526Z"
   },
   {
    "duration": 151,
    "start_time": "2023-02-20T22:14:41.779Z"
   },
   {
    "duration": 176,
    "start_time": "2023-02-20T22:14:41.932Z"
   },
   {
    "duration": 158,
    "start_time": "2023-02-20T22:14:42.110Z"
   },
   {
    "duration": 152,
    "start_time": "2023-02-20T22:14:42.270Z"
   },
   {
    "duration": 171,
    "start_time": "2023-02-20T22:14:42.423Z"
   },
   {
    "duration": 162,
    "start_time": "2023-02-20T22:14:42.596Z"
   },
   {
    "duration": 196,
    "start_time": "2023-02-20T22:14:42.760Z"
   },
   {
    "duration": 158,
    "start_time": "2023-02-20T22:14:42.957Z"
   },
   {
    "duration": 520,
    "start_time": "2023-02-20T22:20:42.084Z"
   },
   {
    "duration": 4,
    "start_time": "2023-02-20T22:20:42.606Z"
   },
   {
    "duration": 18,
    "start_time": "2023-02-20T22:20:42.612Z"
   },
   {
    "duration": 2508,
    "start_time": "2023-02-20T22:20:42.632Z"
   },
   {
    "duration": 22,
    "start_time": "2023-02-20T22:20:45.142Z"
   },
   {
    "duration": 10,
    "start_time": "2023-02-20T22:20:45.166Z"
   },
   {
    "duration": 21,
    "start_time": "2023-02-20T22:20:45.178Z"
   },
   {
    "duration": 5,
    "start_time": "2023-02-20T22:20:45.201Z"
   },
   {
    "duration": 41,
    "start_time": "2023-02-20T22:20:45.208Z"
   },
   {
    "duration": 34,
    "start_time": "2023-02-20T22:20:45.254Z"
   },
   {
    "duration": 30,
    "start_time": "2023-02-20T22:20:45.289Z"
   },
   {
    "duration": 51,
    "start_time": "2023-02-20T22:20:45.320Z"
   },
   {
    "duration": 5,
    "start_time": "2023-02-20T22:20:45.373Z"
   },
   {
    "duration": 29,
    "start_time": "2023-02-20T22:20:45.379Z"
   },
   {
    "duration": 2404,
    "start_time": "2023-02-20T22:20:45.410Z"
   },
   {
    "duration": 32,
    "start_time": "2023-02-20T22:20:47.816Z"
   },
   {
    "duration": 30,
    "start_time": "2023-02-20T22:20:47.851Z"
   },
   {
    "duration": 721,
    "start_time": "2023-02-20T22:20:47.883Z"
   },
   {
    "duration": 0,
    "start_time": "2023-02-20T22:20:48.606Z"
   },
   {
    "duration": 0,
    "start_time": "2023-02-20T22:20:48.607Z"
   },
   {
    "duration": 0,
    "start_time": "2023-02-20T22:20:48.608Z"
   },
   {
    "duration": 0,
    "start_time": "2023-02-20T22:20:48.609Z"
   },
   {
    "duration": 0,
    "start_time": "2023-02-20T22:20:48.610Z"
   },
   {
    "duration": 0,
    "start_time": "2023-02-20T22:20:48.612Z"
   },
   {
    "duration": 1,
    "start_time": "2023-02-20T22:20:48.612Z"
   },
   {
    "duration": 0,
    "start_time": "2023-02-20T22:20:48.614Z"
   },
   {
    "duration": 0,
    "start_time": "2023-02-20T22:20:48.615Z"
   },
   {
    "duration": 0,
    "start_time": "2023-02-20T22:20:48.616Z"
   },
   {
    "duration": 1,
    "start_time": "2023-02-20T22:20:48.617Z"
   },
   {
    "duration": 0,
    "start_time": "2023-02-20T22:20:48.692Z"
   },
   {
    "duration": 0,
    "start_time": "2023-02-20T22:20:48.693Z"
   },
   {
    "duration": 0,
    "start_time": "2023-02-20T22:20:48.694Z"
   },
   {
    "duration": 0,
    "start_time": "2023-02-20T22:20:48.696Z"
   },
   {
    "duration": 0,
    "start_time": "2023-02-20T22:20:48.696Z"
   },
   {
    "duration": 0,
    "start_time": "2023-02-20T22:20:48.697Z"
   },
   {
    "duration": 0,
    "start_time": "2023-02-20T22:20:48.698Z"
   },
   {
    "duration": 18,
    "start_time": "2023-02-20T22:21:23.631Z"
   },
   {
    "duration": 2083,
    "start_time": "2023-02-20T22:21:25.615Z"
   },
   {
    "duration": 4,
    "start_time": "2023-02-20T22:21:27.700Z"
   },
   {
    "duration": 28,
    "start_time": "2023-02-20T22:21:27.706Z"
   },
   {
    "duration": 30,
    "start_time": "2023-02-20T22:21:27.830Z"
   },
   {
    "duration": 150,
    "start_time": "2023-02-20T22:21:28.410Z"
   },
   {
    "duration": 160,
    "start_time": "2023-02-20T22:21:28.805Z"
   },
   {
    "duration": 122,
    "start_time": "2023-02-20T22:21:29.187Z"
   },
   {
    "duration": 154,
    "start_time": "2023-02-20T22:21:29.585Z"
   },
   {
    "duration": 156,
    "start_time": "2023-02-20T22:21:30.024Z"
   },
   {
    "duration": 283,
    "start_time": "2023-02-20T22:21:30.413Z"
   },
   {
    "duration": 144,
    "start_time": "2023-02-20T22:21:30.836Z"
   },
   {
    "duration": 148,
    "start_time": "2023-02-20T22:21:31.045Z"
   },
   {
    "duration": 156,
    "start_time": "2023-02-20T22:21:31.225Z"
   },
   {
    "duration": 172,
    "start_time": "2023-02-20T22:21:31.456Z"
   },
   {
    "duration": 153,
    "start_time": "2023-02-20T22:21:32.381Z"
   },
   {
    "duration": 143,
    "start_time": "2023-02-20T22:21:32.553Z"
   },
   {
    "duration": 166,
    "start_time": "2023-02-20T22:21:32.769Z"
   },
   {
    "duration": 145,
    "start_time": "2023-02-20T22:21:32.941Z"
   },
   {
    "duration": 174,
    "start_time": "2023-02-20T22:23:12.297Z"
   },
   {
    "duration": 47,
    "start_time": "2023-02-21T08:51:30.844Z"
   },
   {
    "duration": 629,
    "start_time": "2023-02-21T08:51:39.374Z"
   },
   {
    "duration": 3,
    "start_time": "2023-02-21T08:51:40.005Z"
   },
   {
    "duration": 22,
    "start_time": "2023-02-21T08:51:40.010Z"
   },
   {
    "duration": 2311,
    "start_time": "2023-02-21T08:51:40.034Z"
   },
   {
    "duration": 15,
    "start_time": "2023-02-21T08:51:42.347Z"
   },
   {
    "duration": 9,
    "start_time": "2023-02-21T08:51:42.364Z"
   },
   {
    "duration": 27,
    "start_time": "2023-02-21T08:51:42.375Z"
   },
   {
    "duration": 5,
    "start_time": "2023-02-21T08:51:42.404Z"
   },
   {
    "duration": 15,
    "start_time": "2023-02-21T08:51:42.411Z"
   },
   {
    "duration": 32,
    "start_time": "2023-02-21T08:51:42.429Z"
   },
   {
    "duration": 46,
    "start_time": "2023-02-21T08:51:42.463Z"
   },
   {
    "duration": 18,
    "start_time": "2023-02-21T08:51:42.511Z"
   },
   {
    "duration": 7,
    "start_time": "2023-02-21T08:51:42.531Z"
   },
   {
    "duration": 34,
    "start_time": "2023-02-21T08:51:42.540Z"
   },
   {
    "duration": 2185,
    "start_time": "2023-02-21T08:51:42.576Z"
   },
   {
    "duration": 38,
    "start_time": "2023-02-21T08:51:44.763Z"
   },
   {
    "duration": 23,
    "start_time": "2023-02-21T08:51:44.803Z"
   },
   {
    "duration": 15,
    "start_time": "2023-02-21T08:51:44.828Z"
   },
   {
    "duration": 1950,
    "start_time": "2023-02-21T08:51:44.845Z"
   },
   {
    "duration": 3,
    "start_time": "2023-02-21T08:51:46.799Z"
   },
   {
    "duration": 27,
    "start_time": "2023-02-21T08:51:46.804Z"
   },
   {
    "duration": 23,
    "start_time": "2023-02-21T08:51:46.832Z"
   },
   {
    "duration": 166,
    "start_time": "2023-02-21T08:51:46.857Z"
   },
   {
    "duration": 184,
    "start_time": "2023-02-21T08:51:47.024Z"
   },
   {
    "duration": 127,
    "start_time": "2023-02-21T08:51:47.210Z"
   },
   {
    "duration": 155,
    "start_time": "2023-02-21T08:51:47.339Z"
   },
   {
    "duration": 231,
    "start_time": "2023-02-21T08:51:47.499Z"
   },
   {
    "duration": 148,
    "start_time": "2023-02-21T08:51:47.733Z"
   },
   {
    "duration": 184,
    "start_time": "2023-02-21T08:51:47.884Z"
   },
   {
    "duration": 139,
    "start_time": "2023-02-21T08:51:48.070Z"
   },
   {
    "duration": 197,
    "start_time": "2023-02-21T08:51:48.210Z"
   },
   {
    "duration": 179,
    "start_time": "2023-02-21T08:51:48.409Z"
   },
   {
    "duration": 158,
    "start_time": "2023-02-21T08:51:48.589Z"
   },
   {
    "duration": 165,
    "start_time": "2023-02-21T08:51:48.749Z"
   },
   {
    "duration": 169,
    "start_time": "2023-02-21T08:51:48.916Z"
   },
   {
    "duration": 142,
    "start_time": "2023-02-21T08:51:49.086Z"
   },
   {
    "duration": 121,
    "start_time": "2023-02-21T08:52:54.727Z"
   },
   {
    "duration": 208,
    "start_time": "2023-02-21T08:58:45.816Z"
   },
   {
    "duration": 584,
    "start_time": "2023-02-21T09:19:00.880Z"
   },
   {
    "duration": 3,
    "start_time": "2023-02-21T09:19:01.466Z"
   },
   {
    "duration": 44,
    "start_time": "2023-02-21T09:19:01.471Z"
   },
   {
    "duration": 2304,
    "start_time": "2023-02-21T09:19:01.517Z"
   },
   {
    "duration": 15,
    "start_time": "2023-02-21T09:19:03.823Z"
   },
   {
    "duration": 9,
    "start_time": "2023-02-21T09:19:03.840Z"
   },
   {
    "duration": 71,
    "start_time": "2023-02-21T09:19:03.851Z"
   },
   {
    "duration": 7,
    "start_time": "2023-02-21T09:19:03.924Z"
   },
   {
    "duration": 23,
    "start_time": "2023-02-21T09:19:03.933Z"
   },
   {
    "duration": 45,
    "start_time": "2023-02-21T09:19:03.960Z"
   },
   {
    "duration": 40,
    "start_time": "2023-02-21T09:19:04.007Z"
   },
   {
    "duration": 29,
    "start_time": "2023-02-21T09:19:04.049Z"
   },
   {
    "duration": 8,
    "start_time": "2023-02-21T09:19:04.099Z"
   },
   {
    "duration": 55,
    "start_time": "2023-02-21T09:19:04.109Z"
   },
   {
    "duration": 2165,
    "start_time": "2023-02-21T09:19:04.168Z"
   },
   {
    "duration": 31,
    "start_time": "2023-02-21T09:19:06.334Z"
   },
   {
    "duration": 42,
    "start_time": "2023-02-21T09:19:06.368Z"
   },
   {
    "duration": 42,
    "start_time": "2023-02-21T09:19:06.412Z"
   },
   {
    "duration": 15,
    "start_time": "2023-02-21T09:19:06.455Z"
   },
   {
    "duration": 2076,
    "start_time": "2023-02-21T09:19:06.472Z"
   },
   {
    "duration": 3,
    "start_time": "2023-02-21T09:19:08.550Z"
   },
   {
    "duration": 34,
    "start_time": "2023-02-21T09:19:08.556Z"
   },
   {
    "duration": 29,
    "start_time": "2023-02-21T09:19:08.599Z"
   },
   {
    "duration": 159,
    "start_time": "2023-02-21T09:19:08.630Z"
   },
   {
    "duration": 158,
    "start_time": "2023-02-21T09:19:08.798Z"
   },
   {
    "duration": 158,
    "start_time": "2023-02-21T09:19:08.957Z"
   },
   {
    "duration": 151,
    "start_time": "2023-02-21T09:19:09.117Z"
   },
   {
    "duration": 162,
    "start_time": "2023-02-21T09:19:09.271Z"
   },
   {
    "duration": 203,
    "start_time": "2023-02-21T09:19:09.434Z"
   },
   {
    "duration": 164,
    "start_time": "2023-02-21T09:19:09.639Z"
   },
   {
    "duration": 134,
    "start_time": "2023-02-21T09:19:09.804Z"
   },
   {
    "duration": 159,
    "start_time": "2023-02-21T09:19:09.940Z"
   },
   {
    "duration": 139,
    "start_time": "2023-02-21T09:19:10.100Z"
   },
   {
    "duration": 171,
    "start_time": "2023-02-21T09:19:10.240Z"
   },
   {
    "duration": 169,
    "start_time": "2023-02-21T09:19:10.413Z"
   },
   {
    "duration": 151,
    "start_time": "2023-02-21T09:19:10.584Z"
   },
   {
    "duration": 133,
    "start_time": "2023-02-21T09:19:10.737Z"
   },
   {
    "duration": 715,
    "start_time": "2023-02-21T09:20:52.537Z"
   },
   {
    "duration": 4,
    "start_time": "2023-02-21T09:20:53.255Z"
   },
   {
    "duration": 40,
    "start_time": "2023-02-21T09:20:53.262Z"
   },
   {
    "duration": 3264,
    "start_time": "2023-02-21T09:20:53.305Z"
   },
   {
    "duration": 19,
    "start_time": "2023-02-21T09:20:56.571Z"
   },
   {
    "duration": 10,
    "start_time": "2023-02-21T09:20:56.592Z"
   },
   {
    "duration": 35,
    "start_time": "2023-02-21T09:20:56.604Z"
   },
   {
    "duration": 7,
    "start_time": "2023-02-21T09:20:56.641Z"
   },
   {
    "duration": 19,
    "start_time": "2023-02-21T09:20:56.650Z"
   },
   {
    "duration": 58,
    "start_time": "2023-02-21T09:20:56.673Z"
   },
   {
    "duration": 44,
    "start_time": "2023-02-21T09:20:56.733Z"
   },
   {
    "duration": 34,
    "start_time": "2023-02-21T09:20:56.808Z"
   },
   {
    "duration": 14,
    "start_time": "2023-02-21T09:20:56.844Z"
   },
   {
    "duration": 40,
    "start_time": "2023-02-21T09:20:56.860Z"
   },
   {
    "duration": 2445,
    "start_time": "2023-02-21T09:20:56.903Z"
   },
   {
    "duration": 23,
    "start_time": "2023-02-21T09:20:59.350Z"
   },
   {
    "duration": 42,
    "start_time": "2023-02-21T09:20:59.375Z"
   },
   {
    "duration": 39,
    "start_time": "2023-02-21T09:20:59.419Z"
   },
   {
    "duration": 17,
    "start_time": "2023-02-21T09:20:59.460Z"
   },
   {
    "duration": 2227,
    "start_time": "2023-02-21T09:20:59.499Z"
   },
   {
    "duration": 6,
    "start_time": "2023-02-21T09:21:01.727Z"
   },
   {
    "duration": 40,
    "start_time": "2023-02-21T09:21:01.734Z"
   },
   {
    "duration": 33,
    "start_time": "2023-02-21T09:21:01.775Z"
   },
   {
    "duration": 217,
    "start_time": "2023-02-21T09:21:01.810Z"
   },
   {
    "duration": 201,
    "start_time": "2023-02-21T09:21:02.029Z"
   },
   {
    "duration": 172,
    "start_time": "2023-02-21T09:21:02.232Z"
   },
   {
    "duration": 180,
    "start_time": "2023-02-21T09:21:02.405Z"
   },
   {
    "duration": 181,
    "start_time": "2023-02-21T09:21:02.601Z"
   },
   {
    "duration": 216,
    "start_time": "2023-02-21T09:21:02.783Z"
   },
   {
    "duration": 202,
    "start_time": "2023-02-21T09:21:03.000Z"
   },
   {
    "duration": 159,
    "start_time": "2023-02-21T09:21:03.204Z"
   },
   {
    "duration": 173,
    "start_time": "2023-02-21T09:21:03.365Z"
   },
   {
    "duration": 151,
    "start_time": "2023-02-21T09:21:03.540Z"
   },
   {
    "duration": 160,
    "start_time": "2023-02-21T09:21:03.693Z"
   },
   {
    "duration": 224,
    "start_time": "2023-02-21T09:21:03.855Z"
   },
   {
    "duration": 192,
    "start_time": "2023-02-21T09:21:04.081Z"
   },
   {
    "duration": 153,
    "start_time": "2023-02-21T09:21:04.275Z"
   },
   {
    "duration": 751,
    "start_time": "2023-02-22T20:26:44.553Z"
   },
   {
    "duration": 3,
    "start_time": "2023-02-22T20:26:45.306Z"
   },
   {
    "duration": 23,
    "start_time": "2023-02-22T20:26:45.311Z"
   },
   {
    "duration": 2385,
    "start_time": "2023-02-22T20:26:45.336Z"
   },
   {
    "duration": 18,
    "start_time": "2023-02-22T20:26:47.724Z"
   },
   {
    "duration": 8,
    "start_time": "2023-02-22T20:26:47.744Z"
   },
   {
    "duration": 38,
    "start_time": "2023-02-22T20:26:47.754Z"
   },
   {
    "duration": 5,
    "start_time": "2023-02-22T20:26:47.794Z"
   },
   {
    "duration": 14,
    "start_time": "2023-02-22T20:26:47.800Z"
   },
   {
    "duration": 28,
    "start_time": "2023-02-22T20:26:47.817Z"
   },
   {
    "duration": 67,
    "start_time": "2023-02-22T20:26:47.846Z"
   },
   {
    "duration": 24,
    "start_time": "2023-02-22T20:26:47.915Z"
   },
   {
    "duration": 6,
    "start_time": "2023-02-22T20:26:47.940Z"
   },
   {
    "duration": 47,
    "start_time": "2023-02-22T20:26:47.947Z"
   },
   {
    "duration": 2098,
    "start_time": "2023-02-22T20:26:47.996Z"
   },
   {
    "duration": 20,
    "start_time": "2023-02-22T20:26:50.096Z"
   },
   {
    "duration": 23,
    "start_time": "2023-02-22T20:26:50.118Z"
   },
   {
    "duration": 66,
    "start_time": "2023-02-22T20:26:50.143Z"
   },
   {
    "duration": 15,
    "start_time": "2023-02-22T20:26:50.211Z"
   },
   {
    "duration": 1954,
    "start_time": "2023-02-22T20:26:50.228Z"
   },
   {
    "duration": 9,
    "start_time": "2023-02-22T20:26:52.184Z"
   },
   {
    "duration": 21,
    "start_time": "2023-02-22T20:26:52.195Z"
   },
   {
    "duration": 22,
    "start_time": "2023-02-22T20:26:52.218Z"
   },
   {
    "duration": 165,
    "start_time": "2023-02-22T20:26:52.241Z"
   },
   {
    "duration": 127,
    "start_time": "2023-02-22T20:26:52.408Z"
   },
   {
    "duration": 137,
    "start_time": "2023-02-22T20:26:52.537Z"
   },
   {
    "duration": 151,
    "start_time": "2023-02-22T20:26:52.675Z"
   },
   {
    "duration": 229,
    "start_time": "2023-02-22T20:26:52.829Z"
   },
   {
    "duration": 137,
    "start_time": "2023-02-22T20:26:53.059Z"
   },
   {
    "duration": 187,
    "start_time": "2023-02-22T20:26:53.198Z"
   },
   {
    "duration": 129,
    "start_time": "2023-02-22T20:26:53.386Z"
   },
   {
    "duration": 143,
    "start_time": "2023-02-22T20:26:53.516Z"
   },
   {
    "duration": 143,
    "start_time": "2023-02-22T20:26:53.661Z"
   },
   {
    "duration": 139,
    "start_time": "2023-02-22T20:26:53.806Z"
   },
   {
    "duration": 166,
    "start_time": "2023-02-22T20:26:53.947Z"
   },
   {
    "duration": 154,
    "start_time": "2023-02-22T20:26:54.114Z"
   },
   {
    "duration": 141,
    "start_time": "2023-02-22T20:26:54.270Z"
   },
   {
    "duration": 132,
    "start_time": "2023-02-22T20:39:44.552Z"
   },
   {
    "duration": 213,
    "start_time": "2023-02-22T20:39:52.593Z"
   },
   {
    "duration": 167,
    "start_time": "2023-02-22T21:00:40.459Z"
   },
   {
    "duration": 149,
    "start_time": "2023-02-22T21:01:34.450Z"
   },
   {
    "duration": 196,
    "start_time": "2023-02-22T21:09:17.222Z"
   },
   {
    "duration": 165,
    "start_time": "2023-02-22T21:09:42.976Z"
   },
   {
    "duration": 149,
    "start_time": "2023-02-22T21:12:42.567Z"
   },
   {
    "duration": 89,
    "start_time": "2023-02-22T21:13:07.427Z"
   },
   {
    "duration": 48,
    "start_time": "2023-02-24T10:08:34.969Z"
   },
   {
    "duration": 784,
    "start_time": "2023-02-24T10:08:46.370Z"
   },
   {
    "duration": 3,
    "start_time": "2023-02-24T10:08:47.156Z"
   },
   {
    "duration": 18,
    "start_time": "2023-02-24T10:08:47.161Z"
   },
   {
    "duration": 2307,
    "start_time": "2023-02-24T10:08:47.181Z"
   },
   {
    "duration": 14,
    "start_time": "2023-02-24T10:08:49.490Z"
   },
   {
    "duration": 10,
    "start_time": "2023-02-24T10:08:49.505Z"
   },
   {
    "duration": 33,
    "start_time": "2023-02-24T10:08:49.517Z"
   },
   {
    "duration": 5,
    "start_time": "2023-02-24T10:08:49.552Z"
   },
   {
    "duration": 38,
    "start_time": "2023-02-24T10:08:49.558Z"
   },
   {
    "duration": 33,
    "start_time": "2023-02-24T10:08:49.600Z"
   },
   {
    "duration": 34,
    "start_time": "2023-02-24T10:08:49.637Z"
   },
   {
    "duration": 21,
    "start_time": "2023-02-24T10:08:49.692Z"
   },
   {
    "duration": 6,
    "start_time": "2023-02-24T10:08:49.715Z"
   },
   {
    "duration": 46,
    "start_time": "2023-02-24T10:08:49.723Z"
   },
   {
    "duration": 2014,
    "start_time": "2023-02-24T10:08:49.771Z"
   },
   {
    "duration": 18,
    "start_time": "2023-02-24T10:08:51.792Z"
   },
   {
    "duration": 28,
    "start_time": "2023-02-24T10:08:51.811Z"
   },
   {
    "duration": 43,
    "start_time": "2023-02-24T10:08:51.841Z"
   },
   {
    "duration": 13,
    "start_time": "2023-02-24T10:08:51.885Z"
   },
   {
    "duration": 1796,
    "start_time": "2023-02-24T10:08:51.900Z"
   },
   {
    "duration": 3,
    "start_time": "2023-02-24T10:08:53.698Z"
   },
   {
    "duration": 38,
    "start_time": "2023-02-24T10:08:53.702Z"
   },
   {
    "duration": 28,
    "start_time": "2023-02-24T10:08:53.741Z"
   },
   {
    "duration": 176,
    "start_time": "2023-02-24T10:08:53.770Z"
   },
   {
    "duration": 128,
    "start_time": "2023-02-24T10:08:53.947Z"
   },
   {
    "duration": 133,
    "start_time": "2023-02-24T10:08:54.077Z"
   },
   {
    "duration": 142,
    "start_time": "2023-02-24T10:08:54.211Z"
   },
   {
    "duration": 211,
    "start_time": "2023-02-24T10:08:54.357Z"
   },
   {
    "duration": 134,
    "start_time": "2023-02-24T10:08:54.570Z"
   },
   {
    "duration": 161,
    "start_time": "2023-02-24T10:08:54.706Z"
   },
   {
    "duration": 128,
    "start_time": "2023-02-24T10:08:54.869Z"
   },
   {
    "duration": 150,
    "start_time": "2023-02-24T10:08:54.999Z"
   },
   {
    "duration": 132,
    "start_time": "2023-02-24T10:08:55.151Z"
   },
   {
    "duration": 137,
    "start_time": "2023-02-24T10:08:55.284Z"
   },
   {
    "duration": 154,
    "start_time": "2023-02-24T10:08:55.423Z"
   },
   {
    "duration": 141,
    "start_time": "2023-02-24T10:08:55.579Z"
   },
   {
    "duration": 144,
    "start_time": "2023-02-24T10:08:55.722Z"
   },
   {
    "duration": 150,
    "start_time": "2023-02-24T10:08:55.868Z"
   },
   {
    "duration": 760,
    "start_time": "2023-02-24T10:08:56.020Z"
   },
   {
    "duration": 699,
    "start_time": "2023-02-24T10:10:30.381Z"
   },
   {
    "duration": 1016,
    "start_time": "2023-02-24T10:10:47.405Z"
   },
   {
    "duration": 1082,
    "start_time": "2023-02-24T10:14:49.368Z"
   },
   {
    "duration": 1048,
    "start_time": "2023-02-24T10:15:36.348Z"
   },
   {
    "duration": 1008,
    "start_time": "2023-02-24T10:16:32.451Z"
   },
   {
    "duration": 44,
    "start_time": "2023-02-25T21:12:43.917Z"
   },
   {
    "duration": 716,
    "start_time": "2023-02-25T21:12:55.038Z"
   },
   {
    "duration": 3,
    "start_time": "2023-02-25T21:12:55.756Z"
   },
   {
    "duration": 18,
    "start_time": "2023-02-25T21:12:55.761Z"
   },
   {
    "duration": 2267,
    "start_time": "2023-02-25T21:12:55.781Z"
   },
   {
    "duration": 16,
    "start_time": "2023-02-25T21:12:58.050Z"
   },
   {
    "duration": 7,
    "start_time": "2023-02-25T21:12:58.068Z"
   },
   {
    "duration": 20,
    "start_time": "2023-02-25T21:12:58.077Z"
   },
   {
    "duration": 4,
    "start_time": "2023-02-25T21:12:58.099Z"
   },
   {
    "duration": 14,
    "start_time": "2023-02-25T21:12:58.104Z"
   },
   {
    "duration": 26,
    "start_time": "2023-02-25T21:12:58.121Z"
   },
   {
    "duration": 47,
    "start_time": "2023-02-25T21:12:58.149Z"
   },
   {
    "duration": 17,
    "start_time": "2023-02-25T21:12:58.198Z"
   },
   {
    "duration": 5,
    "start_time": "2023-02-25T21:12:58.217Z"
   },
   {
    "duration": 25,
    "start_time": "2023-02-25T21:12:58.224Z"
   },
   {
    "duration": 2004,
    "start_time": "2023-02-25T21:12:58.251Z"
   },
   {
    "duration": 17,
    "start_time": "2023-02-25T21:13:00.257Z"
   },
   {
    "duration": 36,
    "start_time": "2023-02-25T21:13:00.276Z"
   },
   {
    "duration": 35,
    "start_time": "2023-02-25T21:13:00.313Z"
   },
   {
    "duration": 25,
    "start_time": "2023-02-25T21:13:00.350Z"
   },
   {
    "duration": 1815,
    "start_time": "2023-02-25T21:13:00.377Z"
   },
   {
    "duration": 4,
    "start_time": "2023-02-25T21:13:02.193Z"
   },
   {
    "duration": 22,
    "start_time": "2023-02-25T21:13:02.199Z"
   },
   {
    "duration": 20,
    "start_time": "2023-02-25T21:13:02.222Z"
   },
   {
    "duration": 156,
    "start_time": "2023-02-25T21:13:02.243Z"
   },
   {
    "duration": 124,
    "start_time": "2023-02-25T21:13:02.401Z"
   },
   {
    "duration": 132,
    "start_time": "2023-02-25T21:13:02.527Z"
   },
   {
    "duration": 141,
    "start_time": "2023-02-25T21:13:02.660Z"
   },
   {
    "duration": 212,
    "start_time": "2023-02-25T21:13:02.804Z"
   },
   {
    "duration": 131,
    "start_time": "2023-02-25T21:13:03.017Z"
   },
   {
    "duration": 144,
    "start_time": "2023-02-25T21:13:03.150Z"
   },
   {
    "duration": 130,
    "start_time": "2023-02-25T21:13:03.296Z"
   },
   {
    "duration": 144,
    "start_time": "2023-02-25T21:13:03.428Z"
   },
   {
    "duration": 131,
    "start_time": "2023-02-25T21:13:03.573Z"
   },
   {
    "duration": 131,
    "start_time": "2023-02-25T21:13:03.706Z"
   },
   {
    "duration": 160,
    "start_time": "2023-02-25T21:13:03.839Z"
   },
   {
    "duration": 150,
    "start_time": "2023-02-25T21:13:04.001Z"
   },
   {
    "duration": 142,
    "start_time": "2023-02-25T21:13:04.154Z"
   },
   {
    "duration": 144,
    "start_time": "2023-02-25T21:13:04.298Z"
   },
   {
    "duration": 1070,
    "start_time": "2023-02-25T21:13:04.444Z"
   },
   {
    "duration": 28,
    "start_time": "2023-02-25T21:13:05.515Z"
   },
   {
    "duration": 3,
    "start_time": "2023-02-25T21:35:04.424Z"
   },
   {
    "duration": 4,
    "start_time": "2023-02-25T21:35:21.404Z"
   },
   {
    "duration": 3,
    "start_time": "2023-02-25T21:37:00.175Z"
   },
   {
    "duration": 21,
    "start_time": "2023-02-25T21:37:19.935Z"
   },
   {
    "duration": 21,
    "start_time": "2023-02-25T21:37:45.226Z"
   },
   {
    "duration": 32,
    "start_time": "2023-02-25T21:38:05.857Z"
   },
   {
    "duration": 19,
    "start_time": "2023-02-25T21:38:49.359Z"
   },
   {
    "duration": 9,
    "start_time": "2023-02-25T21:39:56.808Z"
   },
   {
    "duration": 7,
    "start_time": "2023-02-25T21:41:33.305Z"
   },
   {
    "duration": 3,
    "start_time": "2023-02-25T21:42:49.306Z"
   },
   {
    "duration": 10,
    "start_time": "2023-02-25T21:43:00.011Z"
   },
   {
    "duration": 74,
    "start_time": "2023-02-25T21:44:35.927Z"
   },
   {
    "duration": 37,
    "start_time": "2023-02-25T21:44:42.997Z"
   },
   {
    "duration": 26,
    "start_time": "2023-02-25T21:45:07.089Z"
   },
   {
    "duration": 73,
    "start_time": "2023-02-25T21:47:24.626Z"
   },
   {
    "duration": 25,
    "start_time": "2023-02-25T21:47:30.422Z"
   },
   {
    "duration": 23,
    "start_time": "2023-02-25T21:47:59.079Z"
   },
   {
    "duration": 11,
    "start_time": "2023-02-25T21:48:13.582Z"
   },
   {
    "duration": 15,
    "start_time": "2023-02-25T21:48:24.986Z"
   },
   {
    "duration": 12,
    "start_time": "2023-02-25T21:48:58.461Z"
   },
   {
    "duration": 24,
    "start_time": "2023-02-25T21:49:09.672Z"
   },
   {
    "duration": 9,
    "start_time": "2023-02-25T21:54:22.658Z"
   },
   {
    "duration": 23,
    "start_time": "2023-02-25T21:58:35.393Z"
   },
   {
    "duration": 22,
    "start_time": "2023-02-25T21:59:35.651Z"
   },
   {
    "duration": 24,
    "start_time": "2023-02-25T21:59:52.639Z"
   },
   {
    "duration": 1423,
    "start_time": "2023-02-25T22:01:29.121Z"
   },
   {
    "duration": 21,
    "start_time": "2023-02-25T22:01:49.950Z"
   },
   {
    "duration": 16,
    "start_time": "2023-02-25T22:02:09.927Z"
   },
   {
    "duration": 21,
    "start_time": "2023-02-25T22:02:19.487Z"
   },
   {
    "duration": 15,
    "start_time": "2023-02-25T22:03:37.129Z"
   },
   {
    "duration": 20,
    "start_time": "2023-02-25T22:03:59.520Z"
   },
   {
    "duration": 13,
    "start_time": "2023-02-25T22:04:49.202Z"
   },
   {
    "duration": 19,
    "start_time": "2023-02-25T22:05:17.371Z"
   },
   {
    "duration": 13,
    "start_time": "2023-02-25T22:06:06.881Z"
   },
   {
    "duration": 13,
    "start_time": "2023-02-25T22:06:11.221Z"
   },
   {
    "duration": 6,
    "start_time": "2023-02-25T22:11:24.846Z"
   },
   {
    "duration": 17,
    "start_time": "2023-02-25T22:11:41.736Z"
   },
   {
    "duration": 45,
    "start_time": "2023-02-25T22:14:24.388Z"
   },
   {
    "duration": 495,
    "start_time": "2023-02-25T22:14:43.033Z"
   },
   {
    "duration": 3,
    "start_time": "2023-02-25T22:14:43.530Z"
   },
   {
    "duration": 19,
    "start_time": "2023-02-25T22:14:43.535Z"
   },
   {
    "duration": 2052,
    "start_time": "2023-02-25T22:14:43.556Z"
   },
   {
    "duration": 13,
    "start_time": "2023-02-25T22:14:45.610Z"
   },
   {
    "duration": 8,
    "start_time": "2023-02-25T22:14:45.624Z"
   },
   {
    "duration": 22,
    "start_time": "2023-02-25T22:14:45.634Z"
   },
   {
    "duration": 4,
    "start_time": "2023-02-25T22:14:45.658Z"
   },
   {
    "duration": 19,
    "start_time": "2023-02-25T22:14:45.664Z"
   },
   {
    "duration": 34,
    "start_time": "2023-02-25T22:14:45.694Z"
   },
   {
    "duration": 28,
    "start_time": "2023-02-25T22:14:45.729Z"
   },
   {
    "duration": 38,
    "start_time": "2023-02-25T22:14:45.759Z"
   },
   {
    "duration": 6,
    "start_time": "2023-02-25T22:14:45.798Z"
   },
   {
    "duration": 38,
    "start_time": "2023-02-25T22:14:45.805Z"
   },
   {
    "duration": 2084,
    "start_time": "2023-02-25T22:14:45.845Z"
   },
   {
    "duration": 21,
    "start_time": "2023-02-25T22:14:47.931Z"
   },
   {
    "duration": 38,
    "start_time": "2023-02-25T22:14:47.953Z"
   },
   {
    "duration": 34,
    "start_time": "2023-02-25T22:14:47.993Z"
   },
   {
    "duration": 12,
    "start_time": "2023-02-25T22:14:48.028Z"
   },
   {
    "duration": 1859,
    "start_time": "2023-02-25T22:14:48.042Z"
   },
   {
    "duration": 4,
    "start_time": "2023-02-25T22:14:49.903Z"
   },
   {
    "duration": 19,
    "start_time": "2023-02-25T22:14:49.908Z"
   },
   {
    "duration": 19,
    "start_time": "2023-02-25T22:14:49.929Z"
   },
   {
    "duration": 160,
    "start_time": "2023-02-25T22:14:49.950Z"
   },
   {
    "duration": 131,
    "start_time": "2023-02-25T22:14:50.111Z"
   },
   {
    "duration": 136,
    "start_time": "2023-02-25T22:14:50.244Z"
   },
   {
    "duration": 159,
    "start_time": "2023-02-25T22:14:50.382Z"
   },
   {
    "duration": 148,
    "start_time": "2023-02-25T22:14:50.545Z"
   },
   {
    "duration": 191,
    "start_time": "2023-02-25T22:14:50.695Z"
   },
   {
    "duration": 139,
    "start_time": "2023-02-25T22:14:50.891Z"
   },
   {
    "duration": 131,
    "start_time": "2023-02-25T22:14:51.032Z"
   },
   {
    "duration": 143,
    "start_time": "2023-02-25T22:14:51.165Z"
   },
   {
    "duration": 138,
    "start_time": "2023-02-25T22:14:51.309Z"
   },
   {
    "duration": 150,
    "start_time": "2023-02-25T22:14:51.449Z"
   },
   {
    "duration": 159,
    "start_time": "2023-02-25T22:14:51.601Z"
   },
   {
    "duration": 183,
    "start_time": "2023-02-25T22:14:51.761Z"
   },
   {
    "duration": 190,
    "start_time": "2023-02-25T22:14:51.945Z"
   },
   {
    "duration": 163,
    "start_time": "2023-02-25T22:14:52.137Z"
   },
   {
    "duration": 1075,
    "start_time": "2023-02-25T22:14:52.302Z"
   },
   {
    "duration": 4,
    "start_time": "2023-02-25T22:15:02.924Z"
   },
   {
    "duration": 4,
    "start_time": "2023-02-25T22:15:12.273Z"
   },
   {
    "duration": 35,
    "start_time": "2023-02-25T22:15:24.639Z"
   },
   {
    "duration": 20,
    "start_time": "2023-02-25T22:20:56.496Z"
   },
   {
    "duration": 8,
    "start_time": "2023-02-25T22:21:20.240Z"
   },
   {
    "duration": 19,
    "start_time": "2023-02-25T22:21:38.367Z"
   },
   {
    "duration": 14,
    "start_time": "2023-02-25T22:23:29.354Z"
   },
   {
    "duration": 51,
    "start_time": "2023-02-25T22:31:25.492Z"
   },
   {
    "duration": 45,
    "start_time": "2023-02-25T22:32:07.922Z"
   },
   {
    "duration": 55,
    "start_time": "2023-02-25T22:32:19.161Z"
   },
   {
    "duration": 51,
    "start_time": "2023-02-25T22:34:05.056Z"
   },
   {
    "duration": 49,
    "start_time": "2023-02-25T22:34:35.994Z"
   },
   {
    "duration": 48,
    "start_time": "2023-02-25T22:39:59.183Z"
   },
   {
    "duration": 49,
    "start_time": "2023-02-25T22:40:19.162Z"
   },
   {
    "duration": 50,
    "start_time": "2023-02-25T22:41:30.559Z"
   },
   {
    "duration": 55,
    "start_time": "2023-02-25T22:42:18.409Z"
   },
   {
    "duration": 3,
    "start_time": "2023-02-25T22:42:21.360Z"
   },
   {
    "duration": 11,
    "start_time": "2023-02-25T23:22:04.741Z"
   },
   {
    "duration": 12,
    "start_time": "2023-02-25T23:22:20.082Z"
   },
   {
    "duration": 50,
    "start_time": "2023-02-25T23:24:08.440Z"
   },
   {
    "duration": 497,
    "start_time": "2023-02-25T23:24:39.208Z"
   },
   {
    "duration": 2,
    "start_time": "2023-02-25T23:24:39.707Z"
   },
   {
    "duration": 16,
    "start_time": "2023-02-25T23:24:39.711Z"
   },
   {
    "duration": 1967,
    "start_time": "2023-02-25T23:24:39.729Z"
   },
   {
    "duration": 14,
    "start_time": "2023-02-25T23:24:41.698Z"
   },
   {
    "duration": 8,
    "start_time": "2023-02-25T23:24:41.713Z"
   },
   {
    "duration": 19,
    "start_time": "2023-02-25T23:24:41.722Z"
   },
   {
    "duration": 4,
    "start_time": "2023-02-25T23:24:41.742Z"
   },
   {
    "duration": 12,
    "start_time": "2023-02-25T23:24:41.748Z"
   },
   {
    "duration": 52,
    "start_time": "2023-02-25T23:24:41.763Z"
   },
   {
    "duration": 31,
    "start_time": "2023-02-25T23:24:41.816Z"
   },
   {
    "duration": 17,
    "start_time": "2023-02-25T23:24:41.849Z"
   },
   {
    "duration": 6,
    "start_time": "2023-02-25T23:24:41.891Z"
   },
   {
    "duration": 26,
    "start_time": "2023-02-25T23:24:41.898Z"
   },
   {
    "duration": 1902,
    "start_time": "2023-02-25T23:24:41.927Z"
   },
   {
    "duration": 23,
    "start_time": "2023-02-25T23:24:43.830Z"
   },
   {
    "duration": 36,
    "start_time": "2023-02-25T23:24:43.855Z"
   },
   {
    "duration": 32,
    "start_time": "2023-02-25T23:24:43.893Z"
   },
   {
    "duration": 11,
    "start_time": "2023-02-25T23:24:43.926Z"
   },
   {
    "duration": 1806,
    "start_time": "2023-02-25T23:24:43.939Z"
   },
   {
    "duration": 3,
    "start_time": "2023-02-25T23:24:45.746Z"
   },
   {
    "duration": 18,
    "start_time": "2023-02-25T23:24:45.751Z"
   },
   {
    "duration": 38,
    "start_time": "2023-02-25T23:24:45.770Z"
   },
   {
    "duration": 140,
    "start_time": "2023-02-25T23:24:45.810Z"
   },
   {
    "duration": 124,
    "start_time": "2023-02-25T23:24:45.952Z"
   },
   {
    "duration": 127,
    "start_time": "2023-02-25T23:24:46.078Z"
   },
   {
    "duration": 163,
    "start_time": "2023-02-25T23:24:46.206Z"
   },
   {
    "duration": 161,
    "start_time": "2023-02-25T23:24:46.372Z"
   },
   {
    "duration": 187,
    "start_time": "2023-02-25T23:24:46.535Z"
   },
   {
    "duration": 146,
    "start_time": "2023-02-25T23:24:46.724Z"
   },
   {
    "duration": 127,
    "start_time": "2023-02-25T23:24:46.872Z"
   },
   {
    "duration": 136,
    "start_time": "2023-02-25T23:24:47.001Z"
   },
   {
    "duration": 130,
    "start_time": "2023-02-25T23:24:47.139Z"
   },
   {
    "duration": 143,
    "start_time": "2023-02-25T23:24:47.271Z"
   },
   {
    "duration": 146,
    "start_time": "2023-02-25T23:24:47.415Z"
   },
   {
    "duration": 137,
    "start_time": "2023-02-25T23:24:47.563Z"
   },
   {
    "duration": 133,
    "start_time": "2023-02-25T23:24:47.702Z"
   },
   {
    "duration": 145,
    "start_time": "2023-02-25T23:24:47.837Z"
   },
   {
    "duration": 1029,
    "start_time": "2023-02-25T23:24:47.991Z"
   },
   {
    "duration": 14,
    "start_time": "2023-02-25T23:24:49.021Z"
   },
   {
    "duration": 69,
    "start_time": "2023-02-25T23:24:49.037Z"
   },
   {
    "duration": 3,
    "start_time": "2023-02-25T23:24:49.107Z"
   },
   {
    "duration": 13,
    "start_time": "2023-02-25T23:24:49.112Z"
   },
   {
    "duration": 9,
    "start_time": "2023-02-25T23:35:17.568Z"
   },
   {
    "duration": 137,
    "start_time": "2023-02-25T23:38:20.923Z"
   },
   {
    "duration": 606,
    "start_time": "2023-02-26T09:32:47.693Z"
   },
   {
    "duration": 3,
    "start_time": "2023-02-26T09:32:48.301Z"
   },
   {
    "duration": 32,
    "start_time": "2023-02-26T09:32:48.306Z"
   },
   {
    "duration": 2316,
    "start_time": "2023-02-26T09:32:48.341Z"
   },
   {
    "duration": 16,
    "start_time": "2023-02-26T09:32:50.659Z"
   },
   {
    "duration": 13,
    "start_time": "2023-02-26T09:32:50.677Z"
   },
   {
    "duration": 21,
    "start_time": "2023-02-26T09:32:50.692Z"
   },
   {
    "duration": 17,
    "start_time": "2023-02-26T09:32:50.715Z"
   },
   {
    "duration": 23,
    "start_time": "2023-02-26T09:32:50.733Z"
   },
   {
    "duration": 37,
    "start_time": "2023-02-26T09:32:50.760Z"
   },
   {
    "duration": 35,
    "start_time": "2023-02-26T09:32:50.798Z"
   },
   {
    "duration": 23,
    "start_time": "2023-02-26T09:32:50.835Z"
   },
   {
    "duration": 7,
    "start_time": "2023-02-26T09:32:50.860Z"
   },
   {
    "duration": 36,
    "start_time": "2023-02-26T09:32:50.885Z"
   },
   {
    "duration": 2425,
    "start_time": "2023-02-26T09:32:50.922Z"
   },
   {
    "duration": 20,
    "start_time": "2023-02-26T09:32:53.349Z"
   },
   {
    "duration": 26,
    "start_time": "2023-02-26T09:32:53.385Z"
   },
   {
    "duration": 46,
    "start_time": "2023-02-26T09:32:53.414Z"
   },
   {
    "duration": 36,
    "start_time": "2023-02-26T09:32:53.462Z"
   },
   {
    "duration": 2132,
    "start_time": "2023-02-26T09:32:53.500Z"
   },
   {
    "duration": 6,
    "start_time": "2023-02-26T09:32:55.634Z"
   },
   {
    "duration": 44,
    "start_time": "2023-02-26T09:32:55.642Z"
   },
   {
    "duration": 39,
    "start_time": "2023-02-26T09:32:55.689Z"
   },
   {
    "duration": 228,
    "start_time": "2023-02-26T09:32:55.731Z"
   },
   {
    "duration": 135,
    "start_time": "2023-02-26T09:32:55.961Z"
   },
   {
    "duration": 149,
    "start_time": "2023-02-26T09:32:56.098Z"
   },
   {
    "duration": 185,
    "start_time": "2023-02-26T09:32:56.248Z"
   },
   {
    "duration": 222,
    "start_time": "2023-02-26T09:32:56.437Z"
   },
   {
    "duration": 188,
    "start_time": "2023-02-26T09:32:56.661Z"
   },
   {
    "duration": 194,
    "start_time": "2023-02-26T09:32:56.851Z"
   },
   {
    "duration": 162,
    "start_time": "2023-02-26T09:32:57.046Z"
   },
   {
    "duration": 165,
    "start_time": "2023-02-26T09:32:57.211Z"
   },
   {
    "duration": 165,
    "start_time": "2023-02-26T09:32:57.378Z"
   },
   {
    "duration": 172,
    "start_time": "2023-02-26T09:32:57.545Z"
   },
   {
    "duration": 185,
    "start_time": "2023-02-26T09:32:57.719Z"
   },
   {
    "duration": 191,
    "start_time": "2023-02-26T09:32:57.906Z"
   },
   {
    "duration": 159,
    "start_time": "2023-02-26T09:32:58.099Z"
   },
   {
    "duration": 177,
    "start_time": "2023-02-26T09:32:58.260Z"
   },
   {
    "duration": 1200,
    "start_time": "2023-02-26T09:32:58.439Z"
   },
   {
    "duration": 14,
    "start_time": "2023-02-26T09:32:59.642Z"
   },
   {
    "duration": 70,
    "start_time": "2023-02-26T09:32:59.658Z"
   },
   {
    "duration": 4,
    "start_time": "2023-02-26T09:32:59.730Z"
   },
   {
    "duration": 15,
    "start_time": "2023-02-26T09:32:59.735Z"
   },
   {
    "duration": 175,
    "start_time": "2023-02-26T09:32:59.751Z"
   },
   {
    "duration": 791,
    "start_time": "2023-02-26T11:03:21.108Z"
   },
   {
    "duration": 3,
    "start_time": "2023-02-26T11:03:21.902Z"
   },
   {
    "duration": 20,
    "start_time": "2023-02-26T11:03:21.907Z"
   },
   {
    "duration": 2564,
    "start_time": "2023-02-26T11:03:21.929Z"
   },
   {
    "duration": 17,
    "start_time": "2023-02-26T11:03:24.495Z"
   },
   {
    "duration": 8,
    "start_time": "2023-02-26T11:03:24.514Z"
   },
   {
    "duration": 22,
    "start_time": "2023-02-26T11:03:24.524Z"
   },
   {
    "duration": 15,
    "start_time": "2023-02-26T11:03:24.548Z"
   },
   {
    "duration": 18,
    "start_time": "2023-02-26T11:03:24.565Z"
   },
   {
    "duration": 29,
    "start_time": "2023-02-26T11:03:24.586Z"
   },
   {
    "duration": 49,
    "start_time": "2023-02-26T11:03:24.617Z"
   },
   {
    "duration": 18,
    "start_time": "2023-02-26T11:03:24.668Z"
   },
   {
    "duration": 7,
    "start_time": "2023-02-26T11:03:24.687Z"
   },
   {
    "duration": 30,
    "start_time": "2023-02-26T11:03:24.696Z"
   },
   {
    "duration": 2368,
    "start_time": "2023-02-26T11:03:24.748Z"
   },
   {
    "duration": 42,
    "start_time": "2023-02-26T11:03:27.118Z"
   },
   {
    "duration": 28,
    "start_time": "2023-02-26T11:03:27.164Z"
   },
   {
    "duration": 39,
    "start_time": "2023-02-26T11:03:27.194Z"
   },
   {
    "duration": 33,
    "start_time": "2023-02-26T11:03:27.235Z"
   },
   {
    "duration": 2423,
    "start_time": "2023-02-26T11:03:27.270Z"
   },
   {
    "duration": 4,
    "start_time": "2023-02-26T11:03:29.695Z"
   },
   {
    "duration": 26,
    "start_time": "2023-02-26T11:03:29.702Z"
   },
   {
    "duration": 55,
    "start_time": "2023-02-26T11:03:29.730Z"
   },
   {
    "duration": 220,
    "start_time": "2023-02-26T11:03:29.787Z"
   },
   {
    "duration": 212,
    "start_time": "2023-02-26T11:03:30.009Z"
   },
   {
    "duration": 169,
    "start_time": "2023-02-26T11:03:30.223Z"
   },
   {
    "duration": 177,
    "start_time": "2023-02-26T11:03:30.394Z"
   },
   {
    "duration": 256,
    "start_time": "2023-02-26T11:03:30.574Z"
   },
   {
    "duration": 176,
    "start_time": "2023-02-26T11:03:30.832Z"
   },
   {
    "duration": 186,
    "start_time": "2023-02-26T11:03:31.010Z"
   },
   {
    "duration": 188,
    "start_time": "2023-02-26T11:03:31.198Z"
   },
   {
    "duration": 227,
    "start_time": "2023-02-26T11:03:31.389Z"
   },
   {
    "duration": 154,
    "start_time": "2023-02-26T11:03:31.618Z"
   },
   {
    "duration": 162,
    "start_time": "2023-02-26T11:03:31.773Z"
   },
   {
    "duration": 226,
    "start_time": "2023-02-26T11:03:31.937Z"
   },
   {
    "duration": 199,
    "start_time": "2023-02-26T11:03:32.164Z"
   },
   {
    "duration": 166,
    "start_time": "2023-02-26T11:03:32.365Z"
   },
   {
    "duration": 177,
    "start_time": "2023-02-26T11:03:32.532Z"
   },
   {
    "duration": 1325,
    "start_time": "2023-02-26T11:03:32.710Z"
   },
   {
    "duration": 36,
    "start_time": "2023-02-26T11:03:34.038Z"
   },
   {
    "duration": 59,
    "start_time": "2023-02-26T11:03:34.076Z"
   },
   {
    "duration": 4,
    "start_time": "2023-02-26T11:03:34.137Z"
   },
   {
    "duration": 24,
    "start_time": "2023-02-26T11:03:34.151Z"
   },
   {
    "duration": 185,
    "start_time": "2023-02-26T11:03:34.177Z"
   },
   {
    "duration": 47,
    "start_time": "2023-02-28T06:20:13.401Z"
   },
   {
    "duration": 523,
    "start_time": "2023-02-28T06:20:19.713Z"
   },
   {
    "duration": 3,
    "start_time": "2023-02-28T06:20:20.238Z"
   },
   {
    "duration": 17,
    "start_time": "2023-02-28T06:20:20.243Z"
   },
   {
    "duration": 2130,
    "start_time": "2023-02-28T06:20:20.262Z"
   },
   {
    "duration": 15,
    "start_time": "2023-02-28T06:20:22.394Z"
   },
   {
    "duration": 9,
    "start_time": "2023-02-28T06:20:22.410Z"
   },
   {
    "duration": 20,
    "start_time": "2023-02-28T06:20:22.420Z"
   },
   {
    "duration": 5,
    "start_time": "2023-02-28T06:20:22.442Z"
   },
   {
    "duration": 49,
    "start_time": "2023-02-28T06:20:22.448Z"
   },
   {
    "duration": 27,
    "start_time": "2023-02-28T06:20:22.500Z"
   },
   {
    "duration": 28,
    "start_time": "2023-02-28T06:20:22.529Z"
   },
   {
    "duration": 46,
    "start_time": "2023-02-28T06:20:22.559Z"
   },
   {
    "duration": 8,
    "start_time": "2023-02-28T06:20:22.607Z"
   },
   {
    "duration": 31,
    "start_time": "2023-02-28T06:20:22.616Z"
   },
   {
    "duration": 2019,
    "start_time": "2023-02-28T06:20:22.648Z"
   },
   {
    "duration": 32,
    "start_time": "2023-02-28T06:20:24.669Z"
   },
   {
    "duration": 18,
    "start_time": "2023-02-28T06:20:24.703Z"
   },
   {
    "duration": 33,
    "start_time": "2023-02-28T06:20:24.722Z"
   },
   {
    "duration": 12,
    "start_time": "2023-02-28T06:20:24.756Z"
   },
   {
    "duration": 2078,
    "start_time": "2023-02-28T06:20:24.791Z"
   },
   {
    "duration": 4,
    "start_time": "2023-02-28T06:20:26.871Z"
   },
   {
    "duration": 72,
    "start_time": "2023-02-28T06:20:26.876Z"
   },
   {
    "duration": 20,
    "start_time": "2023-02-28T06:20:26.949Z"
   },
   {
    "duration": 39,
    "start_time": "2023-02-28T06:20:26.971Z"
   },
   {
    "duration": 167,
    "start_time": "2023-02-28T06:20:27.012Z"
   },
   {
    "duration": 138,
    "start_time": "2023-02-28T06:20:27.180Z"
   },
   {
    "duration": 148,
    "start_time": "2023-02-28T06:20:27.319Z"
   },
   {
    "duration": 154,
    "start_time": "2023-02-28T06:20:27.470Z"
   },
   {
    "duration": 169,
    "start_time": "2023-02-28T06:20:27.625Z"
   },
   {
    "duration": 199,
    "start_time": "2023-02-28T06:20:27.796Z"
   },
   {
    "duration": 150,
    "start_time": "2023-02-28T06:20:27.996Z"
   },
   {
    "duration": 136,
    "start_time": "2023-02-28T06:20:28.148Z"
   },
   {
    "duration": 155,
    "start_time": "2023-02-28T06:20:28.290Z"
   },
   {
    "duration": 169,
    "start_time": "2023-02-28T06:20:28.447Z"
   },
   {
    "duration": 155,
    "start_time": "2023-02-28T06:20:28.617Z"
   },
   {
    "duration": 169,
    "start_time": "2023-02-28T06:20:28.774Z"
   },
   {
    "duration": 151,
    "start_time": "2023-02-28T06:20:28.945Z"
   },
   {
    "duration": 150,
    "start_time": "2023-02-28T06:20:29.098Z"
   },
   {
    "duration": 153,
    "start_time": "2023-02-28T06:20:29.249Z"
   },
   {
    "duration": 1133,
    "start_time": "2023-02-28T06:20:29.404Z"
   },
   {
    "duration": 14,
    "start_time": "2023-02-28T06:20:30.539Z"
   },
   {
    "duration": 65,
    "start_time": "2023-02-28T06:20:30.554Z"
   },
   {
    "duration": 4,
    "start_time": "2023-02-28T06:20:30.621Z"
   },
   {
    "duration": 33,
    "start_time": "2023-02-28T06:20:30.627Z"
   },
   {
    "duration": 180,
    "start_time": "2023-02-28T06:20:30.662Z"
   },
   {
    "duration": 8,
    "start_time": "2023-02-28T06:22:29.693Z"
   },
   {
    "duration": 50,
    "start_time": "2023-02-28T13:17:13.464Z"
   },
   {
    "duration": 411,
    "start_time": "2023-02-28T13:17:28.945Z"
   },
   {
    "duration": 170,
    "start_time": "2023-02-28T13:17:30.136Z"
   },
   {
    "duration": 2,
    "start_time": "2023-02-28T13:25:13.361Z"
   },
   {
    "duration": 112,
    "start_time": "2023-02-28T13:25:13.365Z"
   },
   {
    "duration": 3,
    "start_time": "2023-02-28T13:25:13.478Z"
   },
   {
    "duration": 18,
    "start_time": "2023-02-28T13:25:13.483Z"
   },
   {
    "duration": 2300,
    "start_time": "2023-02-28T13:25:13.503Z"
   },
   {
    "duration": 17,
    "start_time": "2023-02-28T13:25:15.805Z"
   },
   {
    "duration": 10,
    "start_time": "2023-02-28T13:25:15.823Z"
   },
   {
    "duration": 20,
    "start_time": "2023-02-28T13:25:15.835Z"
   },
   {
    "duration": 5,
    "start_time": "2023-02-28T13:25:15.858Z"
   },
   {
    "duration": 24,
    "start_time": "2023-02-28T13:25:15.864Z"
   },
   {
    "duration": 30,
    "start_time": "2023-02-28T13:25:23.324Z"
   },
   {
    "duration": 3,
    "start_time": "2023-02-28T13:33:09.233Z"
   },
   {
    "duration": 48,
    "start_time": "2023-02-28T13:34:35.068Z"
   },
   {
    "duration": 3,
    "start_time": "2023-02-28T13:34:48.468Z"
   },
   {
    "duration": 111,
    "start_time": "2023-02-28T13:34:48.472Z"
   },
   {
    "duration": 3,
    "start_time": "2023-02-28T13:34:48.584Z"
   },
   {
    "duration": 16,
    "start_time": "2023-02-28T13:34:48.588Z"
   },
   {
    "duration": 1857,
    "start_time": "2023-02-28T13:34:48.605Z"
   },
   {
    "duration": 14,
    "start_time": "2023-02-28T13:34:50.463Z"
   },
   {
    "duration": 8,
    "start_time": "2023-02-28T13:34:50.478Z"
   },
   {
    "duration": 13,
    "start_time": "2023-02-28T13:34:50.487Z"
   },
   {
    "duration": 5,
    "start_time": "2023-02-28T13:34:50.503Z"
   },
   {
    "duration": 38,
    "start_time": "2023-02-28T13:34:50.509Z"
   },
   {
    "duration": 70,
    "start_time": "2023-02-28T13:34:50.551Z"
   },
   {
    "duration": 25,
    "start_time": "2023-02-28T13:34:50.623Z"
   },
   {
    "duration": 0,
    "start_time": "2023-02-28T13:34:50.650Z"
   },
   {
    "duration": 0,
    "start_time": "2023-02-28T13:34:50.651Z"
   },
   {
    "duration": 0,
    "start_time": "2023-02-28T13:34:50.653Z"
   },
   {
    "duration": 0,
    "start_time": "2023-02-28T13:34:50.653Z"
   },
   {
    "duration": 0,
    "start_time": "2023-02-28T13:34:50.654Z"
   },
   {
    "duration": 0,
    "start_time": "2023-02-28T13:34:50.655Z"
   },
   {
    "duration": 0,
    "start_time": "2023-02-28T13:34:50.655Z"
   },
   {
    "duration": 0,
    "start_time": "2023-02-28T13:34:50.657Z"
   },
   {
    "duration": 0,
    "start_time": "2023-02-28T13:34:50.658Z"
   },
   {
    "duration": 0,
    "start_time": "2023-02-28T13:34:50.660Z"
   },
   {
    "duration": 0,
    "start_time": "2023-02-28T13:34:50.661Z"
   },
   {
    "duration": 0,
    "start_time": "2023-02-28T13:34:50.662Z"
   },
   {
    "duration": 394,
    "start_time": "2023-02-28T13:34:55.272Z"
   },
   {
    "duration": 137,
    "start_time": "2023-02-28T13:34:55.668Z"
   },
   {
    "duration": 5,
    "start_time": "2023-02-28T13:34:55.807Z"
   },
   {
    "duration": 21,
    "start_time": "2023-02-28T13:34:55.813Z"
   },
   {
    "duration": 2183,
    "start_time": "2023-02-28T13:34:55.840Z"
   },
   {
    "duration": 13,
    "start_time": "2023-02-28T13:34:58.025Z"
   },
   {
    "duration": 9,
    "start_time": "2023-02-28T13:34:58.040Z"
   },
   {
    "duration": 23,
    "start_time": "2023-02-28T13:34:58.051Z"
   },
   {
    "duration": 4,
    "start_time": "2023-02-28T13:34:58.075Z"
   },
   {
    "duration": 11,
    "start_time": "2023-02-28T13:34:58.081Z"
   },
   {
    "duration": 24,
    "start_time": "2023-02-28T13:34:58.094Z"
   },
   {
    "duration": 89,
    "start_time": "2023-02-28T13:34:58.140Z"
   },
   {
    "duration": 0,
    "start_time": "2023-02-28T13:34:58.231Z"
   },
   {
    "duration": 0,
    "start_time": "2023-02-28T13:34:58.232Z"
   },
   {
    "duration": 6,
    "start_time": "2023-02-28T13:34:58.233Z"
   },
   {
    "duration": 0,
    "start_time": "2023-02-28T13:34:58.240Z"
   },
   {
    "duration": 0,
    "start_time": "2023-02-28T13:34:58.242Z"
   },
   {
    "duration": 0,
    "start_time": "2023-02-28T13:34:58.243Z"
   },
   {
    "duration": 0,
    "start_time": "2023-02-28T13:34:58.244Z"
   },
   {
    "duration": 0,
    "start_time": "2023-02-28T13:34:58.245Z"
   },
   {
    "duration": 0,
    "start_time": "2023-02-28T13:34:58.246Z"
   },
   {
    "duration": 0,
    "start_time": "2023-02-28T13:34:58.247Z"
   },
   {
    "duration": 0,
    "start_time": "2023-02-28T13:34:58.249Z"
   },
   {
    "duration": 0,
    "start_time": "2023-02-28T13:34:58.250Z"
   },
   {
    "duration": 0,
    "start_time": "2023-02-28T13:34:58.251Z"
   },
   {
    "duration": 0,
    "start_time": "2023-02-28T13:34:58.252Z"
   },
   {
    "duration": 0,
    "start_time": "2023-02-28T13:34:58.253Z"
   },
   {
    "duration": 1,
    "start_time": "2023-02-28T13:34:58.254Z"
   },
   {
    "duration": 0,
    "start_time": "2023-02-28T13:34:58.255Z"
   },
   {
    "duration": 0,
    "start_time": "2023-02-28T13:34:58.257Z"
   },
   {
    "duration": 0,
    "start_time": "2023-02-28T13:34:58.258Z"
   },
   {
    "duration": 0,
    "start_time": "2023-02-28T13:34:58.260Z"
   },
   {
    "duration": 0,
    "start_time": "2023-02-28T13:34:58.261Z"
   },
   {
    "duration": 0,
    "start_time": "2023-02-28T13:34:58.262Z"
   },
   {
    "duration": 0,
    "start_time": "2023-02-28T13:34:58.263Z"
   },
   {
    "duration": 0,
    "start_time": "2023-02-28T13:34:58.264Z"
   },
   {
    "duration": 0,
    "start_time": "2023-02-28T13:34:58.265Z"
   },
   {
    "duration": 0,
    "start_time": "2023-02-28T13:34:58.266Z"
   },
   {
    "duration": 0,
    "start_time": "2023-02-28T13:34:58.267Z"
   },
   {
    "duration": 0,
    "start_time": "2023-02-28T13:34:58.268Z"
   },
   {
    "duration": 0,
    "start_time": "2023-02-28T13:34:58.269Z"
   },
   {
    "duration": 0,
    "start_time": "2023-02-28T13:34:58.270Z"
   },
   {
    "duration": 0,
    "start_time": "2023-02-28T13:34:58.271Z"
   },
   {
    "duration": 0,
    "start_time": "2023-02-28T13:34:58.272Z"
   },
   {
    "duration": 0,
    "start_time": "2023-02-28T13:34:58.273Z"
   },
   {
    "duration": 0,
    "start_time": "2023-02-28T13:34:58.274Z"
   },
   {
    "duration": 20,
    "start_time": "2023-02-28T13:47:12.157Z"
   },
   {
    "duration": 20,
    "start_time": "2023-02-28T13:47:40.581Z"
   },
   {
    "duration": 28,
    "start_time": "2023-02-28T13:48:06.529Z"
   },
   {
    "duration": 27,
    "start_time": "2023-02-28T13:48:12.327Z"
   },
   {
    "duration": 26,
    "start_time": "2023-02-28T13:48:22.503Z"
   },
   {
    "duration": 1253,
    "start_time": "2023-02-28T13:54:28.539Z"
   },
   {
    "duration": 7,
    "start_time": "2023-02-28T13:57:19.533Z"
   },
   {
    "duration": 56,
    "start_time": "2023-02-28T13:58:16.808Z"
   },
   {
    "duration": 44,
    "start_time": "2023-02-28T13:58:50.835Z"
   },
   {
    "duration": 8,
    "start_time": "2023-02-28T13:59:26.800Z"
   },
   {
    "duration": 32,
    "start_time": "2023-02-28T14:02:10.173Z"
   },
   {
    "duration": 429,
    "start_time": "2023-02-28T14:02:20.225Z"
   },
   {
    "duration": 115,
    "start_time": "2023-02-28T14:02:20.655Z"
   },
   {
    "duration": 4,
    "start_time": "2023-02-28T14:02:20.771Z"
   },
   {
    "duration": 19,
    "start_time": "2023-02-28T14:02:20.777Z"
   },
   {
    "duration": 2209,
    "start_time": "2023-02-28T14:02:20.798Z"
   },
   {
    "duration": 14,
    "start_time": "2023-02-28T14:02:23.009Z"
   },
   {
    "duration": 12,
    "start_time": "2023-02-28T14:02:23.024Z"
   },
   {
    "duration": 26,
    "start_time": "2023-02-28T14:02:23.037Z"
   },
   {
    "duration": 5,
    "start_time": "2023-02-28T14:02:23.065Z"
   },
   {
    "duration": 18,
    "start_time": "2023-02-28T14:02:23.073Z"
   },
   {
    "duration": 28,
    "start_time": "2023-02-28T14:02:23.092Z"
   },
   {
    "duration": 38,
    "start_time": "2023-02-28T14:02:23.122Z"
   },
   {
    "duration": 24,
    "start_time": "2023-02-28T14:02:23.161Z"
   },
   {
    "duration": 6,
    "start_time": "2023-02-28T14:02:23.186Z"
   },
   {
    "duration": 37,
    "start_time": "2023-02-28T14:02:23.194Z"
   },
   {
    "duration": 2053,
    "start_time": "2023-02-28T14:02:23.233Z"
   },
   {
    "duration": 20,
    "start_time": "2023-02-28T14:02:25.287Z"
   },
   {
    "duration": 33,
    "start_time": "2023-02-28T14:02:25.309Z"
   },
   {
    "duration": 30,
    "start_time": "2023-02-28T14:02:25.344Z"
   },
   {
    "duration": 7,
    "start_time": "2023-02-28T14:02:25.376Z"
   },
   {
    "duration": 1802,
    "start_time": "2023-02-28T14:02:25.385Z"
   },
   {
    "duration": 4,
    "start_time": "2023-02-28T14:02:27.188Z"
   },
   {
    "duration": 73,
    "start_time": "2023-02-28T14:02:27.193Z"
   },
   {
    "duration": 12,
    "start_time": "2023-02-28T14:02:27.268Z"
   },
   {
    "duration": 20,
    "start_time": "2023-02-28T14:02:27.282Z"
   },
   {
    "duration": 156,
    "start_time": "2023-02-28T14:02:27.304Z"
   },
   {
    "duration": 155,
    "start_time": "2023-02-28T14:02:27.462Z"
   },
   {
    "duration": 145,
    "start_time": "2023-02-28T14:02:27.620Z"
   },
   {
    "duration": 160,
    "start_time": "2023-02-28T14:02:27.766Z"
   },
   {
    "duration": 155,
    "start_time": "2023-02-28T14:02:27.928Z"
   },
   {
    "duration": 243,
    "start_time": "2023-02-28T14:02:28.084Z"
   },
   {
    "duration": 175,
    "start_time": "2023-02-28T14:02:28.329Z"
   },
   {
    "duration": 137,
    "start_time": "2023-02-28T14:02:28.506Z"
   },
   {
    "duration": 161,
    "start_time": "2023-02-28T14:02:28.646Z"
   },
   {
    "duration": 164,
    "start_time": "2023-02-28T14:02:28.809Z"
   },
   {
    "duration": 197,
    "start_time": "2023-02-28T14:02:28.975Z"
   },
   {
    "duration": 168,
    "start_time": "2023-02-28T14:02:29.173Z"
   },
   {
    "duration": 168,
    "start_time": "2023-02-28T14:02:29.343Z"
   },
   {
    "duration": 167,
    "start_time": "2023-02-28T14:02:29.512Z"
   },
   {
    "duration": 171,
    "start_time": "2023-02-28T14:02:29.681Z"
   },
   {
    "duration": 1213,
    "start_time": "2023-02-28T14:02:29.854Z"
   },
   {
    "duration": 7,
    "start_time": "2023-02-28T14:02:31.069Z"
   },
   {
    "duration": 21,
    "start_time": "2023-02-28T14:02:31.078Z"
   },
   {
    "duration": 65,
    "start_time": "2023-02-28T14:02:31.101Z"
   },
   {
    "duration": 10,
    "start_time": "2023-02-28T14:02:31.168Z"
   },
   {
    "duration": 42,
    "start_time": "2023-02-28T14:02:31.179Z"
   },
   {
    "duration": 179,
    "start_time": "2023-02-28T14:02:31.222Z"
   },
   {
    "duration": 138,
    "start_time": "2023-02-28T14:09:29.197Z"
   },
   {
    "duration": 396,
    "start_time": "2023-02-28T19:16:24.439Z"
   },
   {
    "duration": 114,
    "start_time": "2023-02-28T19:16:24.837Z"
   },
   {
    "duration": 4,
    "start_time": "2023-02-28T19:16:24.953Z"
   },
   {
    "duration": 19,
    "start_time": "2023-02-28T19:16:24.958Z"
   },
   {
    "duration": 2154,
    "start_time": "2023-02-28T19:16:24.978Z"
   },
   {
    "duration": 15,
    "start_time": "2023-02-28T19:16:27.134Z"
   },
   {
    "duration": 17,
    "start_time": "2023-02-28T19:16:27.151Z"
   },
   {
    "duration": 25,
    "start_time": "2023-02-28T19:16:27.170Z"
   },
   {
    "duration": 4,
    "start_time": "2023-02-28T19:16:27.197Z"
   },
   {
    "duration": 13,
    "start_time": "2023-02-28T19:16:27.203Z"
   },
   {
    "duration": 37,
    "start_time": "2023-02-28T19:16:27.218Z"
   },
   {
    "duration": 48,
    "start_time": "2023-02-28T19:16:27.257Z"
   },
   {
    "duration": 20,
    "start_time": "2023-02-28T19:16:27.307Z"
   },
   {
    "duration": 6,
    "start_time": "2023-02-28T19:16:27.331Z"
   },
   {
    "duration": 51,
    "start_time": "2023-02-28T19:16:27.338Z"
   },
   {
    "duration": 1896,
    "start_time": "2023-02-28T19:16:27.391Z"
   },
   {
    "duration": 18,
    "start_time": "2023-02-28T19:16:29.289Z"
   },
   {
    "duration": 28,
    "start_time": "2023-02-28T19:16:29.309Z"
   },
   {
    "duration": 25,
    "start_time": "2023-02-28T19:16:29.339Z"
   },
   {
    "duration": 20,
    "start_time": "2023-02-28T19:16:29.366Z"
   },
   {
    "duration": 1724,
    "start_time": "2023-02-28T19:16:29.387Z"
   },
   {
    "duration": 4,
    "start_time": "2023-02-28T19:16:31.114Z"
   },
   {
    "duration": 69,
    "start_time": "2023-02-28T19:16:31.119Z"
   },
   {
    "duration": 13,
    "start_time": "2023-02-28T19:16:31.190Z"
   },
   {
    "duration": 36,
    "start_time": "2023-02-28T19:16:31.205Z"
   },
   {
    "duration": 192,
    "start_time": "2023-02-28T19:16:31.243Z"
   },
   {
    "duration": 151,
    "start_time": "2023-02-28T19:16:31.436Z"
   },
   {
    "duration": 134,
    "start_time": "2023-02-28T19:16:31.589Z"
   },
   {
    "duration": 162,
    "start_time": "2023-02-28T19:16:31.724Z"
   },
   {
    "duration": 140,
    "start_time": "2023-02-28T19:16:31.888Z"
   },
   {
    "duration": 201,
    "start_time": "2023-02-28T19:16:32.029Z"
   },
   {
    "duration": 157,
    "start_time": "2023-02-28T19:16:32.232Z"
   },
   {
    "duration": 110,
    "start_time": "2023-02-28T19:16:32.390Z"
   },
   {
    "duration": 136,
    "start_time": "2023-02-28T19:16:32.502Z"
   },
   {
    "duration": 160,
    "start_time": "2023-02-28T19:16:32.640Z"
   },
   {
    "duration": 145,
    "start_time": "2023-02-28T19:16:32.802Z"
   },
   {
    "duration": 144,
    "start_time": "2023-02-28T19:16:32.949Z"
   },
   {
    "duration": 152,
    "start_time": "2023-02-28T19:16:33.096Z"
   },
   {
    "duration": 148,
    "start_time": "2023-02-28T19:16:33.250Z"
   },
   {
    "duration": 145,
    "start_time": "2023-02-28T19:16:33.399Z"
   },
   {
    "duration": 1124,
    "start_time": "2023-02-28T19:16:33.549Z"
   },
   {
    "duration": 13,
    "start_time": "2023-02-28T19:16:34.675Z"
   },
   {
    "duration": 11,
    "start_time": "2023-02-28T19:16:34.689Z"
   },
   {
    "duration": 28,
    "start_time": "2023-02-28T19:16:34.701Z"
   },
   {
    "duration": 4,
    "start_time": "2023-02-28T19:16:34.730Z"
   },
   {
    "duration": 13,
    "start_time": "2023-02-28T19:16:34.735Z"
   },
   {
    "duration": 178,
    "start_time": "2023-02-28T19:16:34.750Z"
   },
   {
    "duration": 455,
    "start_time": "2024-05-10T16:48:41.252Z"
   },
   {
    "duration": 325,
    "start_time": "2024-05-10T16:48:41.710Z"
   },
   {
    "duration": 3,
    "start_time": "2024-05-10T16:48:42.037Z"
   },
   {
    "duration": 26,
    "start_time": "2024-05-10T16:48:42.044Z"
   },
   {
    "duration": 2508,
    "start_time": "2024-05-10T16:48:42.072Z"
   },
   {
    "duration": 15,
    "start_time": "2024-05-10T16:48:44.582Z"
   },
   {
    "duration": 8,
    "start_time": "2024-05-10T16:48:44.599Z"
   },
   {
    "duration": 26,
    "start_time": "2024-05-10T16:48:44.609Z"
   },
   {
    "duration": 5,
    "start_time": "2024-05-10T16:48:44.636Z"
   },
   {
    "duration": 18,
    "start_time": "2024-05-10T16:48:44.644Z"
   },
   {
    "duration": 31,
    "start_time": "2024-05-10T16:48:44.664Z"
   },
   {
    "duration": 31,
    "start_time": "2024-05-10T16:48:44.696Z"
   },
   {
    "duration": 46,
    "start_time": "2024-05-10T16:48:44.728Z"
   },
   {
    "duration": 5,
    "start_time": "2024-05-10T16:48:44.776Z"
   },
   {
    "duration": 43,
    "start_time": "2024-05-10T16:48:44.783Z"
   },
   {
    "duration": 2239,
    "start_time": "2024-05-10T16:48:44.827Z"
   },
   {
    "duration": 22,
    "start_time": "2024-05-10T16:48:47.068Z"
   },
   {
    "duration": 21,
    "start_time": "2024-05-10T16:48:47.092Z"
   },
   {
    "duration": 55,
    "start_time": "2024-05-10T16:48:47.115Z"
   },
   {
    "duration": 9,
    "start_time": "2024-05-10T16:48:47.171Z"
   },
   {
    "duration": 1761,
    "start_time": "2024-05-10T16:48:47.181Z"
   },
   {
    "duration": 3,
    "start_time": "2024-05-10T16:48:48.944Z"
   },
   {
    "duration": 64,
    "start_time": "2024-05-10T16:48:48.948Z"
   },
   {
    "duration": 12,
    "start_time": "2024-05-10T16:48:49.013Z"
   },
   {
    "duration": 40,
    "start_time": "2024-05-10T16:48:49.026Z"
   },
   {
    "duration": 149,
    "start_time": "2024-05-10T16:48:49.068Z"
   },
   {
    "duration": 159,
    "start_time": "2024-05-10T16:48:49.219Z"
   },
   {
    "duration": 142,
    "start_time": "2024-05-10T16:48:49.381Z"
   },
   {
    "duration": 172,
    "start_time": "2024-05-10T16:48:49.525Z"
   },
   {
    "duration": 240,
    "start_time": "2024-05-10T16:48:49.698Z"
   },
   {
    "duration": 159,
    "start_time": "2024-05-10T16:48:49.940Z"
   },
   {
    "duration": 177,
    "start_time": "2024-05-10T16:48:50.101Z"
   },
   {
    "duration": 129,
    "start_time": "2024-05-10T16:48:50.279Z"
   },
   {
    "duration": 142,
    "start_time": "2024-05-10T16:48:50.409Z"
   },
   {
    "duration": 134,
    "start_time": "2024-05-10T16:48:50.552Z"
   },
   {
    "duration": 149,
    "start_time": "2024-05-10T16:48:50.688Z"
   },
   {
    "duration": 136,
    "start_time": "2024-05-10T16:48:50.838Z"
   },
   {
    "duration": 160,
    "start_time": "2024-05-10T16:48:50.976Z"
   },
   {
    "duration": 160,
    "start_time": "2024-05-10T16:48:51.138Z"
   },
   {
    "duration": 177,
    "start_time": "2024-05-10T16:48:51.300Z"
   },
   {
    "duration": 1233,
    "start_time": "2024-05-10T16:48:51.479Z"
   },
   {
    "duration": 8,
    "start_time": "2024-05-10T16:48:52.714Z"
   },
   {
    "duration": 8,
    "start_time": "2024-05-10T16:48:52.724Z"
   },
   {
    "duration": 51,
    "start_time": "2024-05-10T16:48:52.733Z"
   },
   {
    "duration": 5,
    "start_time": "2024-05-10T16:48:52.790Z"
   },
   {
    "duration": 19,
    "start_time": "2024-05-10T16:48:52.798Z"
   },
   {
    "duration": 168,
    "start_time": "2024-05-10T16:48:52.818Z"
   }
  ],
  "kernelspec": {
   "display_name": "Python 3 (ipykernel)",
   "language": "python",
   "name": "python3"
  },
  "language_info": {
   "codemirror_mode": {
    "name": "ipython",
    "version": 3
   },
   "file_extension": ".py",
   "mimetype": "text/x-python",
   "name": "python",
   "nbconvert_exporter": "python",
   "pygments_lexer": "ipython3",
   "version": "3.9.5"
  },
  "toc": {
   "base_numbering": 1,
   "nav_menu": {},
   "number_sections": true,
   "sideBar": true,
   "skip_h1_title": true,
   "title_cell": "Table of Contents",
   "title_sidebar": "Contents",
   "toc_cell": false,
   "toc_position": {},
   "toc_section_display": true,
   "toc_window_display": false
  }
 },
 "nbformat": 4,
 "nbformat_minor": 2
}
