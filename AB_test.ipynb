{
 "cells": [
  {
   "cell_type": "markdown",
   "metadata": {},
   "source": [
    "ОПИСАНИЕ ПРОЕКТА\n",
    "\n",
    "Я выступаю в качестве аналитика крупного интернет-магазина. Вместе с отделом маркетинга мы подготовили список гипотез для увеличения выручки.\n",
    "\n",
    "\n",
    "Цель: Приоритизировать гипотезы, запустить A/B-тест и проанализировать результаты. "
   ]
  },
  {
   "cell_type": "code",
   "execution_count": 1,
   "metadata": {},
   "outputs": [],
   "source": [
    "#Импортируем все библиотеки\n",
    "import pandas as pd\n",
    "import matplotlib.pyplot as plt\n",
    "import numpy as np\n",
    "import seaborn as sns\n",
    "import datetime as dt\n",
    "from scipy import stats as st"
   ]
  },
  {
   "cell_type": "markdown",
   "metadata": {},
   "source": [
    "### Часть  (Приоритизация гипотез)"
   ]
  },
  {
   "cell_type": "code",
   "execution_count": 2,
   "metadata": {},
   "outputs": [
    {
     "data": {
      "text/html": [
       "<div>\n",
       "<style scoped>\n",
       "    .dataframe tbody tr th:only-of-type {\n",
       "        vertical-align: middle;\n",
       "    }\n",
       "\n",
       "    .dataframe tbody tr th {\n",
       "        vertical-align: top;\n",
       "    }\n",
       "\n",
       "    .dataframe thead th {\n",
       "        text-align: right;\n",
       "    }\n",
       "</style>\n",
       "<table border=\"1\" class=\"dataframe\">\n",
       "  <thead>\n",
       "    <tr style=\"text-align: right;\">\n",
       "      <th></th>\n",
       "      <th>hypothesis</th>\n",
       "      <th>reach</th>\n",
       "      <th>impact</th>\n",
       "      <th>confidence</th>\n",
       "      <th>efforts</th>\n",
       "    </tr>\n",
       "  </thead>\n",
       "  <tbody>\n",
       "    <tr>\n",
       "      <th>0</th>\n",
       "      <td>Добавить два новых канала привлечения трафика,...</td>\n",
       "      <td>3</td>\n",
       "      <td>10</td>\n",
       "      <td>8</td>\n",
       "      <td>6</td>\n",
       "    </tr>\n",
       "    <tr>\n",
       "      <th>1</th>\n",
       "      <td>Запустить собственную службу доставки, что сок...</td>\n",
       "      <td>2</td>\n",
       "      <td>5</td>\n",
       "      <td>4</td>\n",
       "      <td>10</td>\n",
       "    </tr>\n",
       "    <tr>\n",
       "      <th>2</th>\n",
       "      <td>Добавить блоки рекомендаций товаров на сайт ин...</td>\n",
       "      <td>8</td>\n",
       "      <td>3</td>\n",
       "      <td>7</td>\n",
       "      <td>3</td>\n",
       "    </tr>\n",
       "    <tr>\n",
       "      <th>3</th>\n",
       "      <td>Изменить структура категорий, что увеличит кон...</td>\n",
       "      <td>8</td>\n",
       "      <td>3</td>\n",
       "      <td>3</td>\n",
       "      <td>8</td>\n",
       "    </tr>\n",
       "    <tr>\n",
       "      <th>4</th>\n",
       "      <td>Изменить цвет фона главной страницы, чтобы уве...</td>\n",
       "      <td>3</td>\n",
       "      <td>1</td>\n",
       "      <td>1</td>\n",
       "      <td>1</td>\n",
       "    </tr>\n",
       "    <tr>\n",
       "      <th>5</th>\n",
       "      <td>Добавить страницу отзывов клиентов о магазине,...</td>\n",
       "      <td>3</td>\n",
       "      <td>2</td>\n",
       "      <td>2</td>\n",
       "      <td>3</td>\n",
       "    </tr>\n",
       "    <tr>\n",
       "      <th>6</th>\n",
       "      <td>Показать на главной странице баннеры с актуаль...</td>\n",
       "      <td>5</td>\n",
       "      <td>3</td>\n",
       "      <td>8</td>\n",
       "      <td>3</td>\n",
       "    </tr>\n",
       "    <tr>\n",
       "      <th>7</th>\n",
       "      <td>Добавить форму подписки на все основные страни...</td>\n",
       "      <td>10</td>\n",
       "      <td>7</td>\n",
       "      <td>8</td>\n",
       "      <td>5</td>\n",
       "    </tr>\n",
       "    <tr>\n",
       "      <th>8</th>\n",
       "      <td>Запустить акцию, дающую скидку на товар в день...</td>\n",
       "      <td>1</td>\n",
       "      <td>9</td>\n",
       "      <td>9</td>\n",
       "      <td>5</td>\n",
       "    </tr>\n",
       "  </tbody>\n",
       "</table>\n",
       "</div>"
      ],
      "text/plain": [
       "                                          hypothesis  reach  impact  \\\n",
       "0  Добавить два новых канала привлечения трафика,...      3      10   \n",
       "1  Запустить собственную службу доставки, что сок...      2       5   \n",
       "2  Добавить блоки рекомендаций товаров на сайт ин...      8       3   \n",
       "3  Изменить структура категорий, что увеличит кон...      8       3   \n",
       "4  Изменить цвет фона главной страницы, чтобы уве...      3       1   \n",
       "5  Добавить страницу отзывов клиентов о магазине,...      3       2   \n",
       "6  Показать на главной странице баннеры с актуаль...      5       3   \n",
       "7  Добавить форму подписки на все основные страни...     10       7   \n",
       "8  Запустить акцию, дающую скидку на товар в день...      1       9   \n",
       "\n",
       "   confidence  efforts  \n",
       "0           8        6  \n",
       "1           4       10  \n",
       "2           7        3  \n",
       "3           3        8  \n",
       "4           1        1  \n",
       "5           2        3  \n",
       "6           8        3  \n",
       "7           8        5  \n",
       "8           9        5  "
      ]
     },
     "execution_count": 2,
     "metadata": {},
     "output_type": "execute_result"
    }
   ],
   "source": [
    "#Ознакомимся с данными\n",
    "pd.set_option('display.max_columns', None)\n",
    "hyp = pd.read_csv('/datasets/hypothesis.csv')\n",
    "hyp.columns = hyp.columns.str.lower() \n",
    "hyp"
   ]
  },
  {
   "cell_type": "markdown",
   "metadata": {},
   "source": [
    "<font color='DarkBlue'>Применим фреймворк ICE для приоритизации гипотез. Отсортируем их по убыванию приоритета.</font><br>"
   ]
  },
  {
   "cell_type": "code",
   "execution_count": 3,
   "metadata": {},
   "outputs": [
    {
     "data": {
      "text/html": [
       "<div>\n",
       "<style scoped>\n",
       "    .dataframe tbody tr th:only-of-type {\n",
       "        vertical-align: middle;\n",
       "    }\n",
       "\n",
       "    .dataframe tbody tr th {\n",
       "        vertical-align: top;\n",
       "    }\n",
       "\n",
       "    .dataframe thead th {\n",
       "        text-align: right;\n",
       "    }\n",
       "</style>\n",
       "<table border=\"1\" class=\"dataframe\">\n",
       "  <thead>\n",
       "    <tr style=\"text-align: right;\">\n",
       "      <th></th>\n",
       "      <th>hypothesis</th>\n",
       "      <th>ICE</th>\n",
       "    </tr>\n",
       "  </thead>\n",
       "  <tbody>\n",
       "    <tr>\n",
       "      <th>8</th>\n",
       "      <td>Запустить акцию, дающую скидку на товар в день...</td>\n",
       "      <td>16.200000</td>\n",
       "    </tr>\n",
       "    <tr>\n",
       "      <th>0</th>\n",
       "      <td>Добавить два новых канала привлечения трафика,...</td>\n",
       "      <td>13.333333</td>\n",
       "    </tr>\n",
       "    <tr>\n",
       "      <th>7</th>\n",
       "      <td>Добавить форму подписки на все основные страни...</td>\n",
       "      <td>11.200000</td>\n",
       "    </tr>\n",
       "    <tr>\n",
       "      <th>6</th>\n",
       "      <td>Показать на главной странице баннеры с актуаль...</td>\n",
       "      <td>8.000000</td>\n",
       "    </tr>\n",
       "    <tr>\n",
       "      <th>2</th>\n",
       "      <td>Добавить блоки рекомендаций товаров на сайт ин...</td>\n",
       "      <td>7.000000</td>\n",
       "    </tr>\n",
       "    <tr>\n",
       "      <th>1</th>\n",
       "      <td>Запустить собственную службу доставки, что сок...</td>\n",
       "      <td>2.000000</td>\n",
       "    </tr>\n",
       "    <tr>\n",
       "      <th>5</th>\n",
       "      <td>Добавить страницу отзывов клиентов о магазине,...</td>\n",
       "      <td>1.333333</td>\n",
       "    </tr>\n",
       "    <tr>\n",
       "      <th>3</th>\n",
       "      <td>Изменить структура категорий, что увеличит кон...</td>\n",
       "      <td>1.125000</td>\n",
       "    </tr>\n",
       "    <tr>\n",
       "      <th>4</th>\n",
       "      <td>Изменить цвет фона главной страницы, чтобы уве...</td>\n",
       "      <td>1.000000</td>\n",
       "    </tr>\n",
       "  </tbody>\n",
       "</table>\n",
       "</div>"
      ],
      "text/plain": [
       "                                          hypothesis        ICE\n",
       "8  Запустить акцию, дающую скидку на товар в день...  16.200000\n",
       "0  Добавить два новых канала привлечения трафика,...  13.333333\n",
       "7  Добавить форму подписки на все основные страни...  11.200000\n",
       "6  Показать на главной странице баннеры с актуаль...   8.000000\n",
       "2  Добавить блоки рекомендаций товаров на сайт ин...   7.000000\n",
       "1  Запустить собственную службу доставки, что сок...   2.000000\n",
       "5  Добавить страницу отзывов клиентов о магазине,...   1.333333\n",
       "3  Изменить структура категорий, что увеличит кон...   1.125000\n",
       "4  Изменить цвет фона главной страницы, чтобы уве...   1.000000"
      ]
     },
     "execution_count": 3,
     "metadata": {},
     "output_type": "execute_result"
    }
   ],
   "source": [
    "hyp['ICE'] = (hyp['impact']*hyp['confidence'])/ hyp['efforts']\n",
    "hyp[['hypothesis','ICE']].sort_values(by='ICE', ascending=False)"
   ]
  },
  {
   "cell_type": "markdown",
   "metadata": {},
   "source": [
    "<font color='DarkBlue'>Применим фреймворк RICE для приоритизации гипотез. Отсортируем их по убыванию приоритета.</font><br>"
   ]
  },
  {
   "cell_type": "code",
   "execution_count": 4,
   "metadata": {},
   "outputs": [
    {
     "data": {
      "text/html": [
       "<div>\n",
       "<style scoped>\n",
       "    .dataframe tbody tr th:only-of-type {\n",
       "        vertical-align: middle;\n",
       "    }\n",
       "\n",
       "    .dataframe tbody tr th {\n",
       "        vertical-align: top;\n",
       "    }\n",
       "\n",
       "    .dataframe thead th {\n",
       "        text-align: right;\n",
       "    }\n",
       "</style>\n",
       "<table border=\"1\" class=\"dataframe\">\n",
       "  <thead>\n",
       "    <tr style=\"text-align: right;\">\n",
       "      <th></th>\n",
       "      <th>hypothesis</th>\n",
       "      <th>RICE</th>\n",
       "    </tr>\n",
       "  </thead>\n",
       "  <tbody>\n",
       "    <tr>\n",
       "      <th>7</th>\n",
       "      <td>Добавить форму подписки на все основные страни...</td>\n",
       "      <td>112.0</td>\n",
       "    </tr>\n",
       "    <tr>\n",
       "      <th>2</th>\n",
       "      <td>Добавить блоки рекомендаций товаров на сайт ин...</td>\n",
       "      <td>56.0</td>\n",
       "    </tr>\n",
       "    <tr>\n",
       "      <th>0</th>\n",
       "      <td>Добавить два новых канала привлечения трафика,...</td>\n",
       "      <td>40.0</td>\n",
       "    </tr>\n",
       "    <tr>\n",
       "      <th>6</th>\n",
       "      <td>Показать на главной странице баннеры с актуаль...</td>\n",
       "      <td>40.0</td>\n",
       "    </tr>\n",
       "    <tr>\n",
       "      <th>8</th>\n",
       "      <td>Запустить акцию, дающую скидку на товар в день...</td>\n",
       "      <td>16.2</td>\n",
       "    </tr>\n",
       "    <tr>\n",
       "      <th>3</th>\n",
       "      <td>Изменить структура категорий, что увеличит кон...</td>\n",
       "      <td>9.0</td>\n",
       "    </tr>\n",
       "    <tr>\n",
       "      <th>1</th>\n",
       "      <td>Запустить собственную службу доставки, что сок...</td>\n",
       "      <td>4.0</td>\n",
       "    </tr>\n",
       "    <tr>\n",
       "      <th>5</th>\n",
       "      <td>Добавить страницу отзывов клиентов о магазине,...</td>\n",
       "      <td>4.0</td>\n",
       "    </tr>\n",
       "    <tr>\n",
       "      <th>4</th>\n",
       "      <td>Изменить цвет фона главной страницы, чтобы уве...</td>\n",
       "      <td>3.0</td>\n",
       "    </tr>\n",
       "  </tbody>\n",
       "</table>\n",
       "</div>"
      ],
      "text/plain": [
       "                                          hypothesis   RICE\n",
       "7  Добавить форму подписки на все основные страни...  112.0\n",
       "2  Добавить блоки рекомендаций товаров на сайт ин...   56.0\n",
       "0  Добавить два новых канала привлечения трафика,...   40.0\n",
       "6  Показать на главной странице баннеры с актуаль...   40.0\n",
       "8  Запустить акцию, дающую скидку на товар в день...   16.2\n",
       "3  Изменить структура категорий, что увеличит кон...    9.0\n",
       "1  Запустить собственную службу доставки, что сок...    4.0\n",
       "5  Добавить страницу отзывов клиентов о магазине,...    4.0\n",
       "4  Изменить цвет фона главной страницы, чтобы уве...    3.0"
      ]
     },
     "execution_count": 4,
     "metadata": {},
     "output_type": "execute_result"
    }
   ],
   "source": [
    "hyp['RICE'] = (hyp['reach']*hyp['impact']*hyp['confidence'])/ hyp['efforts']\n",
    "hyp[['hypothesis','RICE']].sort_values(by='RICE', ascending=False)"
   ]
  },
  {
   "cell_type": "markdown",
   "metadata": {},
   "source": [
    "<font color='DarkBlue'>Укажим, как изменилась приоритизация гипотез при применении RICE вместо ICE</font><br>"
   ]
  },
  {
   "cell_type": "markdown",
   "metadata": {},
   "source": [
    "Гипотезы под номерами 1,3,4,5 находятся в конце обеих таблиц, так что их не имеет смысла рассматривать. Самые первые к выполнению проверки, по моему мнению, должны быть гипотезы 0 и 7. Они находятся на высоких позициях в таблице, имеют большое влияние, а 7 охватывает еще и огромную аудиторию."
   ]
  },
  {
   "cell_type": "markdown",
   "metadata": {},
   "source": [
    "Вывод: я рекомендую в первую очередь проверить гипотезы 0,7"
   ]
  },
  {
   "cell_type": "markdown",
   "metadata": {},
   "source": [
    "### Часть (Анализ A/B-теста)"
   ]
  },
  {
   "cell_type": "markdown",
   "metadata": {},
   "source": [
    "План анализа A/B-тест:\n",
    "1. Построить график кумулятивной выручки по группам. \n",
    "2. Построить график кумулятивного среднего чека по группам.\n",
    "3. Построить график относительного изменения кумулятивного среднего чека группы B к группе A. \n",
    "4. Построить график кумулятивного среднего количества заказов на посетителя по группам.\n",
    "5. Построить график относительного изменения кумулятивного среднего количества заказов на посетителя группы B к группе A.\n",
    "6. Построить точечный график количества заказов по пользователям. \n",
    "7. Посчитать 95-й и 99-й перцентили количества заказов на пользователя.\n",
    "8. Построить точечный график стоимостей заказов.\n",
    "9. Посчитать 95-й и 99-й перцентили стоимости заказов. \n",
    "10. Посчитать статистическую значимость различий в среднем количестве заказов на посетителя между группами по «сырым» данным. \n",
    "11. Посчитать статистическую значимость различий в среднем чеке заказа между группами по «сырым» данным.\n",
    "12. Посчитать статистическую значимость различий в среднем количестве заказов на посетителя между группами по «очищенным» данным. \n",
    "13. Посчитать статистическую значимость различий в среднем чеке заказа между группами по «очищенным» данным.\n",
    "\n",
    "\n",
    "Принять решение по результатам теста и объясните его. Варианты решений:\n",
    "1. Остановить тест, зафиксировать победу одной из групп.\n",
    "2. Остановить тест, зафиксировать отсутствие различий между группами.\n",
    "3. Продолжить тест."
   ]
  },
  {
   "cell_type": "code",
   "execution_count": 5,
   "metadata": {},
   "outputs": [
    {
     "data": {
      "text/html": [
       "<div>\n",
       "<style scoped>\n",
       "    .dataframe tbody tr th:only-of-type {\n",
       "        vertical-align: middle;\n",
       "    }\n",
       "\n",
       "    .dataframe tbody tr th {\n",
       "        vertical-align: top;\n",
       "    }\n",
       "\n",
       "    .dataframe thead th {\n",
       "        text-align: right;\n",
       "    }\n",
       "</style>\n",
       "<table border=\"1\" class=\"dataframe\">\n",
       "  <thead>\n",
       "    <tr style=\"text-align: right;\">\n",
       "      <th></th>\n",
       "      <th>transactionid</th>\n",
       "      <th>visitorid</th>\n",
       "      <th>date</th>\n",
       "      <th>revenue</th>\n",
       "      <th>group</th>\n",
       "    </tr>\n",
       "  </thead>\n",
       "  <tbody>\n",
       "    <tr>\n",
       "      <th>0</th>\n",
       "      <td>3667963787</td>\n",
       "      <td>3312258926</td>\n",
       "      <td>2019-08-15</td>\n",
       "      <td>1650</td>\n",
       "      <td>B</td>\n",
       "    </tr>\n",
       "    <tr>\n",
       "      <th>1</th>\n",
       "      <td>2804400009</td>\n",
       "      <td>3642806036</td>\n",
       "      <td>2019-08-15</td>\n",
       "      <td>730</td>\n",
       "      <td>B</td>\n",
       "    </tr>\n",
       "    <tr>\n",
       "      <th>2</th>\n",
       "      <td>2961555356</td>\n",
       "      <td>4069496402</td>\n",
       "      <td>2019-08-15</td>\n",
       "      <td>400</td>\n",
       "      <td>A</td>\n",
       "    </tr>\n",
       "    <tr>\n",
       "      <th>3</th>\n",
       "      <td>3797467345</td>\n",
       "      <td>1196621759</td>\n",
       "      <td>2019-08-15</td>\n",
       "      <td>9759</td>\n",
       "      <td>B</td>\n",
       "    </tr>\n",
       "    <tr>\n",
       "      <th>4</th>\n",
       "      <td>2282983706</td>\n",
       "      <td>2322279887</td>\n",
       "      <td>2019-08-15</td>\n",
       "      <td>2308</td>\n",
       "      <td>B</td>\n",
       "    </tr>\n",
       "  </tbody>\n",
       "</table>\n",
       "</div>"
      ],
      "text/plain": [
       "   transactionid   visitorid        date  revenue group\n",
       "0     3667963787  3312258926  2019-08-15     1650     B\n",
       "1     2804400009  3642806036  2019-08-15      730     B\n",
       "2     2961555356  4069496402  2019-08-15      400     A\n",
       "3     3797467345  1196621759  2019-08-15     9759     B\n",
       "4     2282983706  2322279887  2019-08-15     2308     B"
      ]
     },
     "execution_count": 5,
     "metadata": {},
     "output_type": "execute_result"
    }
   ],
   "source": [
    "#Ознакомимся с данными\n",
    "pd.set_option('display.max_columns', None)\n",
    "orders = pd.read_csv('/datasets/orders.csv')\n",
    "orders.columns = orders.columns.str.lower() \n",
    "orders.head(5)"
   ]
  },
  {
   "cell_type": "code",
   "execution_count": 6,
   "metadata": {},
   "outputs": [
    {
     "name": "stdout",
     "output_type": "stream",
     "text": [
      "всего в таблице 1197 строк\n"
     ]
    }
   ],
   "source": [
    "sum_ord = orders['transactionid'].count()\n",
    "print('всего в таблице', sum_ord, 'строк')"
   ]
  },
  {
   "cell_type": "code",
   "execution_count": 7,
   "metadata": {},
   "outputs": [
    {
     "data": {
      "text/html": [
       "<div>\n",
       "<style scoped>\n",
       "    .dataframe tbody tr th:only-of-type {\n",
       "        vertical-align: middle;\n",
       "    }\n",
       "\n",
       "    .dataframe tbody tr th {\n",
       "        vertical-align: top;\n",
       "    }\n",
       "\n",
       "    .dataframe thead th {\n",
       "        text-align: right;\n",
       "    }\n",
       "</style>\n",
       "<table border=\"1\" class=\"dataframe\">\n",
       "  <thead>\n",
       "    <tr style=\"text-align: right;\">\n",
       "      <th></th>\n",
       "      <th>date</th>\n",
       "      <th>group</th>\n",
       "      <th>visitors</th>\n",
       "    </tr>\n",
       "  </thead>\n",
       "  <tbody>\n",
       "    <tr>\n",
       "      <th>0</th>\n",
       "      <td>2019-08-01</td>\n",
       "      <td>A</td>\n",
       "      <td>719</td>\n",
       "    </tr>\n",
       "    <tr>\n",
       "      <th>1</th>\n",
       "      <td>2019-08-02</td>\n",
       "      <td>A</td>\n",
       "      <td>619</td>\n",
       "    </tr>\n",
       "    <tr>\n",
       "      <th>2</th>\n",
       "      <td>2019-08-03</td>\n",
       "      <td>A</td>\n",
       "      <td>507</td>\n",
       "    </tr>\n",
       "    <tr>\n",
       "      <th>3</th>\n",
       "      <td>2019-08-04</td>\n",
       "      <td>A</td>\n",
       "      <td>717</td>\n",
       "    </tr>\n",
       "    <tr>\n",
       "      <th>4</th>\n",
       "      <td>2019-08-05</td>\n",
       "      <td>A</td>\n",
       "      <td>756</td>\n",
       "    </tr>\n",
       "  </tbody>\n",
       "</table>\n",
       "</div>"
      ],
      "text/plain": [
       "         date group  visitors\n",
       "0  2019-08-01     A       719\n",
       "1  2019-08-02     A       619\n",
       "2  2019-08-03     A       507\n",
       "3  2019-08-04     A       717\n",
       "4  2019-08-05     A       756"
      ]
     },
     "execution_count": 7,
     "metadata": {},
     "output_type": "execute_result"
    }
   ],
   "source": [
    "#Ознакомимся с данными\n",
    "pd.set_option('display.max_columns', None)\n",
    "visitors = pd.read_csv('/datasets/visitors.csv')\n",
    "visitors .columns = visitors .columns.str.lower() \n",
    "visitors.head(5)"
   ]
  },
  {
   "cell_type": "code",
   "execution_count": 8,
   "metadata": {},
   "outputs": [
    {
     "name": "stdout",
     "output_type": "stream",
     "text": [
      "количество групп: 2\n"
     ]
    }
   ],
   "source": [
    "#дополнительные исследования\n",
    "print('количество групп:', orders['group'].nunique())\n"
   ]
  },
  {
   "cell_type": "code",
   "execution_count": 9,
   "metadata": {},
   "outputs": [
    {
     "name": "stdout",
     "output_type": "stream",
     "text": [
      "количество пользователей в группе А\n",
      "503\n",
      "количество пользователей в группе В\n",
      "586\n"
     ]
    }
   ],
   "source": [
    "print('количество пользователей в группе А')\n",
    "print(orders[orders['group'] == 'A']['visitorid'].nunique ())\n",
    "\n",
    "print('количество пользователей в группе В')\n",
    "print(orders[orders['group'] == 'B']['visitorid'].nunique ())"
   ]
  },
  {
   "cell_type": "code",
   "execution_count": 10,
   "metadata": {},
   "outputs": [
    {
     "name": "stdout",
     "output_type": "stream",
     "text": [
      "исследования проводились с 2019-08-01 по 2019-08-31\n"
     ]
    }
   ],
   "source": [
    "min_date = orders['date'].min()\n",
    "max_date = orders['date'].max()\n",
    "\n",
    "print(f'исследования проводились с {min_date} по {max_date}')"
   ]
  },
  {
   "cell_type": "code",
   "execution_count": 11,
   "metadata": {},
   "outputs": [
    {
     "name": "stdout",
     "output_type": "stream",
     "text": [
      "пропусков в таблицах нет\n",
      "В таблице orders количество дубликатов = 0\n",
      "В таблице visitors количество дубликатов = 0\n"
     ]
    }
   ],
   "source": [
    "tabl = [orders, visitors]\n",
    "\n",
    "orders.name = 'orders'\n",
    "visitors.name = 'visitors'\n",
    "\n",
    "# проверим, что нет пропусков \n",
    "sum_isna = 0\n",
    "for tab in tabl:\n",
    "    for column in tab:\n",
    "        val_col = tab[column]\n",
    "        sum_isna += val_col.isna().sum()\n",
    "if sum_isna == 0:\n",
    "    print('пропусков в таблицах нет')\n",
    "else:\n",
    "    print('пропуски в таблицах есть') \n",
    "    \n",
    "#проверка на явные дубликаты\n",
    "for tab in tabl:\n",
    "    print(f'В таблице {tab.name} количество дубликатов = {tab.duplicated().sum()}')"
   ]
  },
  {
   "cell_type": "code",
   "execution_count": 12,
   "metadata": {},
   "outputs": [
    {
     "name": "stdout",
     "output_type": "stream",
     "text": [
      "количество пользоватедей, которые вошли в обе группы: 181 \n"
     ]
    }
   ],
   "source": [
    "ordB = orders[orders['group'] == 'B']['visitorid'].unique()\n",
    "ordA = orders[orders['group'] == 'A']['visitorid'].unique()\n",
    "err = []\n",
    "\n",
    "for x in orders['visitorid']:\n",
    "    if (x in ordB and x in ordA):\n",
    "        err.append(x)\n",
    "\n",
    "print(f'количество пользоватедей, которые вошли в обе группы: {len(err)} ')"
   ]
  },
  {
   "cell_type": "markdown",
   "metadata": {},
   "source": [
    "так как позьзователи на пересечении могут повлиять на исход тестов, то их нужно удалить"
   ]
  },
  {
   "cell_type": "code",
   "execution_count": 13,
   "metadata": {},
   "outputs": [],
   "source": [
    "for x in orders['visitorid']:\n",
    "    if (x in err):\n",
    "        orders = orders[orders['visitorid']!=x]"
   ]
  },
  {
   "cell_type": "code",
   "execution_count": 14,
   "metadata": {},
   "outputs": [
    {
     "name": "stdout",
     "output_type": "stream",
     "text": [
      "количество пользоватедей, которые вошли в обе группы: 0 \n"
     ]
    }
   ],
   "source": [
    "#проверим, что теперь не осталось пользователей на пересечении\n",
    "ordB = orders[orders['group'] == 'B']['visitorid'].unique()\n",
    "ordA = orders[orders['group'] == 'A']['visitorid'].unique()\n",
    "err = []\n",
    "\n",
    "for x in orders['visitorid']:\n",
    "    if (x in ordB and x in ordA):\n",
    "        err.append(x)\n",
    "\n",
    "print(f'количество пользоватедей, которые вошли в обе группы: {len(err)} ')"
   ]
  },
  {
   "cell_type": "code",
   "execution_count": 15,
   "metadata": {},
   "outputs": [
    {
     "data": {
      "text/plain": [
       "<matplotlib.legend.Legend at 0x7fd51f7b5d00>"
      ]
     },
     "execution_count": 15,
     "metadata": {},
     "output_type": "execute_result"
    },
    {
     "data": {
      "image/png": "[encoded data removed]",
      "text/plain": [
       "<Figure size 504x288 with 1 Axes>"
      ]
     },
     "metadata": {
      "needs_background": "light"
     },
     "output_type": "display_data"
    }
   ],
   "source": [
    "#Построим график кумулятивной выручки по группам\n",
    "\n",
    "orders['date'] = pd.to_datetime(orders['date']).dt.date\n",
    "visitors['date'] = pd.to_datetime(visitors['date']).dt.date\n",
    "\n",
    "# создаем массив уникальных пар значений дат и групп теста\n",
    "datesGroups = orders[['date','group']].drop_duplicates()\n",
    "\n",
    "ordersAggregated = datesGroups.apply(\n",
    "    lambda x: orders[\n",
    "        np.logical_and(\n",
    "            orders['date'] <= x['date'], orders['group'] == x['group']\n",
    "        )\n",
    "    ].agg(\n",
    "        {\n",
    "            'date': 'max',\n",
    "            'group': 'max',\n",
    "            'transactionid': 'nunique',\n",
    "            'visitorid': 'nunique',\n",
    "            'revenue': 'sum',\n",
    "        }\n",
    "    ),\n",
    "    axis=1,\n",
    ").sort_values(by=['date', 'group'])\n",
    "\n",
    "visitorsAggregated = datesGroups.apply(\n",
    "    lambda x: visitors[\n",
    "        np.logical_and(\n",
    "            visitors['date'] <= x['date'], visitors['group'] == x['group']\n",
    "        )\n",
    "    ].agg({'date': 'max', 'group': 'max', 'visitors': 'sum'}),\n",
    "    axis=1,\n",
    ").sort_values(by=['date', 'group'])\n",
    "\n",
    "cumulativeData = ordersAggregated.merge(\n",
    "    visitorsAggregated, left_on=['date', 'group'], right_on=['date', 'group']\n",
    ")\n",
    "cumulativeData.columns = [\n",
    "    'date',\n",
    "    'group',\n",
    "    'orders',\n",
    "    'buyers',\n",
    "    'revenue',\n",
    "    'visitors',\n",
    "]\n",
    "\n",
    "import matplotlib.pyplot as plt\n",
    "\n",
    "# датафрейм с кумулятивным количеством заказов и кумулятивной выручкой по дням в группе А\n",
    "cumulativeRevenueA = cumulativeData[cumulativeData['group']=='A'][['date','revenue', 'orders']]\n",
    "\n",
    "# датафрейм с кумулятивным количеством заказов и кумулятивной выручкой по дням в группе B\n",
    "cumulativeRevenueB = cumulativeData[cumulativeData['group']=='B'][['date','revenue', 'orders']]\n",
    "\n",
    "plt.figure(figsize=(7, 4))\n",
    "\n",
    "# Строим график выручки группы А\n",
    "plt.plot(cumulativeRevenueA['date'], cumulativeRevenueA['revenue'], label='A')\n",
    "\n",
    "# Строим график выручки группы B\n",
    "plt.plot(cumulativeRevenueB['date'], cumulativeRevenueB['revenue'], label='B')\n",
    "\n",
    "plt.xticks(rotation = 45)\n",
    "\n",
    "plt.legend() \n"
   ]
  },
  {
   "cell_type": "markdown",
   "metadata": {},
   "source": [
    "Сегмент В, начиная с середины времени, явно лидирует. Но подозрительным кажется, что есть резкий скачек, скорее всего аномально большой заказ слишком сильно повлиял на результат и нужно будет далее поработать с аномалиями."
   ]
  },
  {
   "cell_type": "code",
   "execution_count": 16,
   "metadata": {},
   "outputs": [
    {
     "data": {
      "text/plain": [
       "<matplotlib.legend.Legend at 0x7fd51f4528e0>"
      ]
     },
     "execution_count": 16,
     "metadata": {},
     "output_type": "execute_result"
    },
    {
     "data": {
      "image/png": "[encoded data removed]",
      "text/plain": [
       "<Figure size 504x288 with 1 Axes>"
      ]
     },
     "metadata": {
      "needs_background": "light"
     },
     "output_type": "display_data"
    }
   ],
   "source": [
    "#Построим график кумулятивного среднего чека по группам.\n",
    "\n",
    "plt.figure(figsize=(7, 4))\n",
    "plt.plot(cumulativeRevenueA['date'], cumulativeRevenueA['revenue']/cumulativeRevenueA['orders'], label='A')\n",
    "plt.plot(cumulativeRevenueB['date'], cumulativeRevenueB['revenue']/cumulativeRevenueB['orders'], label='B')\n",
    "plt.xticks(rotation = 45)\n",
    "plt.legend() "
   ]
  },
  {
   "cell_type": "markdown",
   "metadata": {},
   "source": [
    "В середине произошел резкий скачек в группе В (видимо действительно присутствует аномально дорогой заказ), но потои средний чек сегмента В убывает, а сегмента А - медленно возрастает. Нужен анализ выбросов. "
   ]
  },
  {
   "cell_type": "code",
   "execution_count": 17,
   "metadata": {},
   "outputs": [
    {
     "data": {
      "text/plain": [
       "<matplotlib.lines.Line2D at 0x7fd51f3efee0>"
      ]
     },
     "execution_count": 17,
     "metadata": {},
     "output_type": "execute_result"
    },
    {
     "data": {
      "image/png": "[encoded data removed]",
      "text/plain": [
       "<Figure size 504x288 with 1 Axes>"
      ]
     },
     "metadata": {
      "needs_background": "light"
     },
     "output_type": "display_data"
    }
   ],
   "source": [
    "#Построим график относительного изменения кумулятивного среднего чека группы B к группе A\n",
    "\n",
    "mergedCumulativeRevenue = cumulativeRevenueA[['date','revenue', 'orders']].merge(cumulativeRevenueB[['date','revenue', 'orders']], left_on='date', right_on='date', how='left', suffixes=['A', 'B'])\n",
    "\n",
    "plt.figure(figsize=(7, 4))\n",
    "plt.plot(mergedCumulativeRevenue['date'], ((mergedCumulativeRevenue['revenueB']/mergedCumulativeRevenue['ordersB'])/(mergedCumulativeRevenue['revenueA']/mergedCumulativeRevenue['ordersA']))-1, label=\"Относительное изменение кумулятивного среднего чека группы B к группе A\")\n",
    "plt.legend(bbox_to_anchor=(1.1 , -0.3))\n",
    "plt.xticks(rotation = 45)\n",
    "plt.axhline(y=0, color='black', linestyle='--')\n"
   ]
  },
  {
   "cell_type": "markdown",
   "metadata": {},
   "source": [
    "В начале теста группа B значительно проигрывала группе A, затем вырвалась вперёд. Потом её средний чек  снова падал, после - резко увеличился, потом постепенно стал убывать.\n",
    "В целом отношение ещё не установилось, но данные сегмента В скорее падают. Впрочем, сперва стоит проанализировать аномалии, возможно, они изменят картину, так как резкий рост в середине - это скорее всего аномально дорогой заказ в группе B."
   ]
  },
  {
   "cell_type": "code",
   "execution_count": 18,
   "metadata": {},
   "outputs": [
    {
     "data": {
      "text/plain": [
       "<matplotlib.legend.Legend at 0x7fd513b4ce20>"
      ]
     },
     "execution_count": 18,
     "metadata": {},
     "output_type": "execute_result"
    },
    {
     "data": {
      "image/png": "[encoded data removed]",
      "text/plain": [
       "<Figure size 504x288 with 1 Axes>"
      ]
     },
     "metadata": {
      "needs_background": "light"
     },
     "output_type": "display_data"
    }
   ],
   "source": [
    "#Построим график кумулятивного среднего количества заказов на посетителя по группам\n",
    "\n",
    "# считаем кумулятивную конверсию\n",
    "cumulativeData['conversion'] = cumulativeData['orders']/cumulativeData['visitors']\n",
    "\n",
    "# отделяем данные по группе A\n",
    "cumulativeDataA = cumulativeData[cumulativeData['group']=='A']\n",
    "\n",
    "# отделяем данные по группе B\n",
    "cumulativeDataB = cumulativeData[cumulativeData['group']=='B']\n",
    "\n",
    "# строим графики\n",
    "plt.figure(figsize=(7, 4))\n",
    "plt.plot(cumulativeDataA['date'], cumulativeDataA['conversion'], label='A')\n",
    "plt.plot(cumulativeDataB['date'], cumulativeDataB['conversion'], label='B')\n",
    "\n",
    "plt.xticks(rotation = 45)\n",
    "plt.legend() "
   ]
  },
  {
   "cell_type": "markdown",
   "metadata": {},
   "source": [
    "Покупатели группы В после колебаний в начале покупают больше, количество заказов больше, но резкий счкачек смущает."
   ]
  },
  {
   "cell_type": "code",
   "execution_count": 19,
   "metadata": {},
   "outputs": [
    {
     "data": {
      "text/plain": [
       "<matplotlib.legend.Legend at 0x7fd513aba2e0>"
      ]
     },
     "execution_count": 19,
     "metadata": {},
     "output_type": "execute_result"
    },
    {
     "data": {
      "image/png": "[encoded data removed]",
      "text/plain": [
       "<Figure size 504x288 with 1 Axes>"
      ]
     },
     "metadata": {
      "needs_background": "light"
     },
     "output_type": "display_data"
    }
   ],
   "source": [
    "#Постройте график относительного изменения кумулятивного среднего количества заказов \n",
    "#на посетителя группы B к группе A.\n",
    "\n",
    "plt.figure(figsize=(7, 4))\n",
    "mergedCumulativeConversions = cumulativeDataA[['date','conversion']].merge(cumulativeDataB[['date','conversion']], left_on='date', right_on='date', how='left', suffixes=['A', 'B'])\n",
    "\n",
    "plt.plot(mergedCumulativeConversions['date'], mergedCumulativeConversions['conversionB']/mergedCumulativeConversions['conversionA']-1, label=\"Относительный прирост конверсии группы B относительно группы A\")\n",
    "\n",
    "plt.xticks(rotation = 45)\n",
    "plt.axhline(y=0, color='black', linestyle='--')\n",
    "plt.axhline(y=0.1, color='grey', linestyle='--')\n",
    "plt.legend(bbox_to_anchor=(1 , -0.3))"
   ]
  },
  {
   "cell_type": "markdown",
   "metadata": {},
   "source": [
    "График окончательно не устаканился, но пользователи сегмента В в среднем заказывают действительно больше, но все тот же резкий скачек не вызывает доверия"
   ]
  },
  {
   "cell_type": "code",
   "execution_count": 20,
   "metadata": {},
   "outputs": [
    {
     "data": {
      "text/plain": [
       "<matplotlib.collections.PathCollection at 0x7fd513a36220>"
      ]
     },
     "execution_count": 20,
     "metadata": {},
     "output_type": "execute_result"
    },
    {
     "data": {
      "image/png": "[encoded data removed]",
      "text/plain": [
       "<Figure size 432x288 with 1 Axes>"
      ]
     },
     "metadata": {
      "needs_background": "light"
     },
     "output_type": "display_data"
    }
   ],
   "source": [
    "#Построим точечный график количества заказов по пользователям.\n",
    "\n",
    "ordersByUsers = (\n",
    "    orders.groupby('visitorid', as_index=False)\n",
    "    .agg({'transactionid': 'nunique'})\n",
    ")\n",
    "\n",
    "ordersByUsers.columns = ['userid', 'orders']\n",
    "\n",
    "x_values = pd.Series(range(0,len(ordersByUsers)))\n",
    "plt.scatter(x_values, ordersByUsers['orders']) "
   ]
  },
  {
   "cell_type": "markdown",
   "metadata": {},
   "source": [
    "Большенство пользователей делает не более 3-4 заказов."
   ]
  },
  {
   "cell_type": "code",
   "execution_count": 21,
   "metadata": {},
   "outputs": [
    {
     "name": "stdout",
     "output_type": "stream",
     "text": [
      "[1. 2.]\n"
     ]
    }
   ],
   "source": [
    "#Посчитаем 95-й и 99-й перцентили количества заказов на пользователя.\n",
    "\n",
    "print(np.percentile(ordersByUsers['orders'], [95, 99])) "
   ]
  },
  {
   "cell_type": "markdown",
   "metadata": {},
   "source": [
    "То есть всего 5% пользователей совершают более 2 заказов, и всего 1% - более 4.\n",
    "В качестве границы аномальных значений предлагаю выбрать 3 заказа (тогда мы отсечем примерно 2-3% пользователей)."
   ]
  },
  {
   "cell_type": "code",
   "execution_count": 22,
   "metadata": {},
   "outputs": [
    {
     "data": {
      "text/plain": [
       "<matplotlib.collections.PathCollection at 0x7fd513b2bfd0>"
      ]
     },
     "execution_count": 22,
     "metadata": {},
     "output_type": "execute_result"
    },
    {
     "data": {
      "image/png": "[encoded data removed]",
      "text/plain": [
       "<Figure size 432x288 with 1 Axes>"
      ]
     },
     "metadata": {
      "needs_background": "light"
     },
     "output_type": "display_data"
    }
   ],
   "source": [
    "#Построим точечный график стоимостей заказов.\n",
    "\n",
    "x_values = pd.Series(range(0,len(orders)))\n",
    "plt.scatter(x_values, orders['revenue'])"
   ]
  },
  {
   "cell_type": "markdown",
   "metadata": {},
   "source": [
    "Видим, что есть аномально большие значения, что подтверждает предположения выше."
   ]
  },
  {
   "cell_type": "code",
   "execution_count": 23,
   "metadata": {},
   "outputs": [
    {
     "name": "stdout",
     "output_type": "stream",
     "text": [
      "[26785. 53904.]\n"
     ]
    }
   ],
   "source": [
    "#Посчитайте 95-й и 99-й перцентили стоимости заказов.\n",
    "\n",
    "\n",
    "print(np.percentile(orders['revenue'], [95, 99])) "
   ]
  },
  {
   "cell_type": "markdown",
   "metadata": {},
   "source": [
    "Только 5% пользователей покупают на сумму больше 28000, и только 1% - выше 58233. \n",
    "В качестве границы аномалий считаю нужным взять значение 28000"
   ]
  },
  {
   "cell_type": "markdown",
   "metadata": {},
   "source": [
    "<font color='DarkBlue'>\n",
    "Сформулируем гипотезы. \n",
    "    \n",
    "    Нулевая: различий в среднем количестве заказов между группами нет. \n",
    "    Альтернативная: различия в среднем количестве заказов между группами есть.\n",
    "</font><br>"
   ]
  },
  {
   "cell_type": "code",
   "execution_count": 24,
   "metadata": {},
   "outputs": [
    {
     "name": "stdout",
     "output_type": "stream",
     "text": [
      "         date  ordersPerDateA  revenuePerDateA  ordersPerDateB  \\\n",
      "0  2019-08-01              23           142779              17   \n",
      "1  2019-08-02              19            91602              23   \n",
      "2  2019-08-03              24           112473              14   \n",
      "3  2019-08-04              11            41176              14   \n",
      "4  2019-08-05              22            86383              21   \n",
      "\n",
      "   revenuePerDateB  ordersCummulativeA  revenueCummulativeA  \\\n",
      "0            59758                  23               142779   \n",
      "1           162043                  42               234381   \n",
      "2            67049                  66               346854   \n",
      "3            96890                  77               388030   \n",
      "4            89908                  99               474413   \n",
      "\n",
      "   ordersCummulativeB  revenueCummulativeB  visitorsPerDateA  \\\n",
      "0                  17                59758               719   \n",
      "1                  40               221801               619   \n",
      "2                  54               288850               507   \n",
      "3                  68               385740               717   \n",
      "4                  89               475648               756   \n",
      "\n",
      "   visitorsPerDateB  visitorsCummulativeA  visitorsCummulativeB  \n",
      "0               713                   719                   713  \n",
      "1               581                  1338                  1294  \n",
      "2               509                  1845                  1803  \n",
      "3               770                  2562                  2573  \n",
      "4               707                  3318                  3280  \n",
      " \n",
      "0.011\n",
      "0.160\n"
     ]
    }
   ],
   "source": [
    "#Посчитаем статистическую значимость различий в среднем количестве заказов \n",
    "#на посетителя между группами по «сырым» данным. \n",
    "\n",
    "visitorsADaily = visitors[visitors['group'] == 'A'][['date', 'visitors']]\n",
    "visitorsADaily.columns = ['date', 'visitorsPerDateA']\n",
    "\n",
    "visitorsACummulative = visitorsADaily.apply(\n",
    "    lambda x: visitorsADaily[visitorsADaily['date'] <= x['date']].agg(\n",
    "        {'date': 'max', 'visitorsPerDateA': 'sum'}\n",
    "    ),\n",
    "    axis=1,\n",
    ")\n",
    "visitorsACummulative.columns = ['date', 'visitorsCummulativeA']\n",
    "\n",
    "visitorsBDaily = visitors[visitors['group'] == 'B'][['date', 'visitors']]\n",
    "visitorsBDaily.columns = ['date', 'visitorsPerDateB']\n",
    "\n",
    "visitorsBCummulative = visitorsBDaily.apply(\n",
    "    lambda x: visitorsBDaily[visitorsBDaily['date'] <= x['date']].agg(\n",
    "        {'date': 'max', 'visitorsPerDateB': 'sum'}\n",
    "    ),\n",
    "    axis=1,\n",
    ")\n",
    "visitorsBCummulative.columns = ['date', 'visitorsCummulativeB']\n",
    "\n",
    "ordersADaily = (\n",
    "    orders[orders['group'] == 'A'][['date', 'transactionid', 'visitorid', 'revenue']]\n",
    "    .groupby('date', as_index=False)\n",
    "    .agg({'transactionid': pd.Series.nunique, 'revenue': 'sum'})\n",
    ")\n",
    "ordersADaily.columns = ['date', 'ordersPerDateA', 'revenuePerDateA']\n",
    "\n",
    "ordersACummulative = ordersADaily.apply(\n",
    "    lambda x: ordersADaily[ordersADaily['date'] <= x['date']].agg(\n",
    "        {'date': 'max', 'ordersPerDateA': 'sum', 'revenuePerDateA': 'sum'}\n",
    "    ),\n",
    "    axis=1,\n",
    ").sort_values(by=['date'])\n",
    "ordersACummulative.columns = [\n",
    "    'date',\n",
    "    'ordersCummulativeA',\n",
    "    'revenueCummulativeA',\n",
    "]\n",
    "\n",
    "ordersBDaily = (\n",
    "    orders[orders['group'] == 'B'][['date', 'transactionid', 'visitorid', 'revenue']]\n",
    "    .groupby('date', as_index=False)\n",
    "    .agg({'transactionid': pd.Series.nunique, 'revenue': 'sum'})\n",
    ")\n",
    "ordersBDaily.columns = ['date', 'ordersPerDateB', 'revenuePerDateB']\n",
    "\n",
    "ordersBCummulative = ordersBDaily.apply(\n",
    "    lambda x: ordersBDaily[ordersBDaily['date'] <= x['date']].agg(\n",
    "        {'date': 'max', 'ordersPerDateB': 'sum', 'revenuePerDateB': 'sum'}\n",
    "    ),\n",
    "    axis=1,\n",
    ").sort_values(by=['date'])\n",
    "ordersBCummulative.columns = [\n",
    "    'date',\n",
    "    'ordersCummulativeB',\n",
    "    'revenueCummulativeB',\n",
    "]\n",
    "\n",
    "data = (\n",
    "    ordersADaily.merge(\n",
    "        ordersBDaily, left_on='date', right_on='date', how='left'\n",
    "    )\n",
    "    .merge(ordersACummulative, left_on='date', right_on='date', how='left')\n",
    "    .merge(ordersBCummulative, left_on='date', right_on='date', how='left')\n",
    "    .merge(visitorsADaily, left_on='date', right_on='date', how='left')\n",
    "    .merge(visitorsBDaily, left_on='date', right_on='date', how='left')\n",
    "    .merge(visitorsACummulative, left_on='date', right_on='date', how='left')\n",
    "    .merge(visitorsBCummulative, left_on='date', right_on='date', how='left')\n",
    ")\n",
    "\n",
    "print(data.head(5))\n",
    "\n",
    "ordersByUsersA = (\n",
    "    orders[orders['group'] == 'A']\n",
    "    .groupby('visitorid', as_index=False)\n",
    "    .agg({'transactionid': pd.Series.nunique})\n",
    ")\n",
    "ordersByUsersA.columns = ['visitorid', 'orders']\n",
    "\n",
    "ordersByUsersB = (\n",
    "    orders[orders['group'] == 'B']\n",
    "    .groupby('visitorid', as_index=False)\n",
    "    .agg({'transactionid': pd.Series.nunique})\n",
    ")\n",
    "ordersByUsersB.columns = ['visitorid', 'orders']\n",
    "\n",
    "sampleA = pd.concat(\n",
    "    [\n",
    "        ordersByUsersA['orders'],\n",
    "        pd.Series(\n",
    "            0,\n",
    "            index=np.arange(\n",
    "                data['visitorsPerDateA'].sum() - len(ordersByUsersA['orders'])\n",
    "            ),\n",
    "            name='orders',\n",
    "        ),\n",
    "    ],\n",
    "    axis=0,\n",
    ")\n",
    "\n",
    "sampleB = pd.concat(\n",
    "    [\n",
    "        ordersByUsersB['orders'],\n",
    "        pd.Series(\n",
    "            0,\n",
    "            index=np.arange(\n",
    "                data['visitorsPerDateB'].sum() - len(ordersByUsersB['orders'])\n",
    "            ),\n",
    "            name='orders',\n",
    "        ),\n",
    "    ],\n",
    "    axis=0,\n",
    ")\n",
    "\n",
    "print(' ')\n",
    "\n",
    "print(\"{0:.3f}\".format(st.mannwhitneyu(sampleA, sampleB)[1]))\n",
    "\n",
    "print(\"{0:.3f}\".format(sampleB.mean() / sampleA.mean() - 1))"
   ]
  },
  {
   "cell_type": "markdown",
   "metadata": {},
   "source": [
    "P-value меньше 0.05, значит есть смысл задуматься над отвержением нулевой гипотезы и считать, что в в среднем количестве заказов есть различия. Среднее количество заказов группы B значительно выше среднего количества заказов (на 13.8%) группы A на посетителя, но нужно не забывать о том, что на аданном этапе данные \"сырые\", с аномальными значениями"
   ]
  },
  {
   "cell_type": "markdown",
   "metadata": {},
   "source": [
    "<font color='DarkBlue'>\n",
    "Сформулируем гипотезы. \n",
    "    \n",
    "    Нулевая: различий в среднем чеке между группами нет. \n",
    "    Альтернативная: различия в среднем чеке между группами есть.\n",
    "</font><br>"
   ]
  },
  {
   "cell_type": "code",
   "execution_count": 25,
   "metadata": {},
   "outputs": [
    {
     "name": "stdout",
     "output_type": "stream",
     "text": [
      "0.829\n",
      "0.287\n"
     ]
    }
   ],
   "source": [
    "#Посчитаем статистическую значимость различий в среднем чеке заказа между группами по «сырым» данным.\n",
    "\n",
    "print('{0:.3f}'.format(st.mannwhitneyu(orders[orders['group']=='A']['revenue'], orders[orders['group']=='B']['revenue'])[1]))\n",
    "print('{0:.3f}'.format(orders[orders['group']=='B']['revenue'].mean()/orders[orders['group']=='A']['revenue'].mean()-1)) "
   ]
  },
  {
   "cell_type": "markdown",
   "metadata": {},
   "source": [
    "P-value значительно больше 0.05. Значит, причин отвергать нулевую гипотезу и считать, что в среднем чеке есть различия, нет. Однако, средний чек группы B значительно выше среднего чека группы A (на 25.9%). Скорее всего, как мы и предполагали раньше, в группе В есть аномально дорогой заказ."
   ]
  },
  {
   "cell_type": "code",
   "execution_count": 26,
   "metadata": {},
   "outputs": [
    {
     "name": "stdout",
     "output_type": "stream",
     "text": [
      "1099    148427295\n",
      "928     204675465\n",
      "684     358944393\n",
      "648     382846391\n",
      "751     689129267\n",
      "Name: visitorid, dtype: int64\n",
      "Количество аномальных пользователей 48\n",
      "Количество пользоватлелей с аномальными показателями примерно равно 4 %\n"
     ]
    }
   ],
   "source": [
    "# Очистим данные\n",
    "usersWithManyOrders = pd.concat(\n",
    "    [\n",
    "        ordersByUsersA[ordersByUsersA['orders'] > 3]['visitorid'],\n",
    "        ordersByUsersB[ordersByUsersB['orders'] > 3]['visitorid'],\n",
    "    ],\n",
    "    axis=0,\n",
    ")\n",
    "usersWithExpensiveOrders = orders[orders['revenue'] > 28000]['visitorid']\n",
    "abnormalUsers = (\n",
    "    pd.concat([usersWithManyOrders, usersWithExpensiveOrders], axis=0)\n",
    "    .drop_duplicates()\n",
    "    .sort_values()\n",
    ")\n",
    "print(abnormalUsers.head(5))\n",
    "print('Количество аномальных пользователей', abnormalUsers.shape[0]) \n",
    "print('Количество пользоватлелей с аномальными показателями примерно равно', round((abnormalUsers.shape[0] / sum_ord) * 100),'%')"
   ]
  },
  {
   "cell_type": "markdown",
   "metadata": {},
   "source": [
    "Процент аномальных пользователей не велик, поэтому можно проводить дальнейший анализ без них."
   ]
  },
  {
   "cell_type": "markdown",
   "metadata": {},
   "source": [
    "<font color='DarkBlue'>\n",
    "Сформулируем гипотезы. \n",
    "    \n",
    "    Нулевая: различий в среднем количестве заказов между группами нет по \"очищенным данным\". \n",
    "    Альтернативная: различия в количестве заказов между группами есть по \"очищенным данным\".\n",
    "</font><br>"
   ]
  },
  {
   "cell_type": "code",
   "execution_count": 27,
   "metadata": {},
   "outputs": [
    {
     "name": "stdout",
     "output_type": "stream",
     "text": [
      "0.013\n",
      "0.162\n"
     ]
    }
   ],
   "source": [
    "#Посчитаем статистическую значимость различий в среднем количестве заказов на посетителя \n",
    "#между группами по «очищенным» данным.\n",
    "\n",
    "sampleAFiltered = pd.concat(\n",
    "    [\n",
    "        ordersByUsersA[\n",
    "            np.logical_not(ordersByUsersA['visitorid'].isin(abnormalUsers))\n",
    "        ]['orders'],\n",
    "        pd.Series(\n",
    "            0,\n",
    "            index=np.arange(\n",
    "                data['visitorsPerDateA'].sum() - len(ordersByUsersA['orders'])\n",
    "            ),\n",
    "            name='orders',\n",
    "        ),\n",
    "    ],\n",
    "    axis=0,\n",
    ")\n",
    "\n",
    "sampleBFiltered = pd.concat(\n",
    "    [\n",
    "        ordersByUsersB[\n",
    "            np.logical_not(ordersByUsersB['visitorid'].isin(abnormalUsers))\n",
    "        ]['orders'],\n",
    "        pd.Series(\n",
    "            0,\n",
    "            index=np.arange(\n",
    "                data['visitorsPerDateB'].sum() - len(ordersByUsersB['orders'])\n",
    "            ),\n",
    "            name='orders',\n",
    "        ),\n",
    "    ],\n",
    "    axis=0,\n",
    ") \n",
    "\n",
    "print('{0:.3f}'.format(st.mannwhitneyu(sampleAFiltered, sampleBFiltered)[1]))\n",
    "print('{0:.3f}'.format(sampleBFiltered.mean()/sampleAFiltered.mean()-1))"
   ]
  },
  {
   "cell_type": "markdown",
   "metadata": {},
   "source": [
    "После \"очистки данных\" результаты среднего количества заказов на посетителя существенно не изменились. А значит, p-value все еще мал (меньше 0.05), и можно считать вероятность ошибочно отвергнуть нулевую гипотезу также мала."
   ]
  },
  {
   "cell_type": "markdown",
   "metadata": {},
   "source": [
    "<font color='DarkBlue'>\n",
    "Сформулируем гипотезы. \n",
    "    \n",
    "    Нулевая: различий в среднем чеке между группами нет по «очищенным» данным. \n",
    "    Альтернативная: различия в среднем чеке между группами по «очищенным» данным есть.\n",
    "</font><br>"
   ]
  },
  {
   "cell_type": "code",
   "execution_count": 28,
   "metadata": {},
   "outputs": [
    {
     "name": "stdout",
     "output_type": "stream",
     "text": [
      "0.862\n",
      "-0.028\n"
     ]
    }
   ],
   "source": [
    "# Посчитаем статистическую значимость различий в среднем чеке заказа \n",
    "# между группами по «очищенным» данным.\n",
    "\n",
    "print(\n",
    "    '{0:.3f}'.format(\n",
    "        st.mannwhitneyu(\n",
    "            orders[\n",
    "                np.logical_and(\n",
    "                    orders['group'] == 'A',\n",
    "                    np.logical_not(orders['visitorid'].isin(abnormalUsers)),\n",
    "                )\n",
    "            ]['revenue'],\n",
    "            orders[\n",
    "                np.logical_and(\n",
    "                    orders['group'] == 'B',\n",
    "                    np.logical_not(orders['visitorid'].isin(abnormalUsers)),\n",
    "                )\n",
    "            ]['revenue'],\n",
    "        )[1]\n",
    "    )\n",
    ")\n",
    "\n",
    "print(\n",
    "    \"{0:.3f}\".format(\n",
    "        orders[\n",
    "            np.logical_and(\n",
    "                orders['group'] == 'B',\n",
    "                np.logical_not(orders['visitorid'].isin(abnormalUsers)),\n",
    "            )\n",
    "        ]['revenue'].mean()\n",
    "        / orders[\n",
    "            np.logical_and(\n",
    "                orders['group'] == 'A',\n",
    "                np.logical_not(orders['visitorid'].isin(abnormalUsers)),\n",
    "            )\n",
    "        ]['revenue'].mean()\n",
    "        - 1\n",
    "    )\n",
    ")"
   ]
  },
  {
   "cell_type": "markdown",
   "metadata": {},
   "source": [
    "P-value увеличился и разница между сегментами сократилась и стала отрицательной. То есть вероятность того, что отвержение нулевой гипотезы будет неверным очень велика."
   ]
  }
 ],
 "metadata": {
  "ExecuteTimeLog": [
   {
    "duration": 1293,
    "start_time": "2023-04-30T20:05:22.660Z"
   },
   {
    "duration": 80,
    "start_time": "2023-04-30T20:05:23.955Z"
   },
   {
    "duration": 117,
    "start_time": "2023-04-30T20:05:39.950Z"
   },
   {
    "duration": 61,
    "start_time": "2023-04-30T20:05:48.746Z"
   },
   {
    "duration": 26,
    "start_time": "2023-04-30T20:05:54.049Z"
   },
   {
    "duration": 27,
    "start_time": "2023-04-30T20:06:09.150Z"
   },
   {
    "duration": 31,
    "start_time": "2023-04-30T20:06:22.774Z"
   },
   {
    "duration": 34,
    "start_time": "2023-04-30T20:06:37.497Z"
   },
   {
    "duration": 81,
    "start_time": "2023-04-30T20:08:42.944Z"
   },
   {
    "duration": 33,
    "start_time": "2023-04-30T20:33:29.826Z"
   },
   {
    "duration": 10,
    "start_time": "2023-04-30T20:33:39.687Z"
   },
   {
    "duration": 10,
    "start_time": "2023-04-30T20:36:06.429Z"
   },
   {
    "duration": 9,
    "start_time": "2023-04-30T20:39:27.703Z"
   },
   {
    "duration": 11,
    "start_time": "2023-04-30T20:39:43.069Z"
   },
   {
    "duration": 101,
    "start_time": "2023-04-30T21:05:43.730Z"
   },
   {
    "duration": 71,
    "start_time": "2023-04-30T21:08:04.750Z"
   },
   {
    "duration": 56,
    "start_time": "2023-04-30T21:08:42.288Z"
   },
   {
    "duration": 30,
    "start_time": "2023-04-30T21:08:52.040Z"
   },
   {
    "duration": 1245,
    "start_time": "2023-05-01T10:17:45.805Z"
   },
   {
    "duration": 71,
    "start_time": "2023-05-01T10:17:47.052Z"
   },
   {
    "duration": 12,
    "start_time": "2023-05-01T10:17:47.124Z"
   },
   {
    "duration": 10,
    "start_time": "2023-05-01T10:17:47.138Z"
   },
   {
    "duration": 139,
    "start_time": "2023-05-01T10:17:47.150Z"
   },
   {
    "duration": 55,
    "start_time": "2023-05-01T10:17:47.290Z"
   },
   {
    "duration": 433,
    "start_time": "2023-05-01T10:17:47.347Z"
   },
   {
    "duration": 3,
    "start_time": "2023-05-01T10:18:30.407Z"
   },
   {
    "duration": 676,
    "start_time": "2023-05-01T10:18:38.159Z"
   },
   {
    "duration": 295,
    "start_time": "2023-05-01T10:21:18.155Z"
   },
   {
    "duration": 28,
    "start_time": "2023-05-01T10:23:54.807Z"
   },
   {
    "duration": 482,
    "start_time": "2023-05-01T10:26:00.600Z"
   },
   {
    "duration": 621,
    "start_time": "2023-05-01T10:26:56.050Z"
   },
   {
    "duration": 603,
    "start_time": "2023-05-01T10:27:23.724Z"
   },
   {
    "duration": 436,
    "start_time": "2023-05-01T10:27:33.415Z"
   },
   {
    "duration": 440,
    "start_time": "2023-05-01T10:27:54.612Z"
   },
   {
    "duration": 412,
    "start_time": "2023-05-01T10:28:10.635Z"
   },
   {
    "duration": 453,
    "start_time": "2023-05-01T10:28:24.213Z"
   },
   {
    "duration": 437,
    "start_time": "2023-05-01T10:31:38.624Z"
   },
   {
    "duration": 477,
    "start_time": "2023-05-01T10:31:48.924Z"
   },
   {
    "duration": 138,
    "start_time": "2023-05-01T10:44:40.000Z"
   },
   {
    "duration": 147,
    "start_time": "2023-05-01T10:45:13.301Z"
   },
   {
    "duration": 65,
    "start_time": "2023-05-01T12:47:25.831Z"
   },
   {
    "duration": 1684,
    "start_time": "2023-05-01T12:47:39.236Z"
   },
   {
    "duration": 101,
    "start_time": "2023-05-01T12:47:40.923Z"
   },
   {
    "duration": 20,
    "start_time": "2023-05-01T12:47:41.027Z"
   },
   {
    "duration": 33,
    "start_time": "2023-05-01T12:47:41.049Z"
   },
   {
    "duration": 236,
    "start_time": "2023-05-01T12:47:41.085Z"
   },
   {
    "duration": 82,
    "start_time": "2023-05-01T12:47:41.323Z"
   },
   {
    "duration": 764,
    "start_time": "2023-05-01T12:47:41.407Z"
   },
   {
    "duration": 239,
    "start_time": "2023-05-01T12:47:42.173Z"
   },
   {
    "duration": 397,
    "start_time": "2023-05-01T12:47:42.418Z"
   },
   {
    "duration": 251,
    "start_time": "2023-05-01T12:48:02.424Z"
   },
   {
    "duration": 397,
    "start_time": "2023-05-01T12:48:22.549Z"
   },
   {
    "duration": 334,
    "start_time": "2023-05-01T12:53:06.233Z"
   },
   {
    "duration": 447,
    "start_time": "2023-05-01T12:54:36.409Z"
   },
   {
    "duration": 356,
    "start_time": "2023-05-01T12:55:27.400Z"
   },
   {
    "duration": 350,
    "start_time": "2023-05-01T12:55:45.191Z"
   },
   {
    "duration": 391,
    "start_time": "2023-05-01T12:56:05.982Z"
   },
   {
    "duration": 320,
    "start_time": "2023-05-01T12:56:50.145Z"
   },
   {
    "duration": 363,
    "start_time": "2023-05-01T12:57:09.367Z"
   },
   {
    "duration": 395,
    "start_time": "2023-05-01T12:57:20.171Z"
   },
   {
    "duration": 355,
    "start_time": "2023-05-01T12:57:31.057Z"
   },
   {
    "duration": 390,
    "start_time": "2023-05-01T12:57:40.392Z"
   },
   {
    "duration": 199,
    "start_time": "2023-05-01T13:27:49.822Z"
   },
   {
    "duration": 325,
    "start_time": "2023-05-01T13:34:14.454Z"
   },
   {
    "duration": 337,
    "start_time": "2023-05-01T13:34:27.442Z"
   },
   {
    "duration": 445,
    "start_time": "2023-05-01T13:34:35.586Z"
   },
   {
    "duration": 407,
    "start_time": "2023-05-01T13:40:26.162Z"
   },
   {
    "duration": 3,
    "start_time": "2023-05-01T13:42:00.494Z"
   },
   {
    "duration": 141,
    "start_time": "2023-05-01T13:47:25.291Z"
   },
   {
    "duration": 152,
    "start_time": "2023-05-01T13:48:25.695Z"
   },
   {
    "duration": 131,
    "start_time": "2023-05-01T13:54:29.486Z"
   },
   {
    "duration": 5,
    "start_time": "2023-05-01T14:34:35.617Z"
   },
   {
    "duration": 251,
    "start_time": "2023-05-01T15:09:57.641Z"
   },
   {
    "duration": 389,
    "start_time": "2023-05-01T15:12:19.615Z"
   },
   {
    "duration": 348,
    "start_time": "2023-05-01T15:13:54.710Z"
   },
   {
    "duration": 319,
    "start_time": "2023-05-01T15:13:59.977Z"
   },
   {
    "duration": 350,
    "start_time": "2023-05-01T15:14:08.816Z"
   },
   {
    "duration": 178,
    "start_time": "2023-05-01T15:14:47.138Z"
   },
   {
    "duration": 5,
    "start_time": "2023-05-01T15:14:51.459Z"
   },
   {
    "duration": 21,
    "start_time": "2023-05-01T15:14:53.941Z"
   },
   {
    "duration": 155,
    "start_time": "2023-05-01T15:16:36.470Z"
   },
   {
    "duration": 197,
    "start_time": "2023-05-01T15:17:12.463Z"
   },
   {
    "duration": 165,
    "start_time": "2023-05-01T15:18:07.399Z"
   },
   {
    "duration": 52,
    "start_time": "2023-05-03T08:06:48.336Z"
   },
   {
    "duration": 1594,
    "start_time": "2023-05-03T08:06:54.161Z"
   },
   {
    "duration": 74,
    "start_time": "2023-05-03T08:06:55.757Z"
   },
   {
    "duration": 16,
    "start_time": "2023-05-03T08:06:55.832Z"
   },
   {
    "duration": 24,
    "start_time": "2023-05-03T08:06:55.851Z"
   },
   {
    "duration": 84,
    "start_time": "2023-05-03T08:06:55.877Z"
   },
   {
    "duration": 64,
    "start_time": "2023-05-03T08:06:55.963Z"
   },
   {
    "duration": 655,
    "start_time": "2023-05-03T08:06:56.030Z"
   },
   {
    "duration": 208,
    "start_time": "2023-05-03T08:06:56.687Z"
   },
   {
    "duration": 377,
    "start_time": "2023-05-03T08:06:56.897Z"
   },
   {
    "duration": 261,
    "start_time": "2023-05-03T08:06:57.277Z"
   },
   {
    "duration": 317,
    "start_time": "2023-05-03T08:06:57.541Z"
   },
   {
    "duration": 147,
    "start_time": "2023-05-03T08:06:57.859Z"
   },
   {
    "duration": 6,
    "start_time": "2023-05-03T08:06:58.008Z"
   },
   {
    "duration": 274,
    "start_time": "2023-05-03T08:06:58.016Z"
   },
   {
    "duration": 5,
    "start_time": "2023-05-03T08:06:58.292Z"
   },
   {
    "duration": 1450,
    "start_time": "2023-05-03T09:29:36.209Z"
   },
   {
    "duration": 73,
    "start_time": "2023-05-03T09:29:37.662Z"
   },
   {
    "duration": 14,
    "start_time": "2023-05-03T09:29:37.738Z"
   },
   {
    "duration": 13,
    "start_time": "2023-05-03T09:29:37.755Z"
   },
   {
    "duration": 91,
    "start_time": "2023-05-03T09:29:37.769Z"
   },
   {
    "duration": 65,
    "start_time": "2023-05-03T09:29:37.862Z"
   },
   {
    "duration": 602,
    "start_time": "2023-05-03T09:29:37.928Z"
   },
   {
    "duration": 217,
    "start_time": "2023-05-03T09:29:38.532Z"
   },
   {
    "duration": 398,
    "start_time": "2023-05-03T09:29:38.751Z"
   },
   {
    "duration": 240,
    "start_time": "2023-05-03T09:29:39.152Z"
   },
   {
    "duration": 329,
    "start_time": "2023-05-03T09:29:39.395Z"
   },
   {
    "duration": 131,
    "start_time": "2023-05-03T09:29:39.725Z"
   },
   {
    "duration": 6,
    "start_time": "2023-05-03T09:29:39.858Z"
   },
   {
    "duration": 249,
    "start_time": "2023-05-03T09:29:39.865Z"
   },
   {
    "duration": 4,
    "start_time": "2023-05-03T09:29:40.116Z"
   },
   {
    "duration": 129,
    "start_time": "2023-05-03T09:29:40.122Z"
   },
   {
    "duration": 142,
    "start_time": "2023-05-03T09:41:00.285Z"
   },
   {
    "duration": 109,
    "start_time": "2023-05-03T09:41:39.649Z"
   },
   {
    "duration": 404,
    "start_time": "2023-05-03T09:42:24.393Z"
   },
   {
    "duration": 377,
    "start_time": "2023-05-03T09:43:09.402Z"
   },
   {
    "duration": 462,
    "start_time": "2023-05-03T09:43:51.659Z"
   },
   {
    "duration": 17,
    "start_time": "2023-05-03T10:05:33.793Z"
   },
   {
    "duration": 14,
    "start_time": "2023-05-03T10:05:45.439Z"
   },
   {
    "duration": 11,
    "start_time": "2023-05-03T10:17:03.333Z"
   },
   {
    "duration": 10,
    "start_time": "2023-05-03T10:17:32.220Z"
   },
   {
    "duration": 8,
    "start_time": "2023-05-03T10:20:13.512Z"
   },
   {
    "duration": 5,
    "start_time": "2023-05-03T10:20:48.332Z"
   },
   {
    "duration": 4,
    "start_time": "2023-05-03T10:21:45.024Z"
   },
   {
    "duration": 12,
    "start_time": "2023-05-03T10:22:01.954Z"
   },
   {
    "duration": 9,
    "start_time": "2023-05-03T10:22:19.418Z"
   },
   {
    "duration": 11,
    "start_time": "2023-05-03T10:23:27.254Z"
   },
   {
    "duration": 32,
    "start_time": "2023-05-03T10:33:37.522Z"
   },
   {
    "duration": 21,
    "start_time": "2023-05-03T10:39:31.523Z"
   },
   {
    "duration": 26,
    "start_time": "2023-05-03T10:39:45.224Z"
   },
   {
    "duration": 1330,
    "start_time": "2023-05-03T10:40:06.911Z"
   },
   {
    "duration": 41,
    "start_time": "2023-05-03T10:40:08.248Z"
   },
   {
    "duration": 31,
    "start_time": "2023-05-03T10:40:08.292Z"
   },
   {
    "duration": 19,
    "start_time": "2023-05-03T10:40:08.325Z"
   },
   {
    "duration": 44,
    "start_time": "2023-05-03T10:40:08.348Z"
   },
   {
    "duration": 10,
    "start_time": "2023-05-03T10:40:08.405Z"
   },
   {
    "duration": 22,
    "start_time": "2023-05-03T10:40:08.430Z"
   },
   {
    "duration": 663,
    "start_time": "2023-05-03T10:40:08.453Z"
   },
   {
    "duration": 224,
    "start_time": "2023-05-03T10:40:09.128Z"
   },
   {
    "duration": 391,
    "start_time": "2023-05-03T10:40:09.355Z"
   },
   {
    "duration": 257,
    "start_time": "2023-05-03T10:40:09.748Z"
   },
   {
    "duration": 335,
    "start_time": "2023-05-03T10:40:10.008Z"
   },
   {
    "duration": 138,
    "start_time": "2023-05-03T10:40:10.348Z"
   },
   {
    "duration": 13,
    "start_time": "2023-05-03T10:40:10.496Z"
   },
   {
    "duration": 154,
    "start_time": "2023-05-03T10:40:10.517Z"
   },
   {
    "duration": 5,
    "start_time": "2023-05-03T10:40:10.673Z"
   },
   {
    "duration": 508,
    "start_time": "2023-05-03T10:40:10.680Z"
   },
   {
    "duration": 31,
    "start_time": "2023-05-03T10:40:11.190Z"
   },
   {
    "duration": 1453,
    "start_time": "2023-05-03T10:40:11.225Z"
   },
   {
    "duration": 0,
    "start_time": "2023-05-03T10:40:12.680Z"
   },
   {
    "duration": 0,
    "start_time": "2023-05-03T10:40:12.682Z"
   },
   {
    "duration": 13,
    "start_time": "2023-05-03T10:43:14.414Z"
   },
   {
    "duration": 30,
    "start_time": "2023-05-03T10:43:16.735Z"
   },
   {
    "duration": 23,
    "start_time": "2023-05-03T10:43:18.916Z"
   },
   {
    "duration": 4,
    "start_time": "2023-05-03T10:59:49.739Z"
   },
   {
    "duration": 4,
    "start_time": "2023-05-03T11:00:02.162Z"
   },
   {
    "duration": 1329,
    "start_time": "2023-05-03T12:01:58.618Z"
   },
   {
    "duration": 89,
    "start_time": "2023-05-03T12:01:59.949Z"
   },
   {
    "duration": 12,
    "start_time": "2023-05-03T12:02:00.040Z"
   },
   {
    "duration": 24,
    "start_time": "2023-05-03T12:02:00.053Z"
   },
   {
    "duration": 114,
    "start_time": "2023-05-03T12:02:00.079Z"
   },
   {
    "duration": 4,
    "start_time": "2023-05-03T12:02:00.194Z"
   },
   {
    "duration": 86,
    "start_time": "2023-05-03T12:02:00.199Z"
   },
   {
    "duration": 513,
    "start_time": "2023-05-03T12:02:00.286Z"
   },
   {
    "duration": 190,
    "start_time": "2023-05-03T12:02:00.801Z"
   },
   {
    "duration": 374,
    "start_time": "2023-05-03T12:02:00.992Z"
   },
   {
    "duration": 190,
    "start_time": "2023-05-03T12:02:01.367Z"
   },
   {
    "duration": 283,
    "start_time": "2023-05-03T12:02:01.559Z"
   },
   {
    "duration": 108,
    "start_time": "2023-05-03T12:02:01.848Z"
   },
   {
    "duration": 4,
    "start_time": "2023-05-03T12:02:01.959Z"
   },
   {
    "duration": 202,
    "start_time": "2023-05-03T12:02:01.965Z"
   },
   {
    "duration": 4,
    "start_time": "2023-05-03T12:02:02.168Z"
   },
   {
    "duration": 359,
    "start_time": "2023-05-03T12:02:02.173Z"
   },
   {
    "duration": 16,
    "start_time": "2023-05-03T12:02:02.533Z"
   },
   {
    "duration": 42,
    "start_time": "2023-05-03T12:02:02.551Z"
   },
   {
    "duration": 38,
    "start_time": "2023-05-03T12:02:02.595Z"
   },
   {
    "duration": 41,
    "start_time": "2023-05-03T12:02:02.635Z"
   },
   {
    "duration": 1410,
    "start_time": "2023-05-08T10:55:19.624Z"
   },
   {
    "duration": 89,
    "start_time": "2023-05-08T10:55:21.037Z"
   },
   {
    "duration": 16,
    "start_time": "2023-05-08T10:55:21.128Z"
   },
   {
    "duration": 20,
    "start_time": "2023-05-08T10:55:21.146Z"
   },
   {
    "duration": 97,
    "start_time": "2023-05-08T10:55:21.168Z"
   },
   {
    "duration": 5,
    "start_time": "2023-05-08T10:55:21.267Z"
   },
   {
    "duration": 85,
    "start_time": "2023-05-08T10:55:21.274Z"
   },
   {
    "duration": 102,
    "start_time": "2023-05-08T10:55:24.960Z"
   },
   {
    "duration": 7,
    "start_time": "2023-05-08T10:56:17.960Z"
   },
   {
    "duration": 69,
    "start_time": "2023-05-08T11:58:26.027Z"
   },
   {
    "duration": 13,
    "start_time": "2023-05-08T11:58:41.312Z"
   },
   {
    "duration": 3,
    "start_time": "2023-05-08T11:58:51.067Z"
   },
   {
    "duration": 32,
    "start_time": "2023-05-08T11:58:51.073Z"
   },
   {
    "duration": 9,
    "start_time": "2023-05-08T11:58:51.107Z"
   },
   {
    "duration": 28,
    "start_time": "2023-05-08T11:58:51.118Z"
   },
   {
    "duration": 50,
    "start_time": "2023-05-08T11:58:51.148Z"
   },
   {
    "duration": 3,
    "start_time": "2023-05-08T11:58:51.200Z"
   },
   {
    "duration": 22,
    "start_time": "2023-05-08T11:58:51.205Z"
   },
   {
    "duration": 7,
    "start_time": "2023-05-08T11:58:51.228Z"
   },
   {
    "duration": 30,
    "start_time": "2023-05-08T11:58:51.239Z"
   },
   {
    "duration": 11,
    "start_time": "2023-05-08T11:58:59.494Z"
   },
   {
    "duration": 14,
    "start_time": "2023-05-08T12:01:14.117Z"
   },
   {
    "duration": 10,
    "start_time": "2023-05-08T12:01:59.083Z"
   },
   {
    "duration": 8,
    "start_time": "2023-05-08T12:02:31.305Z"
   },
   {
    "duration": 3,
    "start_time": "2023-05-08T12:02:46.799Z"
   },
   {
    "duration": 47,
    "start_time": "2023-05-08T12:02:46.805Z"
   },
   {
    "duration": 11,
    "start_time": "2023-05-08T12:02:46.855Z"
   },
   {
    "duration": 14,
    "start_time": "2023-05-08T12:02:46.867Z"
   },
   {
    "duration": 45,
    "start_time": "2023-05-08T12:02:46.883Z"
   },
   {
    "duration": 4,
    "start_time": "2023-05-08T12:02:46.930Z"
   },
   {
    "duration": 39,
    "start_time": "2023-05-08T12:02:46.935Z"
   },
   {
    "duration": 7,
    "start_time": "2023-05-08T12:02:46.976Z"
   },
   {
    "duration": 10,
    "start_time": "2023-05-08T12:02:46.985Z"
   },
   {
    "duration": 8,
    "start_time": "2023-05-08T12:02:49.374Z"
   },
   {
    "duration": 9,
    "start_time": "2023-05-08T12:03:46.048Z"
   },
   {
    "duration": 76,
    "start_time": "2023-05-08T12:04:02.915Z"
   },
   {
    "duration": 10,
    "start_time": "2023-05-08T12:05:17.603Z"
   },
   {
    "duration": 5,
    "start_time": "2023-05-08T12:05:43.546Z"
   },
   {
    "duration": 9,
    "start_time": "2023-05-08T12:06:22.380Z"
   },
   {
    "duration": 10,
    "start_time": "2023-05-08T12:07:31.657Z"
   },
   {
    "duration": 11,
    "start_time": "2023-05-08T12:07:53.490Z"
   },
   {
    "duration": 10,
    "start_time": "2023-05-08T12:09:10.934Z"
   },
   {
    "duration": 7,
    "start_time": "2023-05-08T12:09:17.874Z"
   },
   {
    "duration": 5,
    "start_time": "2023-05-08T12:10:10.271Z"
   },
   {
    "duration": 4,
    "start_time": "2023-05-08T12:10:40.154Z"
   },
   {
    "duration": 4,
    "start_time": "2023-05-08T12:18:50.381Z"
   },
   {
    "duration": 4,
    "start_time": "2023-05-08T12:19:39.184Z"
   },
   {
    "duration": 9,
    "start_time": "2023-05-08T12:23:47.592Z"
   },
   {
    "duration": 16,
    "start_time": "2023-05-08T12:23:55.200Z"
   },
   {
    "duration": 9,
    "start_time": "2023-05-08T12:25:22.213Z"
   },
   {
    "duration": 1164,
    "start_time": "2023-05-08T14:32:49.132Z"
   },
   {
    "duration": 97,
    "start_time": "2023-05-08T14:32:50.298Z"
   },
   {
    "duration": 10,
    "start_time": "2023-05-08T14:32:50.396Z"
   },
   {
    "duration": 9,
    "start_time": "2023-05-08T14:32:50.407Z"
   },
   {
    "duration": 106,
    "start_time": "2023-05-08T14:32:50.417Z"
   },
   {
    "duration": 3,
    "start_time": "2023-05-08T14:32:50.525Z"
   },
   {
    "duration": 79,
    "start_time": "2023-05-08T14:32:50.529Z"
   },
   {
    "duration": 4,
    "start_time": "2023-05-08T14:32:50.610Z"
   },
   {
    "duration": 15,
    "start_time": "2023-05-08T14:32:50.616Z"
   },
   {
    "duration": 4,
    "start_time": "2023-05-08T14:32:50.632Z"
   },
   {
    "duration": 13,
    "start_time": "2023-05-08T14:32:50.638Z"
   },
   {
    "duration": 131,
    "start_time": "2023-05-08T14:32:53.949Z"
   },
   {
    "duration": 19,
    "start_time": "2023-05-08T15:24:51.648Z"
   },
   {
    "duration": 18,
    "start_time": "2023-05-08T15:25:59.944Z"
   },
   {
    "duration": 97,
    "start_time": "2023-05-08T15:26:16.221Z"
   },
   {
    "duration": 135,
    "start_time": "2023-05-08T15:26:47.406Z"
   },
   {
    "duration": 23,
    "start_time": "2023-05-08T15:27:48.171Z"
   },
   {
    "duration": 20,
    "start_time": "2023-05-08T15:28:13.092Z"
   },
   {
    "duration": 22,
    "start_time": "2023-05-08T15:28:23.433Z"
   },
   {
    "duration": 16,
    "start_time": "2023-05-08T15:28:56.917Z"
   },
   {
    "duration": 17,
    "start_time": "2023-05-08T15:29:07.837Z"
   },
   {
    "duration": 17,
    "start_time": "2023-05-08T15:29:53.228Z"
   },
   {
    "duration": 12,
    "start_time": "2023-05-08T15:30:43.630Z"
   },
   {
    "duration": 14,
    "start_time": "2023-05-08T15:31:30.734Z"
   },
   {
    "duration": 24,
    "start_time": "2023-05-08T15:31:46.169Z"
   },
   {
    "duration": 11,
    "start_time": "2023-05-08T15:38:01.005Z"
   },
   {
    "duration": 80,
    "start_time": "2023-05-08T15:38:22.823Z"
   },
   {
    "duration": 86,
    "start_time": "2023-05-08T15:40:41.660Z"
   },
   {
    "duration": 8,
    "start_time": "2023-05-08T15:42:10.518Z"
   },
   {
    "duration": 10,
    "start_time": "2023-05-08T15:42:19.897Z"
   },
   {
    "duration": 10,
    "start_time": "2023-05-08T15:43:11.755Z"
   },
   {
    "duration": 6,
    "start_time": "2023-05-08T15:43:56.748Z"
   },
   {
    "duration": 94,
    "start_time": "2023-05-08T15:48:54.223Z"
   },
   {
    "duration": 2,
    "start_time": "2023-05-08T15:49:01.616Z"
   },
   {
    "duration": 97,
    "start_time": "2023-05-08T15:49:01.621Z"
   },
   {
    "duration": 64,
    "start_time": "2023-05-08T15:49:01.720Z"
   },
   {
    "duration": 67,
    "start_time": "2023-05-08T15:49:01.786Z"
   },
   {
    "duration": 90,
    "start_time": "2023-05-08T15:49:01.855Z"
   },
   {
    "duration": 3,
    "start_time": "2023-05-08T15:49:01.946Z"
   },
   {
    "duration": 52,
    "start_time": "2023-05-08T15:49:01.951Z"
   },
   {
    "duration": 5,
    "start_time": "2023-05-08T15:49:02.005Z"
   },
   {
    "duration": 22,
    "start_time": "2023-05-08T15:49:02.012Z"
   },
   {
    "duration": 30,
    "start_time": "2023-05-08T15:49:02.036Z"
   },
   {
    "duration": 61,
    "start_time": "2023-05-08T15:49:02.069Z"
   },
   {
    "duration": 52,
    "start_time": "2023-05-08T15:49:02.132Z"
   },
   {
    "duration": 100,
    "start_time": "2023-05-08T15:49:02.185Z"
   },
   {
    "duration": 10,
    "start_time": "2023-05-08T15:49:02.286Z"
   },
   {
    "duration": 503,
    "start_time": "2023-05-08T15:49:02.298Z"
   },
   {
    "duration": 159,
    "start_time": "2023-05-08T15:49:02.802Z"
   },
   {
    "duration": 323,
    "start_time": "2023-05-08T15:49:02.962Z"
   },
   {
    "duration": 169,
    "start_time": "2023-05-08T15:49:03.287Z"
   },
   {
    "duration": 285,
    "start_time": "2023-05-08T15:49:03.458Z"
   },
   {
    "duration": 123,
    "start_time": "2023-05-08T15:49:03.745Z"
   },
   {
    "duration": 16,
    "start_time": "2023-05-08T15:49:03.870Z"
   },
   {
    "duration": 111,
    "start_time": "2023-05-08T15:49:03.888Z"
   },
   {
    "duration": 5,
    "start_time": "2023-05-08T15:49:04.000Z"
   },
   {
    "duration": 385,
    "start_time": "2023-05-08T15:49:04.007Z"
   },
   {
    "duration": 8,
    "start_time": "2023-05-08T15:49:04.394Z"
   },
   {
    "duration": 9,
    "start_time": "2023-05-08T15:49:04.403Z"
   },
   {
    "duration": 99,
    "start_time": "2023-05-08T15:50:52.762Z"
   },
   {
    "duration": 1006,
    "start_time": "2023-05-08T16:03:40.819Z"
   },
   {
    "duration": 34,
    "start_time": "2023-05-08T16:03:41.827Z"
   },
   {
    "duration": 19,
    "start_time": "2023-05-08T16:03:41.862Z"
   },
   {
    "duration": 10,
    "start_time": "2023-05-08T16:03:41.885Z"
   },
   {
    "duration": 53,
    "start_time": "2023-05-08T16:03:41.896Z"
   },
   {
    "duration": 3,
    "start_time": "2023-05-08T16:03:41.950Z"
   },
   {
    "duration": 23,
    "start_time": "2023-05-08T16:03:41.954Z"
   },
   {
    "duration": 7,
    "start_time": "2023-05-08T16:03:41.978Z"
   },
   {
    "duration": 7,
    "start_time": "2023-05-08T16:03:41.988Z"
   },
   {
    "duration": 3,
    "start_time": "2023-05-08T16:03:41.998Z"
   },
   {
    "duration": 9,
    "start_time": "2023-05-08T16:03:42.002Z"
   },
   {
    "duration": 11,
    "start_time": "2023-05-08T16:03:42.012Z"
   },
   {
    "duration": 106,
    "start_time": "2023-05-08T16:03:42.024Z"
   },
   {
    "duration": 10,
    "start_time": "2023-05-08T16:03:42.131Z"
   },
   {
    "duration": 469,
    "start_time": "2023-05-08T16:03:42.142Z"
   },
   {
    "duration": 173,
    "start_time": "2023-05-08T16:03:42.612Z"
   },
   {
    "duration": 268,
    "start_time": "2023-05-08T16:03:42.787Z"
   },
   {
    "duration": 178,
    "start_time": "2023-05-08T16:03:43.056Z"
   },
   {
    "duration": 309,
    "start_time": "2023-05-08T16:03:43.236Z"
   },
   {
    "duration": 115,
    "start_time": "2023-05-08T16:03:43.546Z"
   },
   {
    "duration": 22,
    "start_time": "2023-05-08T16:03:43.662Z"
   },
   {
    "duration": 104,
    "start_time": "2023-05-08T16:03:43.685Z"
   },
   {
    "duration": 4,
    "start_time": "2023-05-08T16:03:43.791Z"
   },
   {
    "duration": 346,
    "start_time": "2023-05-08T16:03:43.797Z"
   },
   {
    "duration": 8,
    "start_time": "2023-05-08T16:03:44.144Z"
   },
   {
    "duration": 27,
    "start_time": "2023-05-08T16:03:44.154Z"
   },
   {
    "duration": 30,
    "start_time": "2023-05-08T16:03:44.185Z"
   },
   {
    "duration": 10,
    "start_time": "2023-05-08T16:03:44.218Z"
   },
   {
    "duration": 1367,
    "start_time": "2023-05-09T05:25:01.154Z"
   },
   {
    "duration": 34,
    "start_time": "2023-05-09T05:25:02.524Z"
   },
   {
    "duration": 12,
    "start_time": "2023-05-09T05:25:02.560Z"
   },
   {
    "duration": 15,
    "start_time": "2023-05-09T05:25:02.574Z"
   },
   {
    "duration": 39,
    "start_time": "2023-05-09T05:25:02.591Z"
   },
   {
    "duration": 4,
    "start_time": "2023-05-09T05:25:02.632Z"
   },
   {
    "duration": 26,
    "start_time": "2023-05-09T05:25:02.638Z"
   },
   {
    "duration": 4,
    "start_time": "2023-05-09T05:25:02.667Z"
   },
   {
    "duration": 15,
    "start_time": "2023-05-09T05:25:02.673Z"
   },
   {
    "duration": 7,
    "start_time": "2023-05-09T05:25:02.691Z"
   },
   {
    "duration": 19,
    "start_time": "2023-05-09T05:25:02.700Z"
   },
   {
    "duration": 21,
    "start_time": "2023-05-09T05:25:02.720Z"
   },
   {
    "duration": 108,
    "start_time": "2023-05-09T05:25:02.742Z"
   },
   {
    "duration": 12,
    "start_time": "2023-05-09T05:25:02.852Z"
   },
   {
    "duration": 568,
    "start_time": "2023-05-09T05:25:02.866Z"
   },
   {
    "duration": 188,
    "start_time": "2023-05-09T05:25:03.436Z"
   },
   {
    "duration": 308,
    "start_time": "2023-05-09T05:25:03.626Z"
   },
   {
    "duration": 205,
    "start_time": "2023-05-09T05:25:03.935Z"
   },
   {
    "duration": 298,
    "start_time": "2023-05-09T05:25:04.142Z"
   },
   {
    "duration": 155,
    "start_time": "2023-05-09T05:25:04.442Z"
   },
   {
    "duration": 5,
    "start_time": "2023-05-09T05:25:04.598Z"
   },
   {
    "duration": 225,
    "start_time": "2023-05-09T05:25:04.604Z"
   },
   {
    "duration": 4,
    "start_time": "2023-05-09T05:25:04.831Z"
   },
   {
    "duration": 354,
    "start_time": "2023-05-09T05:25:04.837Z"
   },
   {
    "duration": 9,
    "start_time": "2023-05-09T05:25:05.193Z"
   },
   {
    "duration": 12,
    "start_time": "2023-05-09T05:25:05.203Z"
   },
   {
    "duration": 25,
    "start_time": "2023-05-09T05:25:05.216Z"
   },
   {
    "duration": 12,
    "start_time": "2023-05-09T05:25:05.244Z"
   }
  ],
  "kernelspec": {
   "display_name": "Python 3 (ipykernel)",
   "language": "python",
   "name": "python3"
  },
  "language_info": {
   "codemirror_mode": {
    "name": "ipython",
    "version": 3
   },
   "file_extension": ".py",
   "mimetype": "text/x-python",
   "name": "python",
   "nbconvert_exporter": "python",
   "pygments_lexer": "ipython3",
   "version": "3.9.5"
  },
  "toc": {
   "base_numbering": 1,
   "nav_menu": {},
   "number_sections": true,
   "sideBar": true,
   "skip_h1_title": true,
   "title_cell": "Table of Contents",
   "title_sidebar": "Contents",
   "toc_cell": false,
   "toc_position": {},
   "toc_section_display": true,
   "toc_window_display": false
  }
 },
 "nbformat": 4,
 "nbformat_minor": 2
}
